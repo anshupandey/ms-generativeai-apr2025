{
  "cells": [
    {
      "cell_type": "markdown",
      "metadata": {
        "colab_type": "text",
        "id": "view-in-github"
      },
      "source": [
        "<a href=\"https://colab.research.google.com/github/anshupandey/ms-generativeai-apr2025/blob/main/code8_parallel_function_calling.ipynb\" target=\"_parent\"><img src=\"https://colab.research.google.com/assets/colab-badge.svg\" alt=\"Open In Colab\"/></a>"
      ]
    },
    {
      "cell_type": "markdown",
      "metadata": {
        "id": "gbCxadJVx88B"
      },
      "source": [
        "# Working with Parallel Function Calls and Multiple Function Responses"
      ]
    },
    {
      "cell_type": "markdown",
      "metadata": {
        "id": "CkHPv2myT2cx"
      },
      "source": [
        "## Overview\n",
        "\n",
        "Funciton Calling lets you create a description of a function in your code, then pass that description to a language model in a request. The response from the model includes the name of a function that matches the description and the arguments to call it with.\n",
        "\n",
        "In this tutorial, you'll learn how to work with parallel function calling including:\n",
        "    \n",
        "- Handling parallel function calls for repeated functions\n",
        "- Working with parallel function calls across multiple functions\n",
        "- Extracting multiple function calls from a Gemini response\n",
        "- Calling multiple functions and returning them to Gemini\n",
        "\n",
        "### What is parallel function calling?\n",
        "\n",
        "In previous versions of LLMs, it would return two or more chained function calls if the model determined that more than one function call was needed before returning a natural language summary. Here, a chained function call means that you get the first function call response, return the API data to Gemini, get a second function call response, return the API data to Gemini, and so on.\n",
        "\n",
        "In recent versions of specific Language models (from May 2024 and on), most language models have the ability to return two or more function calls in parallel (i.e., two or more function call responses within the first function call response object). Parallel function calling allows you to fan out and parallelize your API calls or other actions that you perform in your application code, so you don't have to work through each function call response and return one-by-one!\n",
        "\n",
        "\n",
        "<img src=\"https://storage.googleapis.com/github-repo/generative-ai/gemini/function-calling/parallel-function-calling-in-gemini.png\">"
      ]
    },
    {
      "cell_type": "code",
      "execution_count": 1,
      "metadata": {
        "colab": {
          "base_uri": "https://localhost:8080/"
        },
        "id": "nBMVh0ldtsDP",
        "outputId": "5ee2bb8f-840f-4094-eec8-1dcfcd8da98f"
      },
      "outputs": [],
      "source": [
        "!pip install wikipedia --quiet"
      ]
    },
    {
      "cell_type": "code",
      "execution_count": 2,
      "metadata": {
        "id": "OFag1daziout"
      },
      "outputs": [],
      "source": [
        "from openai import OpenAI\n",
        "client = OpenAI()"
      ]
    },
    {
      "cell_type": "markdown",
      "metadata": {
        "id": "o77Xl_JDjvYf"
      },
      "source": [
        "### Define helper function"
      ]
    },
    {
      "cell_type": "code",
      "execution_count": 3,
      "metadata": {
        "id": "izsb1jgbuWnM"
      },
      "outputs": [],
      "source": [
        "def extract_tool_calls(response: dict):\n",
        "    tool_calls = []\n",
        "    tool_call = response.choices[0].message.tool_calls\n",
        "    if tool_call:\n",
        "        for tool in tool_call:\n",
        "            function_name = tool.function.name\n",
        "            function_args = eval(tool.function.arguments)  # Safely convert string to dictionary\n",
        "            function_call_dict = {function_name: function_args}\n",
        "            function_call_dict['id'] = tool.id\n",
        "            tool_calls.append(function_call_dict)\n",
        "\n",
        "    return tool_calls"
      ]
    },
    {
      "cell_type": "markdown",
      "metadata": {
        "id": "j3KHAr6BsJY6"
      },
      "source": [
        "## Example: Parallel function calls on the same function\n",
        "\n",
        "A great use case for parallel function calling is when you have a function that only accepts one parameter per API call and you need to make repeated calls to that function.\n",
        "\n",
        "With Parallel Function Calling, rather than having to send N number of API requests to LLM for N number function calls, instead you can send a single API request to LLM, receive N number of Function Call Responses within a single response, make N number of external API calls in your code, then return all of the API responses to LLM in bulk. And you can do all of this without any extra configuration in your function declarations, tools, or requests to LLM.\n",
        "\n",
        "In this example, you'll do exactly that and use Parallel Function Calling in LLM to ask about multiple topics on [Wikipedia](https://www.wikipedia.org/). Let's get started!\n"
      ]
    },
    {
      "cell_type": "code",
      "execution_count": 4,
      "metadata": {
        "id": "E82hDrsVutvP"
      },
      "outputs": [],
      "source": [
        "tools = [\n",
        "    {\n",
        "        \"type\": \"function\",\n",
        "        \"function\": {\n",
        "            \"name\": \"search_wikipedia\",\n",
        "            \"description\": \"Search for articles or any other relevant information on Wikipedia'\",\n",
        "            \"parameters\": {\n",
        "                \"type\": \"object\",\n",
        "                \"properties\": {\n",
        "                    \"query\": {\n",
        "                        \"type\": \"string\",\n",
        "                        \"description\": \"Query to search for on Wikipedia\"\n",
        "                    }\n",
        "                },\n",
        "                \"required\": [\"query\"],\n",
        "                \"additionalProperties\": False\n",
        "            }\n",
        "        }\n",
        "    }\n",
        "]"
      ]
    },
    {
      "cell_type": "code",
      "execution_count": 7,
      "metadata": {
        "id": "t6wL8go_uvvJ"
      },
      "outputs": [],
      "source": [
        "### Send prompt to OpenAI GPT-4o with function calling\n",
        "prompt = \"Search for articles related to solar panels, renewable energy, and battery storage and provide a summary of your findings\""
      ]
    },
    {
      "cell_type": "code",
      "execution_count": 8,
      "metadata": {
        "id": "xxLnBJGiuyZi"
      },
      "outputs": [],
      "source": [
        "response = client.chat.completions.create(\n",
        "    model=\"gpt-4o\",\n",
        "    messages=[\n",
        "        {\"role\": \"system\", \"content\": \"You are a helpful assistant.\"},\n",
        "        {\"role\": \"user\", \"content\": prompt}\n",
        "    ],\n",
        "    tools=tools,\n",
        "    tool_choice=\"auto\",\n",
        ")\n"
      ]
    },
    {
      "cell_type": "code",
      "execution_count": 9,
      "metadata": {
        "colab": {
          "base_uri": "https://localhost:8080/"
        },
        "id": "WUpmzF8rzV92",
        "outputId": "c7d0cf0d-844f-40ea-93af-b591768e1e0f"
      },
      "outputs": [
        {
          "data": {
            "text/plain": [
              "[ChatCompletionMessageToolCall(id='call_xyNY1JAVJbwXdA38XnzzEHbm', function=Function(arguments='{\"query\": \"solar panels\"}', name='search_wikipedia'), type='function'),\n",
              " ChatCompletionMessageToolCall(id='call_oY5JxRgQa0AAf7itFtNiGxDa', function=Function(arguments='{\"query\": \"renewable energy\"}', name='search_wikipedia'), type='function'),\n",
              " ChatCompletionMessageToolCall(id='call_SjRvmCE1MXkoSb19k3sWWdnC', function=Function(arguments='{\"query\": \"battery storage\"}', name='search_wikipedia'), type='function')]"
            ]
          },
          "execution_count": 9,
          "metadata": {},
          "output_type": "execute_result"
        }
      ],
      "source": [
        "response.choices[0].message.tool_calls"
      ]
    },
    {
      "cell_type": "code",
      "execution_count": 10,
      "metadata": {
        "colab": {
          "base_uri": "https://localhost:8080/"
        },
        "id": "ZVl-2MLHzIQ5",
        "outputId": "6041e3f2-b418-49d7-e74a-58105853bd05"
      },
      "outputs": [
        {
          "name": "stdout",
          "output_type": "stream",
          "text": [
            "{\n",
            "  \"id\": \"chatcmpl-BIBXJUggOEdBAnADtqGTTF6qq3LFc\",\n",
            "  \"choices\": [\n",
            "    {\n",
            "      \"finish_reason\": \"length\",\n",
            "      \"index\": 0,\n",
            "      \"logprobs\": null,\n",
            "      \"message\": {\n",
            "        \"content\": \"Artificial Intelligence (AI) is a field of computer\",\n",
            "        \"refusal\": null,\n",
            "        \"role\": \"assistant\",\n",
            "        \"annotations\": [],\n",
            "        \"audio\": null,\n",
            "        \"function_call\": null,\n",
            "        \"tool_calls\": null\n",
            "      }\n",
            "    },\n",
            "    {\n",
            "      \"finish_reason\": \"length\",\n",
            "      \"index\": 1,\n",
            "      \"logprobs\": null,\n",
            "      \"message\": {\n",
            "        \"content\": \"Artificial Intelligence (AI) refers to the simulation of\",\n",
            "        \"refusal\": null,\n",
            "        \"role\": \"assistant\",\n",
            "        \"annotations\": [],\n",
            "        \"audio\": null,\n",
            "        \"function_call\": null,\n",
            "        \"tool_calls\": null\n",
            "      }\n",
            "    }\n",
            "  ],\n",
            "  \"created\": 1743673949,\n",
            "  \"model\": \"gpt-4o-2024-08-06\",\n",
            "  \"object\": \"chat.completion\",\n",
            "  \"service_tier\": \"default\",\n",
            "  \"system_fingerprint\": \"fp_898ac29719\",\n",
            "  \"usage\": {\n",
            "    \"completion_tokens\": 20,\n",
            "    \"prompt_tokens\": 10,\n",
            "    \"total_tokens\": 30,\n",
            "    \"completion_tokens_details\": {\n",
            "      \"accepted_prediction_tokens\": 0,\n",
            "      \"audio_tokens\": 0,\n",
            "      \"reasoning_tokens\": 0,\n",
            "      \"rejected_prediction_tokens\": 0\n",
            "    },\n",
            "    \"prompt_tokens_details\": {\n",
            "      \"audio_tokens\": 0,\n",
            "      \"cached_tokens\": 0\n",
            "    }\n",
            "  }\n",
            "}\n"
          ]
        }
      ],
      "source": [
        "response2 = client.chat.completions.create(model='gpt-4o',\n",
        "                                           messages=[{\"role\":\"user\",\"content\":\"Define Artificial Intelligence\"}],\n",
        "                                           max_tokens=10,n=2)\n",
        "\n",
        "print(response2.model_dump_json(indent=2))"
      ]
    },
    {
      "cell_type": "code",
      "execution_count": null,
      "metadata": {
        "colab": {
          "base_uri": "https://localhost:8080/"
        },
        "id": "m0InetGGvIXQ",
        "outputId": "ec14f7b4-2588-4575-d880-361b14cfb90b"
      },
      "outputs": [
        {
          "name": "stdout",
          "output_type": "stream",
          "text": [
            "{\n",
            "  \"id\": \"chatcmpl-A8MebNy7sWWPtmi9hzBuajutYL0Vn\",\n",
            "  \"choices\": [\n",
            "    {\n",
            "      \"finish_reason\": \"tool_calls\",\n",
            "      \"index\": 0,\n",
            "      \"logprobs\": null,\n",
            "      \"message\": {\n",
            "        \"content\": null,\n",
            "        \"refusal\": null,\n",
            "        \"role\": \"assistant\",\n",
            "        \"function_call\": null,\n",
            "        \"tool_calls\": [\n",
            "          {\n",
            "            \"id\": \"call_TPg6ABl3zqJQMA7HMKVESV4K\",\n",
            "            \"function\": {\n",
            "              \"arguments\": \"{\\\"query\\\": \\\"solar panels\\\"}\",\n",
            "              \"name\": \"search_wikipedia\"\n",
            "            },\n",
            "            \"type\": \"function\"\n",
            "          },\n",
            "          {\n",
            "            \"id\": \"call_cGfCcd1EPr1vEanUESUn5QN7\",\n",
            "            \"function\": {\n",
            "              \"arguments\": \"{\\\"query\\\": \\\"renewable energy\\\"}\",\n",
            "              \"name\": \"search_wikipedia\"\n",
            "            },\n",
            "            \"type\": \"function\"\n",
            "          },\n",
            "          {\n",
            "            \"id\": \"call_ELni6fchwPvjRi31GZEDadum\",\n",
            "            \"function\": {\n",
            "              \"arguments\": \"{\\\"query\\\": \\\"battery storage\\\"}\",\n",
            "              \"name\": \"search_wikipedia\"\n",
            "            },\n",
            "            \"type\": \"function\"\n",
            "          }\n",
            "        ]\n",
            "      },\n",
            "      \"content_filter_results\": {}\n",
            "    }\n",
            "  ],\n",
            "  \"created\": 1726557069,\n",
            "  \"model\": \"gpt-4o-2024-05-13\",\n",
            "  \"object\": \"chat.completion\",\n",
            "  \"service_tier\": null,\n",
            "  \"system_fingerprint\": \"fp_80a1bad4c7\",\n",
            "  \"usage\": {\n",
            "    \"completion_tokens\": 65,\n",
            "    \"prompt_tokens\": 84,\n",
            "    \"total_tokens\": 149,\n",
            "    \"completion_tokens_details\": null\n",
            "  },\n",
            "  \"prompt_filter_results\": [\n",
            "    {\n",
            "      \"prompt_index\": 0,\n",
            "      \"content_filter_results\": {\n",
            "        \"hate\": {\n",
            "          \"filtered\": false,\n",
            "          \"severity\": \"safe\"\n",
            "        },\n",
            "        \"jailbreak\": {\n",
            "          \"filtered\": false,\n",
            "          \"detected\": false\n",
            "        },\n",
            "        \"self_harm\": {\n",
            "          \"filtered\": false,\n",
            "          \"severity\": \"safe\"\n",
            "        },\n",
            "        \"sexual\": {\n",
            "          \"filtered\": false,\n",
            "          \"severity\": \"safe\"\n",
            "        },\n",
            "        \"violence\": {\n",
            "          \"filtered\": false,\n",
            "          \"severity\": \"safe\"\n",
            "        }\n",
            "      }\n",
            "    }\n",
            "  ]\n",
            "}\n"
          ]
        }
      ],
      "source": [
        "print(response.model_dump_json(indent=2))"
      ]
    },
    {
      "cell_type": "code",
      "execution_count": 11,
      "metadata": {
        "colab": {
          "base_uri": "https://localhost:8080/"
        },
        "id": "d9GkXrgau8Tg",
        "outputId": "06f9033a-6480-49de-b530-7992f6f4b273"
      },
      "outputs": [
        {
          "name": "stdout",
          "output_type": "stream",
          "text": [
            "[{'search_wikipedia': {'query': 'solar panels'}, 'id': 'call_xyNY1JAVJbwXdA38XnzzEHbm'}, {'search_wikipedia': {'query': 'renewable energy'}, 'id': 'call_oY5JxRgQa0AAf7itFtNiGxDa'}, {'search_wikipedia': {'query': 'battery storage'}, 'id': 'call_SjRvmCE1MXkoSb19k3sWWdnC'}]\n"
          ]
        }
      ],
      "source": [
        "# Extract function calls from the response\n",
        "tool_calls = extract_tool_calls(response)\n",
        "print(tool_calls)"
      ]
    },
    {
      "cell_type": "code",
      "execution_count": 12,
      "metadata": {
        "colab": {
          "base_uri": "https://localhost:8080/"
        },
        "id": "uyBpfsFR0Hsu",
        "outputId": "10ee7181-897d-4142-83e9-75b0ea1a32e2"
      },
      "outputs": [
        {
          "name": "stdout",
          "output_type": "stream",
          "text": [
            "{'search_wikipedia': {'query': 'solar panels'}, 'id': 'call_xyNY1JAVJbwXdA38XnzzEHbm'}\n",
            "{'search_wikipedia': {'query': 'renewable energy'}, 'id': 'call_oY5JxRgQa0AAf7itFtNiGxDa'}\n",
            "{'search_wikipedia': {'query': 'battery storage'}, 'id': 'call_SjRvmCE1MXkoSb19k3sWWdnC'}\n"
          ]
        }
      ],
      "source": [
        "### Make external API calls\n",
        "import wikipedia\n",
        "api_response = []\n",
        "\n",
        "# Loop over multiple function calls\n",
        "for tool in tool_calls:\n",
        "    print(tool)\n",
        "\n",
        "    # Make external API call\n",
        "    result = wikipedia.summary(tool[\"search_wikipedia\"][\"query\"])\n",
        "\n",
        "    # Collect all API responses\n",
        "    api_response.append(result)"
      ]
    },
    {
      "cell_type": "code",
      "execution_count": 13,
      "metadata": {
        "colab": {
          "base_uri": "https://localhost:8080/"
        },
        "id": "gbSSzesj0psA",
        "outputId": "20e4f167-f665-4b0f-ffa4-f32b378df1dd"
      },
      "outputs": [
        {
          "name": "stdout",
          "output_type": "stream",
          "text": [
            "A solar panel is a device that converts sunlight into electricity by using photovoltaic (PV) cells. PV cells are made of materials that produce excited electrons when exposed to light. These electrons flow through a circuit and produce direct current (DC) electricity, which can be used to power various devices or be stored in batteries. Solar panels are also known as solar cell panels, solar electric panels, or PV modules.\n",
            "Solar panels are usually arranged in groups called arrays or systems. A photovoltaic system consists of one or more solar panels, an inverter that converts DC electricity to alternating current (AC) electricity, and sometimes other components such as controllers, meters, and trackers. Most panels are in solar farms or rooftop solar panels which  supply the electricity grid.\n",
            "Some advantages of solar panels are that they use a renewable and clean source of energy, reduce greenhouse gas emissions, and lower electricity bills. Some disadvantages are that they depend on the availability and intensity of sunlight, require cleaning, and have high initial costs. Solar panels are widely used for residential, commercial, and industrial purposes, as well as in space, often together with batteries.\n",
            "\n",
            "\n",
            "Renewable energy (also called green energy) is energy made from renewable natural resources that are replenished on a human timescale. The most widely used renewable energy types are solar energy, wind power, and hydropower. Bioenergy and geothermal power are also significant in some countries. Some also consider nuclear power a renewable power source, although this is controversial, as nuclear energy requires mining uranium, a nonrenewable resource. Renewable energy installations can be large or small and are suited for both urban and rural areas. Renewable energy is often deployed together with further electrification. This has several benefits: electricity can move heat and vehicles efficiently and is clean at the point of consumption. Variable renewable energy sources are those that have a fluctuating nature, such as wind power and solar power. In contrast, controllable renewable energy sources include dammed hydroelectricity, bioenergy, or geothermal power.\n",
            "\n",
            "Renewable energy systems have rapidly become more efficient and cheaper over the past 30 years. A large majority of worldwide newly installed electricity capacity is now renewable. Renewable energy sources, such as solar and wind power, have seen significant cost reductions over the past decade, making them more competitive with traditional fossil fuels. In most countries, photovoltaic solar or onshore wind are the cheapest new-build electricity. From 2011 to 2021, renewable energy grew from 20% to 28% of global electricity supply. Power from the sun and wind accounted for most of this increase, growing from a combined 2% to 10%. Use of fossil energy shrank from 68% to 62%. In 2022, renewables accounted for 30% of global electricity generation and are projected to reach over 42% by 2028. Many countries already have renewables contributing more than 20% of their total energy supply, with some generating over half or even all their electricity from renewable sources.\n",
            "The main motivation to replace fossil fuels with renewable energy sources is to slow and eventually stop climate change, which is widely agreed to be caused mostly by greenhouse gas emissions. In general, renewable energy sources cause much lower emissions than fossil fuels. The International Energy Agency estimates that to achieve net zero emissions by 2050, 90% of global electricity generation will need to be produced from renewable sources. Renewables also cause much less air pollution than fossil fuels, improving public health, and are less noisy.\n",
            "\n",
            "The deployment of renewable energy still faces obstacles, especially fossil fuel subsidies, lobbying by incumbent power providers, and local opposition to the use of land for renewable installations. Like all mining, the extraction of minerals required for many renewable energy technologies also results in environmental damage. In addition, although most renewable energy sources are sustainable, some are not.\n",
            "A battery energy storage system (BESS), battery storage power station, battery energy grid storage (BEGS) or battery grid storage is a type of energy storage technology that uses a group of batteries in the grid to store electrical energy. Battery storage is the fastest responding dispatchable source of power on electric grids, and it is used to stabilise those grids, as battery storage can transition from standby to full power in under a second to deal with grid contingencies.\n",
            "Battery energy storage systems are generally designed to be able to output at their full rated power for several hours. Battery storage can be used for short-term peak power and ancillary services, such as providing operating reserve and frequency control to minimize the chance of power outages. They are often installed at, or close to, other active or disused power stations and may share the same grid connection to reduce costs. Since battery storage plants require no deliveries of fuel, are compact compared to generating stations and have no chimneys or large cooling systems, they can be rapidly installed and placed if necessary within urban areas, close to customer load, or even inside customer premises.\n",
            "As of 2021, the power and capacity of the largest individual battery storage system is an order of magnitude less than that of the largest pumped-storage power plants, the most common form of grid energy storage. For example, the Bath County Pumped Storage Station, the second largest in the world, can store 24 GWh of electricity and dispatch 3 GW while the first phase of Vistra Energy's Moss Landing Energy Storage Facility can store 1.2 GWh and dispatch 300 MW. However, grid batteries do not have to be large, a large number of smaller ones (often as hybrid power) can be widely deployed across a grid for greater redundancy and large overall capacity.\n",
            "As of 2019, battery power storage is typically cheaper than open cycle gas turbine power for use up to two hours, and there was around 365 GWh of battery storage deployed worldwide, growing rapidly. \n",
            "Levelized cost of storage (LCOS) has fallen rapidly, halving in two years to reach US$150 per MWh in 2020, and further reduced to US$117 by 2023.\n",
            "\n",
            "\n"
          ]
        }
      ],
      "source": [
        "for res in api_response:\n",
        "    print(res)"
      ]
    },
    {
      "cell_type": "code",
      "execution_count": 14,
      "metadata": {
        "id": "iRxpmE3r2eow"
      },
      "outputs": [],
      "source": [
        "\n",
        "### Generate a natural language summary\n",
        "messages=[\n",
        "        {\"role\": \"system\", \"content\": \"You are a helpful assistant.\"},\n",
        "        {\"role\": \"user\", \"content\": prompt},]\n",
        "\n",
        "messages.append(response.choices[0].message)\n",
        "for tool,res in zip(tool_calls,api_response):\n",
        "  messages.append({\"tool_call_id\": tool['id'],\n",
        "                   \"role\": \"tool\",\n",
        "                   \"name\": 'search_wikipedia',\n",
        "                   \"content\": res,})\n"
      ]
    },
    {
      "cell_type": "code",
      "execution_count": 15,
      "metadata": {
        "id": "_6RJnN1lusA3"
      },
      "outputs": [],
      "source": [
        "# Now we return all API responses back to GPT-4 to summarize\n",
        "\n",
        "new_response = client.chat.completions.create(\n",
        "    model=\"gpt-4o\",\n",
        "    messages = messages)"
      ]
    },
    {
      "cell_type": "code",
      "execution_count": 16,
      "metadata": {
        "colab": {
          "base_uri": "https://localhost:8080/"
        },
        "id": "Hhf-dmA737LP",
        "outputId": "9f7a8580-25b3-4436-c6dd-6b20c69ba461"
      },
      "outputs": [
        {
          "name": "stdout",
          "output_type": "stream",
          "text": [
            "Here is a summary of key information related to solar panels, renewable energy, and battery storage:\n",
            "\n",
            "1. **Solar Panels:**\n",
            "   - Solar panels convert sunlight into electricity using photovoltaic (PV) cells, which produce direct current (DC) electricity. These panels are often part of a system that includes an inverter to convert DC into alternating current (AC) usable for household and commercial applications.\n",
            "   - Advantages include the use of a renewable and clean energy source, reduction of greenhouse gas emissions, and potential cost savings on electricity. However, they can be costly upfront and depend on sunlight availability.\n",
            "   - Solar panel systems are used in various settings, including roofs and solar farms, and can also be combined with battery storage to enhance their utility.\n",
            "\n",
            "2. **Renewable Energy:**\n",
            "   - Renewable energy comes from natural resources like sunlight, wind, rain, tides, waves, and geothermal heat, which are replenished on a human timescale.\n",
            "   - Major sources include solar, wind, hydroelectric, bioenergy, and geothermal power. Renewables collectively contribute an increasing share of global energy, growing from 20% to 28% of global electricity supply from 2011 to 2021.\n",
            "   - The primary motivation for adopting renewable energy is to mitigate climate change by reducing greenhouse gas emissions. It also offers benefits in terms of reducing air pollution and enhancing public health.\n",
            "   - Adoption has been rapid due to significant cost reductions, particularly in solar and wind technologies, which are now among the cheapest sources of electricity in many regions.\n",
            "   - Challenges for renewable energy deployment include fossil fuel subsidies, political and local opposition, and environmental impacts from mining materials for renewable technologies.\n",
            "\n",
            "3. **Battery Storage:**\n",
            "   - Battery energy storage systems (BESS) store electrical energy for later use and play a crucial role in stabilizing electrical grids. They can quickly respond to demand and are used for peak power and grid balancing.\n",
            "   - These systems are becoming more prevalent as costs have decreased significantly. They are more efficient than gas turbine power for short durations and do not require fuel deliveries.\n",
            "   - Battery storage is important for integrating renewable energy into the grid by compensating for the variable nature of solar and wind energy.\n",
            "   - As of recent years, battery storage solutions have expanded rapidly, showing increasing deployment worldwide, with their levelized cost dropping significantly.\n",
            "\n",
            "Overall, solar panels, renewable energy, and battery storage form an essential trio in the transition to a cleaner, more sustainable energy system, though they face economic and logistical challenges. These technologies are essential for increasing the penetration of clean energy sources and ensuring energy security and grid stability.\n"
          ]
        }
      ],
      "source": [
        "\n",
        "# Display the final summary\n",
        "print(new_response.choices[0].message.content)"
      ]
    },
    {
      "cell_type": "markdown",
      "metadata": {
        "id": "riYC7Z-RjvYl"
      },
      "source": [
        "## Example: Parallel function calls across multiple functions\n",
        "\n",
        "Another good fit for parallel function calling is when you have multiple, independent functions that you want to be able to call in parallel, which reduces the number of consecutive OpenAI API calls that you need to make and (ideally) reduces the overall response time to the end user who is waiting for a natural language response.\n",
        "\n",
        "In this example, you'll use Parallel Function Calling in LLM to ask about multiple aspects of topics and articles on [Wikipedia](https://www.wikipedia.org/).\n"
      ]
    },
    {
      "cell_type": "code",
      "execution_count": 17,
      "metadata": {
        "id": "niPXM0mwjvYl"
      },
      "outputs": [],
      "source": [
        "tools = [\n",
        "    {\n",
        "        \"type\": \"function\",\n",
        "        \"function\": {\n",
        "            \"name\": \"search_wikipedia\",\n",
        "            \"description\": \"Search for articles or any other relevant information on Wikipedia\",\n",
        "            \"parameters\": {\n",
        "                \"type\": \"object\",\n",
        "                \"properties\": {\n",
        "                    \"query\": {\n",
        "                        \"type\": \"string\",\n",
        "                        \"description\": \"Query to search for on Wikipedia\"\n",
        "                    }\n",
        "                },\n",
        "                \"required\": [\"query\"],\n",
        "                \"additionalProperties\": False\n",
        "            }\n",
        "        }\n",
        "    },\n",
        "    {\n",
        "        \"type\": \"function\",\n",
        "        \"function\": {\n",
        "            \"name\": \"suggest_wikipedia\",\n",
        "            \"description\": \"Get suggested titles from Wikipedia based on the given query term\",\n",
        "            \"parameters\": {\n",
        "                \"type\": \"object\",\n",
        "                \"properties\": {\n",
        "                    \"query\": {\n",
        "                        \"type\": \"string\",\n",
        "                        \"description\": \"Query to search for suggested titles on Wikipedia\"\n",
        "                    }\n",
        "                },\n",
        "                \"required\": [\"query\"],\n",
        "                \"additionalProperties\": False\n",
        "            }\n",
        "        }\n",
        "    },\n",
        "    {\n",
        "        \"type\": \"function\",\n",
        "        \"function\": {\n",
        "            \"name\": \"summarize_wikipedia\",\n",
        "            \"description\": \"Retrieve brief summaries of Wikipedia articles related to a given topic\",\n",
        "            \"parameters\": {\n",
        "                \"type\": \"object\",\n",
        "                \"properties\": {\n",
        "                    \"topic\": {\n",
        "                        \"type\": \"string\",\n",
        "                        \"description\": \"Topic to search for article summaries on Wikipedia\"\n",
        "                    }\n",
        "                },\n",
        "                \"required\": [\"topic\"],\n",
        "                \"additionalProperties\": False\n",
        "            }\n",
        "        }\n",
        "    }\n",
        "]\n"
      ]
    },
    {
      "cell_type": "code",
      "execution_count": 18,
      "metadata": {
        "id": "YwOD7xNN57tN"
      },
      "outputs": [],
      "source": [
        "prompt = \"Show the search results, variations, and article summaries about Wikipedia articles related to the solar system\""
      ]
    },
    {
      "cell_type": "code",
      "execution_count": 19,
      "metadata": {
        "id": "3_C4s7WQ57wJ"
      },
      "outputs": [],
      "source": [
        "response = client.chat.completions.create(\n",
        "    model='gpt-4o',\n",
        "    messages=[\n",
        "        {\"role\": \"system\", \"content\": \"You are a helpful assistant.\"},\n",
        "        {\"role\": \"user\", \"content\": prompt}\n",
        "    ],\n",
        "    tools=tools,\n",
        "    tool_choice='auto'\n",
        ")\n"
      ]
    },
    {
      "cell_type": "code",
      "execution_count": 20,
      "metadata": {
        "colab": {
          "base_uri": "https://localhost:8080/"
        },
        "id": "wPixYdKJ57wJ",
        "outputId": "0762a7c6-2d02-4e34-f59f-6fecf8d25d1d"
      },
      "outputs": [
        {
          "data": {
            "text/plain": [
              "[ChatCompletionMessageToolCall(id='call_aI89TM0JQu7KxNgEt9NZeLT8', function=Function(arguments='{\"query\": \"solar system\"}', name='search_wikipedia'), type='function'),\n",
              " ChatCompletionMessageToolCall(id='call_hDIMDPJPeiFmdjficYlrBq2B', function=Function(arguments='{\"query\": \"solar system\"}', name='suggest_wikipedia'), type='function'),\n",
              " ChatCompletionMessageToolCall(id='call_bn6mlc271ASLsW4N6ZO7nABT', function=Function(arguments='{\"topic\": \"solar system\"}', name='summarize_wikipedia'), type='function')]"
            ]
          },
          "execution_count": 20,
          "metadata": {},
          "output_type": "execute_result"
        }
      ],
      "source": [
        "response.choices[0].message.tool_calls"
      ]
    },
    {
      "cell_type": "markdown",
      "metadata": {
        "id": "0mp8zaBhjvYo"
      },
      "source": [
        "### Extract function names and parameters\n",
        "\n",
        "Use the helper function that we created earlier to extract the function names and function parameters for each Function Call that LLM responded with:"
      ]
    },
    {
      "cell_type": "code",
      "execution_count": 21,
      "metadata": {
        "colab": {
          "base_uri": "https://localhost:8080/"
        },
        "id": "AL4sQ7RQ57wK",
        "outputId": "8f6a6c52-92ac-4252-bdf3-07c7084a67ef"
      },
      "outputs": [
        {
          "name": "stdout",
          "output_type": "stream",
          "text": [
            "[{'search_wikipedia': {'query': 'solar system'}, 'id': 'call_aI89TM0JQu7KxNgEt9NZeLT8'}, {'suggest_wikipedia': {'query': 'solar system'}, 'id': 'call_hDIMDPJPeiFmdjficYlrBq2B'}, {'summarize_wikipedia': {'topic': 'solar system'}, 'id': 'call_bn6mlc271ASLsW4N6ZO7nABT'}]\n"
          ]
        }
      ],
      "source": [
        "# Extract function calls from the response\n",
        "tool_calls = extract_tool_calls(response)\n",
        "print(tool_calls)"
      ]
    },
    {
      "cell_type": "markdown",
      "metadata": {
        "id": "ZgLqFRJsjvYy"
      },
      "source": [
        "### Make external API calls\n",
        "\n",
        "Next, you'll loop through the Function Calls and use the `wikipedia` Python package to make APIs calls and gather information from Wikipedia:"
      ]
    },
    {
      "cell_type": "code",
      "execution_count": 22,
      "metadata": {
        "colab": {
          "base_uri": "https://localhost:8080/"
        },
        "id": "MrnQf3RcjvYz",
        "outputId": "6bd06615-fa0c-46f9-8de5-7f4822a41531"
      },
      "outputs": [
        {
          "name": "stdout",
          "output_type": "stream",
          "text": [
            "{'search_wikipedia': {'query': 'solar system'}, 'id': 'call_aI89TM0JQu7KxNgEt9NZeLT8'}\n",
            "{'suggest_wikipedia': {'query': 'solar system'}, 'id': 'call_hDIMDPJPeiFmdjficYlrBq2B'}\n",
            "{'summarize_wikipedia': {'topic': 'solar system'}, 'id': 'call_bn6mlc271ASLsW4N6ZO7nABT'}\n"
          ]
        }
      ],
      "source": [
        "api_response = {}\n",
        "\n",
        "# Loop over multiple function calls\n",
        "for tool in tool_calls:\n",
        "    # Extract the function name\n",
        "    print(tool)\n",
        "    function_name = list(tool.keys())[0]\n",
        "\n",
        "    # Determine which external API call to make\n",
        "    if function_name == \"search_wikipedia\":\n",
        "        result = wikipedia.search(tool[\"search_wikipedia\"][\"query\"])\n",
        "    if function_name == \"suggest_wikipedia\":\n",
        "        result = wikipedia.suggest(tool[\"suggest_wikipedia\"][\"query\"])\n",
        "    if function_name == \"summarize_wikipedia\":\n",
        "        result = wikipedia.summary(\n",
        "            tool[\"summarize_wikipedia\"][\"topic\"], auto_suggest=False\n",
        "        )\n",
        "\n",
        "    # Collect all API responses\n",
        "    api_response[function_name] = result"
      ]
    },
    {
      "cell_type": "code",
      "execution_count": 23,
      "metadata": {
        "colab": {
          "base_uri": "https://localhost:8080/"
        },
        "id": "wUcd30f260Od",
        "outputId": "f73e94c2-bc4f-4e59-c43e-859049e2b0d5"
      },
      "outputs": [
        {
          "data": {
            "text/plain": [
              "{'search_wikipedia': ['Solar System',\n",
              "  'Formation and evolution of the Solar System',\n",
              "  'List of Solar System objects by size',\n",
              "  'Solar System belts',\n",
              "  'Solar System (TV series)',\n",
              "  'List of Solar System objects',\n",
              "  'Photovoltaic system',\n",
              "  'Sweden Solar System',\n",
              "  'Solar System model',\n",
              "  'List of natural satellites'],\n",
              " 'suggest_wikipedia': 'soler system',\n",
              " 'summarize_wikipedia': \"The Solar System is the gravitationally bound system of the Sun and the objects that orbit it. It formed about 4.6 billion years ago when a dense region of a molecular cloud collapsed, forming the Sun and a protoplanetary disc. The Sun is a typical star that maintains a balanced equilibrium by the fusion of hydrogen into helium at its core, releasing this energy from its outer photosphere. Astronomers classify it as a G-type main-sequence star.\\nThe largest objects that orbit the Sun are the eight planets. In order from the Sun, they are four terrestrial planets (Mercury, Venus, Earth and Mars); two gas giants (Jupiter and Saturn); and two ice giants (Uranus and Neptune). All terrestrial planets have solid surfaces. Inversely, all giant planets do not have a definite surface, as they are mainly composed of gases and liquids. Over 99.86% of the Solar System's mass is in the Sun and nearly 90% of the remaining mass is in Jupiter and Saturn.\\nThere is a strong consensus among astronomers that the Solar System has at least nine dwarf planets: Ceres, Orcus, Pluto, Haumea, Quaoar, Makemake, Gonggong, Eris, and Sedna. There are a vast number of small Solar System bodies, such as asteroids, comets, centaurs, meteoroids, and interplanetary dust clouds. Some of these bodies are in the asteroid belt (between Mars's and Jupiter's orbit) and the Kuiper belt (just outside Neptune's orbit). Six planets, seven dwarf planets, and other bodies have orbiting natural satellites, which are commonly called 'moons'.\\nThe Solar System is constantly flooded by the Sun's charged particles, the solar wind, forming the heliosphere. Around 75–90 astronomical units from the Sun, the solar wind is halted, resulting in the heliopause. This is the boundary of the Solar System to interstellar space. The outermost region of the Solar System is the theorized Oort cloud, the source for long-period comets, extending to a radius of 2,000–200,000 AU. The closest star to the Solar System, Proxima Centauri, is 4.25 light-years (269,000 AU) away. Both stars belong to the Milky Way galaxy.\\n\\n\"}"
            ]
          },
          "execution_count": 23,
          "metadata": {},
          "output_type": "execute_result"
        }
      ],
      "source": [
        "api_response"
      ]
    },
    {
      "cell_type": "markdown",
      "metadata": {
        "id": "pdji2r7CjvYz"
      },
      "source": [
        "### Get a natural language summary\n",
        "\n",
        "Now you can return all of the API responses to LLM so that it can generate a natural language summary:"
      ]
    },
    {
      "cell_type": "code",
      "execution_count": 24,
      "metadata": {
        "id": "NAD7jaTq7P0z"
      },
      "outputs": [],
      "source": [
        "\n",
        "### Generate a natural language summary\n",
        "messages=[\n",
        "        {\"role\": \"system\", \"content\": \"You are a helpful assistant.\"},\n",
        "        {\"role\": \"user\", \"content\": prompt},]\n",
        "\n",
        "messages.append(response.choices[0].message)\n",
        "for tool,res in zip(tool_calls,api_response):\n",
        "  function_name = list(tool.keys())[0]\n",
        "  messages.append({\"tool_call_id\": tool['id'],\n",
        "                   \"role\": \"tool\",\n",
        "                   \"name\": function_name,\n",
        "                   \"content\": res,})\n"
      ]
    },
    {
      "cell_type": "code",
      "execution_count": 25,
      "metadata": {
        "id": "BcQMJaIE7P00"
      },
      "outputs": [],
      "source": [
        "# Now we return all API responses back to GPT-4 to summarize\n",
        "\n",
        "new_response = client.chat.completions.create(\n",
        "    model=\"gpt-4o\",\n",
        "    messages = messages)"
      ]
    },
    {
      "cell_type": "code",
      "execution_count": 26,
      "metadata": {
        "colab": {
          "base_uri": "https://localhost:8080/"
        },
        "id": "Qc-zHn-B7P00",
        "outputId": "c857179e-717d-4dc2-81ab-ce1f6bc5aacf"
      },
      "outputs": [
        {
          "name": "stdout",
          "output_type": "stream",
          "text": [
            "Here is the information I've gathered about the Wikipedia articles related to the solar system:\n",
            "\n",
            "1. **Search Results**:\n",
            "   - **Solar System**: Provides a general overview of the Solar System, including its formation and components like planets, moons, comets, asteroids, and the Sun.\n",
            "   - **Planets of the Solar System**: Details about each planet within the Solar System, including their characteristics and order from the Sun.\n",
            "   - **Moons of the Solar System**: Discusses the natural satellites that orbit planets, including those of major planets like Jupiter, Saturn, and Earth’s Moon.\n",
            "   - **Asteroids and Comets**: Articles provide information on smaller bodies within the Solar System, their composition, and their orbits.\n",
            "   - **Formation and Evolution of the Solar System**: Explores scientific theories on how the Solar System was created and has changed over time.\n",
            "\n",
            "2. **Variations**:\n",
            "   - **List of Planets and Dwarf Planets**: Details the recognized planets and dwarf planets, including Pluto.\n",
            "   - **Kuiper Belt and Oort Cloud**: Articles that focus on the regions containing small icy bodies beyond the orbit of Neptune.\n",
            "   - **Solar System Exploration**: Covers the various missions and exploration efforts conducted by NASA and other space agencies.\n",
            "\n",
            "3. **Article Summary**:\n",
            "   - The **Solar System** article on Wikipedia provides a comprehensive overview of the Sun’s gravitational dominion, which comprises eight planets, their moons, and other non-stellar objects. It highlights the system's boundary regions, such as the heliosphere, Kuiper Belt, and Oort Cloud, and elaborates on the formation theories, notably the nebular hypothesis. Detailed segments on the characteristics and structures of individual planets and the categorization of celestial bodies into rocky and gas giants are included. The article also discusses the history of human understanding of the Solar System from ancient geocentric models to modern heliocentric views and space exploration advancements.\n",
            "\n",
            "If you want more specific details about any of these topics, feel free to ask!\n"
          ]
        }
      ],
      "source": [
        "# Display the final summary\n",
        "print(new_response.choices[0].message.content)"
      ]
    },
    {
      "cell_type": "code",
      "execution_count": null,
      "metadata": {
        "id": "Bl2ZSmyC7oBG"
      },
      "outputs": [],
      "source": []
    },
    {
      "cell_type": "markdown",
      "metadata": {
        "id": "RG97M6G-4iQ7"
      },
      "source": [
        "# Sequential Multi function call"
      ]
    },
    {
      "cell_type": "code",
      "execution_count": 27,
      "metadata": {
        "id": "ltWmu-a04rH3"
      },
      "outputs": [],
      "source": [
        "import requests\n",
        "import json"
      ]
    },
    {
      "cell_type": "code",
      "execution_count": 28,
      "metadata": {
        "id": "IAMib7EX4lh5"
      },
      "outputs": [],
      "source": [
        "# Define the OpenWeatherMap API key\n",
        "OWM_API_KEY = \"29af1cea50a401d8e624eea4660b3f59\"\n",
        "\n",
        "def get_current_weather(location, unit=\"kelvin\"):\n",
        "    \"\"\"\n",
        "    Fetches the current weather information for a given location.\n",
        "\n",
        "    Parameters:\n",
        "    - location: str, the name of the location (e.g., \"Paris\").\n",
        "    - unit: str, the unit of temperature (default is \"kelvin\").\n",
        "\n",
        "    Returns:\n",
        "    - str: JSON formatted string containing weather information.\n",
        "    \"\"\"\n",
        "    # Construct the API request URL\n",
        "    url = f\"https://api.openweathermap.org/data/2.5/weather?q={location}&appid={OWM_API_KEY}\"\n",
        "\n",
        "    try:\n",
        "      # Send the API request\n",
        "      response = requests.get(url)\n",
        "    except:\n",
        "      return \"Error occurred because location does not exist\"\n",
        "\n",
        "    # Parse the temperature and weather forecast from the response\n",
        "    temp = response.json()['main']['temp']\n",
        "    forecast = [response.json()['weather'][0]['main'], response.json()['weather'][0]['description']]\n",
        "\n",
        "    # Create a dictionary with the weather information\n",
        "    weather_info = {\n",
        "        \"location\": location,\n",
        "        \"temperature\": temp,\n",
        "        \"unit\": 'Kelvin',\n",
        "        \"forecast\": forecast\n",
        "    }\n",
        "\n",
        "    # Return the weather information as a JSON string\n",
        "    return json.dumps(weather_info)"
      ]
    },
    {
      "cell_type": "code",
      "execution_count": 29,
      "metadata": {
        "id": "9vIHr6BE4imv"
      },
      "outputs": [],
      "source": [
        "tools = [\n",
        "    {\n",
        "        \"type\": \"function\",\n",
        "        \"function\": {\n",
        "            \"name\": \"search_wikipedia\",\n",
        "            \"description\": \"Search for articles or any other relevant information on Wikipedia'\",\n",
        "            \"parameters\": {\n",
        "                \"type\": \"object\",\n",
        "                \"properties\": {\n",
        "                    \"query\": {\n",
        "                        \"type\": \"string\",\n",
        "                        \"description\": \"Query to search for on Wikipedia\"\n",
        "                    }\n",
        "                },\n",
        "                \"required\": [\"query\"],\n",
        "                \"additionalProperties\": False\n",
        "            }\n",
        "        }\n",
        "    },\n",
        "    {\n",
        "            \"type\": \"function\",\n",
        "            \"function\": {\n",
        "                \"name\": \"get_current_weather\",\n",
        "                \"description\": \"Get the current weather in a given location\",\n",
        "                \"parameters\": {\n",
        "                    \"type\": \"object\",\n",
        "                    \"properties\": {\n",
        "                        \"location\": {\n",
        "                            \"type\": \"string\",\n",
        "                            \"description\": \"The city and state, e.g. San Francisco, CA\",\n",
        "                        },\n",
        "                        \"unit\": {\"type\": \"string\", \"enum\": [\"celsius\", \"fahrenheit\",\"kelvin\"]},\n",
        "                    },\n",
        "                    \"required\": [\"location\"],\n",
        "                },\n",
        "            },\n",
        "        },\n",
        "]"
      ]
    },
    {
      "cell_type": "code",
      "execution_count": null,
      "metadata": {
        "id": "FREnFG9J4v5G"
      },
      "outputs": [],
      "source": []
    },
    {
      "cell_type": "code",
      "execution_count": 30,
      "metadata": {
        "id": "-PZA1vX5449_"
      },
      "outputs": [],
      "source": [
        "prompt = \"Get the name of capital city of Tripura using wikipedia and then tell me the weather information for the same using wikipedia results. \""
      ]
    },
    {
      "cell_type": "code",
      "execution_count": 31,
      "metadata": {
        "id": "-mzHw2Td44-A"
      },
      "outputs": [],
      "source": [
        "response = client.chat.completions.create(\n",
        "    model=\"gpt-4o\",\n",
        "    messages=[\n",
        "        {\"role\": \"system\", \"content\": \"You are a helpful assistant.\"},\n",
        "        {\"role\": \"user\", \"content\": prompt}\n",
        "    ],\n",
        "    tools=tools,\n",
        "    tool_choice='auto'\n",
        ")\n"
      ]
    },
    {
      "cell_type": "code",
      "execution_count": 32,
      "metadata": {
        "colab": {
          "base_uri": "https://localhost:8080/"
        },
        "id": "qigARcRO44-A",
        "outputId": "7ca43462-49ca-40a1-8852-bc7b97c437f4"
      },
      "outputs": [
        {
          "data": {
            "text/plain": [
              "[ChatCompletionMessageToolCall(id='call_ISdsXcYX89A7GYcPR6HKQvGL', function=Function(arguments='{\"query\":\"capital of Tripura\"}', name='search_wikipedia'), type='function')]"
            ]
          },
          "execution_count": 32,
          "metadata": {},
          "output_type": "execute_result"
        }
      ],
      "source": [
        "response.choices[0].message.tool_calls"
      ]
    },
    {
      "cell_type": "markdown",
      "metadata": {
        "id": "6k-YLd6f44-B"
      },
      "source": [
        "### Extract function names and parameters\n",
        "\n",
        "Use the helper function that we created earlier to extract the function names and function parameters for each Function Call that LLM responded with:"
      ]
    },
    {
      "cell_type": "code",
      "execution_count": 33,
      "metadata": {
        "colab": {
          "base_uri": "https://localhost:8080/"
        },
        "id": "pnc5ou_B44-B",
        "outputId": "cc1b1350-1702-48b1-a312-42263de07b23"
      },
      "outputs": [
        {
          "name": "stdout",
          "output_type": "stream",
          "text": [
            "[{'search_wikipedia': {'query': 'capital of Tripura'}, 'id': 'call_ISdsXcYX89A7GYcPR6HKQvGL'}]\n"
          ]
        }
      ],
      "source": [
        "# Extract function calls from the response\n",
        "tool_calls = extract_tool_calls(response)\n",
        "print(tool_calls)"
      ]
    },
    {
      "cell_type": "code",
      "execution_count": null,
      "metadata": {
        "id": "NPQWz9595K1q"
      },
      "outputs": [],
      "source": []
    },
    {
      "cell_type": "code",
      "execution_count": 34,
      "metadata": {
        "colab": {
          "base_uri": "https://localhost:8080/"
        },
        "id": "eKZgjRaC6KUu",
        "outputId": "60b5265d-a978-4e5b-c328-8bcce00af927"
      },
      "outputs": [
        {
          "name": "stdout",
          "output_type": "stream",
          "text": [
            "{'search_wikipedia': {'query': 'capital of Tripura'}, 'id': 'call_ISdsXcYX89A7GYcPR6HKQvGL'}\n"
          ]
        }
      ],
      "source": [
        "### Make external API calls\n",
        "import wikipedia\n",
        "api_response = []\n",
        "\n",
        "# Loop over multiple function calls\n",
        "for tool in tool_calls:\n",
        "    print(tool)\n",
        "\n",
        "    # Make external API call\n",
        "    result = wikipedia.summary(tool[\"search_wikipedia\"][\"query\"])\n",
        "\n",
        "    # Collect all API responses\n",
        "    api_response.append(result)"
      ]
    },
    {
      "cell_type": "code",
      "execution_count": 35,
      "metadata": {
        "colab": {
          "base_uri": "https://localhost:8080/"
        },
        "id": "dmIDzGEr6KUw",
        "outputId": "bfb00c10-a28c-4643-e01f-ac560cb7e4c1"
      },
      "outputs": [
        {
          "name": "stdout",
          "output_type": "stream",
          "text": [
            "Tripura () is a state in northeastern India. The third-smallest state in the country, it covers 10,491 km2 (4,051 sq mi); and the seventh-least populous state with a population of 3.67 million. It is bordered by Assam and Mizoram to the east and by Bangladesh to the north, south and west. Tripura is divided into 8 districts and 23 sub-divisions, where Agartala is the capital and the largest city in the state. Tripura has 19 different tribal communities with a majority Bengali population. Bengali, English and Kokborok are the state's official languages.\n",
            "The area of modern Tripura — ruled for several centuries by the Manikya Dynasty — was part of the Tripuri Kingdom (also known as Hill Tippera). It became a princely state under the British Raj during its tenure, and acceded to independent India in 1947. It merged with India in 1949 and was designated as a 'Part C State' (union territory). It became a full-fledged state of India in 1972.\n",
            "Tripura lies in a geographically isolated location in India, as only one major highway, National Highway 8, connects it with the rest of the country. Five mountain ranges — Baramura, Atharamura, Longtharai, Shakhan and Jampui Hills — run north to south, with intervening valleys; Agartala, the capital, is located on a plain to the west. The state has a tropical savanna climate, and receives seasonal heavy rains from the south west monsoon.\n",
            "Forests cover more than half of the area, in which bamboo and cane tracts are common. Tripura has the highest number of primate species found in any Indian state. Due to its geographical isolation, economic progress in the state is hindered. Poverty and unemployment continue to plague Tripura, which has a limited infrastructure. Most residents are involved in agriculture and allied activities, although the service sector is the largest contributor to the state's gross domestic product.\n",
            "According to the 2011 census, Tripura is one of the most literate states in India, with a literacy rate of 87.75%. Mainstream Indian cultural elements coexist with traditional practices of the ethnic groups, such as various dances to celebrate religious occasions, weddings and festivities; the use of locally crafted musical instruments and clothes; and the worship of regional deities. The sculptures at the archaeological sites Unakoti, Pilak and Devtamura provide historical evidence of artistic fusion between organised and indigenous religions.\n"
          ]
        }
      ],
      "source": [
        "for res in api_response:\n",
        "    print(res)"
      ]
    },
    {
      "cell_type": "code",
      "execution_count": 36,
      "metadata": {
        "id": "uLrV5mQI6KUw"
      },
      "outputs": [],
      "source": [
        "### Generate a natural language summary\n",
        "messages=[\n",
        "        {\"role\": \"system\", \"content\": \"You are a helpful assistant.\"},\n",
        "        {\"role\": \"user\", \"content\": prompt},]\n",
        "\n",
        "messages.append(response.choices[0].message)\n",
        "for tool,res in zip(tool_calls,api_response):\n",
        "  messages.append({\"tool_call_id\": tool['id'],\n",
        "                   \"role\": \"tool\",\n",
        "                   \"name\": 'search_wikipedia',\n",
        "                   \"content\": res,})\n"
      ]
    },
    {
      "cell_type": "code",
      "execution_count": 37,
      "metadata": {
        "id": "LhaN_IU86KUw"
      },
      "outputs": [],
      "source": [
        "# Now we return all API responses back to GPT-4 to summarize\n",
        "\n",
        "new_response = client.chat.completions.create(\n",
        "    model=\"gpt-4o\",\n",
        "    messages = messages,\n",
        "    tools=tools,\n",
        "    tool_choice='auto')"
      ]
    },
    {
      "cell_type": "code",
      "execution_count": 38,
      "metadata": {
        "colab": {
          "base_uri": "https://localhost:8080/"
        },
        "id": "svqLMcEL6KUx",
        "outputId": "6a604dc2-1a67-4852-9fe4-fee643207ba1"
      },
      "outputs": [
        {
          "name": "stdout",
          "output_type": "stream",
          "text": [
            "{\n",
            "  \"id\": \"chatcmpl-BIBoPkcxQirJ66Pe8YmZgauoLXY81\",\n",
            "  \"choices\": [\n",
            "    {\n",
            "      \"finish_reason\": \"tool_calls\",\n",
            "      \"index\": 0,\n",
            "      \"logprobs\": null,\n",
            "      \"message\": {\n",
            "        \"content\": null,\n",
            "        \"refusal\": null,\n",
            "        \"role\": \"assistant\",\n",
            "        \"annotations\": [],\n",
            "        \"audio\": null,\n",
            "        \"function_call\": null,\n",
            "        \"tool_calls\": [\n",
            "          {\n",
            "            \"id\": \"call_JwdVGeeIhqa9cxYBV98kCHYM\",\n",
            "            \"function\": {\n",
            "              \"arguments\": \"{\\\"location\\\":\\\"Agartala, Tripura\\\",\\\"unit\\\":\\\"celsius\\\"}\",\n",
            "              \"name\": \"get_current_weather\"\n",
            "            },\n",
            "            \"type\": \"function\"\n",
            "          }\n",
            "        ]\n",
            "      }\n",
            "    }\n",
            "  ],\n",
            "  \"created\": 1743675009,\n",
            "  \"model\": \"gpt-4o-2024-08-06\",\n",
            "  \"object\": \"chat.completion\",\n",
            "  \"service_tier\": \"default\",\n",
            "  \"system_fingerprint\": \"fp_898ac29719\",\n",
            "  \"usage\": {\n",
            "    \"completion_tokens\": 26,\n",
            "    \"prompt_tokens\": 692,\n",
            "    \"total_tokens\": 718,\n",
            "    \"completion_tokens_details\": {\n",
            "      \"accepted_prediction_tokens\": 0,\n",
            "      \"audio_tokens\": 0,\n",
            "      \"reasoning_tokens\": 0,\n",
            "      \"rejected_prediction_tokens\": 0\n",
            "    },\n",
            "    \"prompt_tokens_details\": {\n",
            "      \"audio_tokens\": 0,\n",
            "      \"cached_tokens\": 0\n",
            "    }\n",
            "  }\n",
            "}\n"
          ]
        }
      ],
      "source": [
        "# Display the final summary\n",
        "print(new_response.model_dump_json(indent=2))"
      ]
    },
    {
      "cell_type": "code",
      "execution_count": null,
      "metadata": {
        "id": "2lX_Z9SS6UwX"
      },
      "outputs": [],
      "source": []
    },
    {
      "cell_type": "code",
      "execution_count": null,
      "metadata": {
        "id": "If-B9OuR8dm2"
      },
      "outputs": [],
      "source": [
        "for i in range(10):\n",
        "  response = client.chat.completions.create(\n",
        "    model='gpt-4o',\n",
        "    messages=[\n",
        "        {\"role\": \"system\", \"content\": \"You are a helpful assistant.\"},\n",
        "        {\"role\": \"user\", \"content\": prompt}\n",
        "    ],\n",
        "    tools=tools,\n",
        "    tool_choice='auto')\n",
        "\n",
        "  tool_call_flag = response.choices[0].message.tool_calls\n",
        "\n",
        "  if tool_call:\n",
        "    response = response.choices[0].message\n",
        "    tool_calls = response.tool_calls\n",
        "    for tool_call in tool_calls:\n",
        "                function_name = tool_call.function.name\n",
        "                function_to_call = available_functions[function_name]\n",
        "                function_args = json.loads(tool_call.function.arguments)\n",
        "                function_response = function_to_call(**function_args)\n",
        "                print(function_response)\n",
        "                messages.append(\n",
        "                    {\n",
        "                        \"tool_call_id\": tool_call.id,\n",
        "                        \"role\": \"tool\",\n",
        "                        \"name\": function_name,\n",
        "                        \"content\": function_response,\n",
        "                    }\n",
        "                )\n",
        "\n",
        "  else:\n",
        "    return response.choices[0].message.content\n",
        "\n"
      ]
    },
    {
      "cell_type": "code",
      "execution_count": null,
      "metadata": {
        "id": "6e4SzQcd-vos"
      },
      "outputs": [],
      "source": [
        "tools = [\n",
        "    {\n",
        "            \"type\": \"function\",\n",
        "            \"function\": {\n",
        "                \"name\": \"get_current_weather\",\n",
        "                \"description\": \"Get the current weather in a given location\",\n",
        "                \"parameters\": {\n",
        "                    \"type\": \"object\",\n",
        "                    \"properties\": {\n",
        "                        \"location\": {\n",
        "                            \"type\": \"string\",\n",
        "                            \"description\": \"The city and state, e.g. San Francisco, CA\",\n",
        "                        },\n",
        "                        \"unit\": {\"type\": \"string\", \"enum\": [\"celsius\", \"fahrenheit\",\"kelvin\"]},\n",
        "                    },\n",
        "                    \"required\": [\"location\"],\n",
        "                },\n",
        "            },\n",
        "        },\n",
        "]"
      ]
    },
    {
      "cell_type": "code",
      "execution_count": null,
      "metadata": {
        "id": "u5K1kpHG-vwZ"
      },
      "outputs": [],
      "source": [
        "prompt = \"what is 2+2? and tell me the weather of bangalore. Answer questions together at the end.\""
      ]
    },
    {
      "cell_type": "code",
      "execution_count": null,
      "metadata": {
        "id": "3-Bu0Dxy-vwZ"
      },
      "outputs": [],
      "source": [
        "response = client.chat.completions.create(\n",
        "    model=deployment_name,\n",
        "    messages=[\n",
        "        {\"role\": \"system\", \"content\": \"You are a helpful assistant.\"},\n",
        "        {\"role\": \"user\", \"content\": prompt}\n",
        "    ],\n",
        "    tools=tools,\n",
        "    tool_choice='auto'\n",
        ")\n"
      ]
    },
    {
      "cell_type": "code",
      "execution_count": null,
      "metadata": {
        "colab": {
          "base_uri": "https://localhost:8080/"
        },
        "id": "4gDzJvhS-vwZ",
        "outputId": "da15efb4-2d38-4276-a926-a58abdef215f"
      },
      "outputs": [
        {
          "data": {
            "text/plain": [
              "[ChatCompletionMessageToolCall(id='call_lfTIZcEXKhJRzjIF5srNpGKH', function=Function(arguments='{\"location\": \"Bangalore\"}', name='get_current_weather'), type='function')]"
            ]
          },
          "execution_count": 92,
          "metadata": {},
          "output_type": "execute_result"
        }
      ],
      "source": [
        "response.choices[0].message.tool_calls"
      ]
    },
    {
      "cell_type": "code",
      "execution_count": null,
      "metadata": {
        "colab": {
          "base_uri": "https://localhost:8080/"
        },
        "id": "u7Uc8uUD-2-U",
        "outputId": "5dc836b3-3f46-4d41-a3b1-b27c2734d2c8"
      },
      "outputs": [
        {
          "name": "stdout",
          "output_type": "stream",
          "text": [
            "{\n",
            "  \"id\": \"chatcmpl-A8NT540tyItXaWXNw9dALXn1cAoXU\",\n",
            "  \"choices\": [\n",
            "    {\n",
            "      \"finish_reason\": \"tool_calls\",\n",
            "      \"index\": 0,\n",
            "      \"logprobs\": null,\n",
            "      \"message\": {\n",
            "        \"content\": null,\n",
            "        \"refusal\": null,\n",
            "        \"role\": \"assistant\",\n",
            "        \"function_call\": null,\n",
            "        \"tool_calls\": [\n",
            "          {\n",
            "            \"id\": \"call_lfTIZcEXKhJRzjIF5srNpGKH\",\n",
            "            \"function\": {\n",
            "              \"arguments\": \"{\\\"location\\\": \\\"Bangalore\\\"}\",\n",
            "              \"name\": \"get_current_weather\"\n",
            "            },\n",
            "            \"type\": \"function\"\n",
            "          }\n",
            "        ]\n",
            "      },\n",
            "      \"content_filter_results\": {}\n",
            "    }\n",
            "  ],\n",
            "  \"created\": 1726560199,\n",
            "  \"model\": \"gpt-4o-2024-05-13\",\n",
            "  \"object\": \"chat.completion\",\n",
            "  \"service_tier\": null,\n",
            "  \"system_fingerprint\": \"fp_80a1bad4c7\",\n",
            "  \"usage\": {\n",
            "    \"completion_tokens\": 32,\n",
            "    \"prompt_tokens\": 106,\n",
            "    \"total_tokens\": 138,\n",
            "    \"completion_tokens_details\": null\n",
            "  },\n",
            "  \"prompt_filter_results\": [\n",
            "    {\n",
            "      \"prompt_index\": 0,\n",
            "      \"content_filter_results\": {\n",
            "        \"hate\": {\n",
            "          \"filtered\": false,\n",
            "          \"severity\": \"safe\"\n",
            "        },\n",
            "        \"jailbreak\": {\n",
            "          \"filtered\": false,\n",
            "          \"detected\": false\n",
            "        },\n",
            "        \"self_harm\": {\n",
            "          \"filtered\": false,\n",
            "          \"severity\": \"safe\"\n",
            "        },\n",
            "        \"sexual\": {\n",
            "          \"filtered\": false,\n",
            "          \"severity\": \"safe\"\n",
            "        },\n",
            "        \"violence\": {\n",
            "          \"filtered\": false,\n",
            "          \"severity\": \"safe\"\n",
            "        }\n",
            "      }\n",
            "    }\n",
            "  ]\n",
            "}\n"
          ]
        }
      ],
      "source": [
        "print(response.model_dump_json(indent=2))"
      ]
    },
    {
      "cell_type": "code",
      "execution_count": null,
      "metadata": {
        "id": "YLs-gIM_-8BO"
      },
      "outputs": [],
      "source": []
    },
    {
      "cell_type": "code",
      "execution_count": null,
      "metadata": {
        "id": "UlDkK61p_t2L"
      },
      "outputs": [],
      "source": [
        "### Generate a natural language summary\n",
        "messages=[\n",
        "        {\"role\": \"system\", \"content\": \"You are a helpful assistant.\"},\n",
        "        {\"role\": \"user\", \"content\": prompt},]\n",
        "\n",
        "messages.append(response.choices[0].message)\n",
        "for tool,res in zip(tool_calls,api_response):\n",
        "  messages.append({\"tool_call_id\":\"call_lfTIZcEXKhJRzjIF5srNpGKH\" ,\n",
        "                   \"role\": \"tool\",\n",
        "                   \"name\": 'get_current_weather',\n",
        "                   \"content\": '{\"temperature\":\"340\",\"unit\":\"kelvin\"}',})\n"
      ]
    },
    {
      "cell_type": "code",
      "execution_count": null,
      "metadata": {
        "id": "pn9v9vUo_t2M"
      },
      "outputs": [],
      "source": [
        "# Now we return all API responses back to GPT-4 to summarize\n",
        "\n",
        "new_response = client.chat.completions.create(\n",
        "    model=\"gpt-4o\",\n",
        "    messages = messages,\n",
        "    tools=tools,\n",
        "    tool_choice='auto')"
      ]
    },
    {
      "cell_type": "code",
      "execution_count": null,
      "metadata": {
        "colab": {
          "base_uri": "https://localhost:8080/"
        },
        "id": "jkWTTBgK_8vQ",
        "outputId": "61832785-4dec-45a1-fe47-e6497a2ee1fb"
      },
      "outputs": [
        {
          "data": {
            "text/plain": [
              "[{'role': 'system', 'content': 'You are a helpful assistant.'},\n",
              " {'role': 'user',\n",
              "  'content': 'what is 2+2? and tell me the weather of bangalore. Answer questions together at the end.'},\n",
              " ChatCompletionMessage(content=None, refusal=None, role='assistant', function_call=None, tool_calls=[ChatCompletionMessageToolCall(id='call_lfTIZcEXKhJRzjIF5srNpGKH', function=Function(arguments='{\"location\": \"Bangalore\"}', name='get_current_weather'), type='function')]),\n",
              " {'tool_call_id': 'call_lfTIZcEXKhJRzjIF5srNpGKH',\n",
              "  'role': 'tool',\n",
              "  'name': 'get_current_weather',\n",
              "  'content': '{\"temperature\":\"340\",\"unit\":\"kelvin\"}'}]"
            ]
          },
          "execution_count": 99,
          "metadata": {},
          "output_type": "execute_result"
        }
      ],
      "source": [
        "messages"
      ]
    },
    {
      "cell_type": "code",
      "execution_count": null,
      "metadata": {
        "colab": {
          "base_uri": "https://localhost:8080/"
        },
        "id": "QgHZswEh_t2M",
        "outputId": "a63e1ba2-c333-4f03-bafd-91be6786ff4c"
      },
      "outputs": [
        {
          "name": "stdout",
          "output_type": "stream",
          "text": [
            "{\n",
            "  \"id\": \"chatcmpl-A8NTbq5K9gylL2fMVglMVefn6K2aj\",\n",
            "  \"choices\": [\n",
            "    {\n",
            "      \"finish_reason\": \"stop\",\n",
            "      \"index\": 0,\n",
            "      \"logprobs\": null,\n",
            "      \"message\": {\n",
            "        \"content\": \"1. The answer to 2+2 is 4.\\n2. The current weather in Bangalore is 340 K (Kelvin).\",\n",
            "        \"refusal\": null,\n",
            "        \"role\": \"assistant\",\n",
            "        \"function_call\": null,\n",
            "        \"tool_calls\": null\n",
            "      },\n",
            "      \"content_filter_results\": {\n",
            "        \"hate\": {\n",
            "          \"filtered\": false,\n",
            "          \"severity\": \"safe\"\n",
            "        },\n",
            "        \"self_harm\": {\n",
            "          \"filtered\": false,\n",
            "          \"severity\": \"safe\"\n",
            "        },\n",
            "        \"sexual\": {\n",
            "          \"filtered\": false,\n",
            "          \"severity\": \"safe\"\n",
            "        },\n",
            "        \"violence\": {\n",
            "          \"filtered\": false,\n",
            "          \"severity\": \"safe\"\n",
            "        }\n",
            "      }\n",
            "    }\n",
            "  ],\n",
            "  \"created\": 1726560231,\n",
            "  \"model\": \"gpt-4o-2024-05-13\",\n",
            "  \"object\": \"chat.completion\",\n",
            "  \"service_tier\": null,\n",
            "  \"system_fingerprint\": \"fp_80a1bad4c7\",\n",
            "  \"usage\": {\n",
            "    \"completion_tokens\": 29,\n",
            "    \"prompt_tokens\": 141,\n",
            "    \"total_tokens\": 170,\n",
            "    \"completion_tokens_details\": null\n",
            "  },\n",
            "  \"prompt_filter_results\": [\n",
            "    {\n",
            "      \"prompt_index\": 0,\n",
            "      \"content_filter_results\": {\n",
            "        \"hate\": {\n",
            "          \"filtered\": false,\n",
            "          \"severity\": \"safe\"\n",
            "        },\n",
            "        \"jailbreak\": {\n",
            "          \"filtered\": false,\n",
            "          \"detected\": false\n",
            "        },\n",
            "        \"self_harm\": {\n",
            "          \"filtered\": false,\n",
            "          \"severity\": \"safe\"\n",
            "        },\n",
            "        \"sexual\": {\n",
            "          \"filtered\": false,\n",
            "          \"severity\": \"safe\"\n",
            "        },\n",
            "        \"violence\": {\n",
            "          \"filtered\": false,\n",
            "          \"severity\": \"safe\"\n",
            "        }\n",
            "      }\n",
            "    }\n",
            "  ]\n",
            "}\n"
          ]
        }
      ],
      "source": [
        "# Display the final summary\n",
        "print(new_response.model_dump_json(indent=2))"
      ]
    },
    {
      "cell_type": "code",
      "execution_count": null,
      "metadata": {
        "id": "o9yIeHjNARY2"
      },
      "outputs": [],
      "source": []
    }
  ],
  "metadata": {
    "colab": {
      "include_colab_link": true,
      "provenance": []
    },
    "environment": {
      "kernel": "conda-root-py",
      "name": "workbench-notebooks.m115",
      "type": "gcloud",
      "uri": "gcr.io/deeplearning-platform-release/workbench-notebooks:m115"
    },
    "kernelspec": {
      "display_name": "Python 3",
      "language": "python",
      "name": "python3"
    },
    "language_info": {
      "codemirror_mode": {
        "name": "ipython",
        "version": 3
      },
      "file_extension": ".py",
      "mimetype": "text/x-python",
      "name": "python",
      "nbconvert_exporter": "python",
      "pygments_lexer": "ipython3",
      "version": "3.13.2"
    }
  },
  "nbformat": 4,
  "nbformat_minor": 0
}
