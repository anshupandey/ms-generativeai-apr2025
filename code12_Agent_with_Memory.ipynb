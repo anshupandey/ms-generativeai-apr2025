{
  "cells": [
    {
      "cell_type": "markdown",
      "metadata": {
        "colab_type": "text",
        "id": "view-in-github"
      },
      "source": [
        "<a href=\"https://colab.research.google.com/github/anshupandey/ms-generativeai-apr2025/blob/main/code12_Agent_with_Memory.ipynb\" target=\"_parent\"><img src=\"https://colab.research.google.com/assets/colab-badge.svg\" alt=\"Open In Colab\"/></a>"
      ]
    },
    {
      "cell_type": "markdown",
      "metadata": {
        "id": "ZOcEfkGTFAmu"
      },
      "source": [
        "## Agent with Memory"
      ]
    },
    {
      "cell_type": "code",
      "execution_count": 1,
      "metadata": {
        "id": "ojVPHU3JFAmy"
      },
      "outputs": [],
      "source": [
        "!pip install langchain langgraph langchain-openai --quiet --user"
      ]
    },
    {
      "cell_type": "code",
      "execution_count": 2,
      "metadata": {
        "id": "RlOI8SqEFAm0"
      },
      "outputs": [],
      "source": [
        "model_name=\"gpt-4o\""
      ]
    },
    {
      "cell_type": "code",
      "execution_count": 3,
      "metadata": {
        "id": "lvsLNQcCFAm1"
      },
      "outputs": [],
      "source": [
        "# Import relevant functionality\n",
        "from langchain_openai import ChatOpenAI\n",
        "from langchain_community.tools.tavily_search import TavilySearchResults\n",
        "from langchain_core.messages import HumanMessage\n",
        "from langgraph.checkpoint.memory import MemorySaver\n",
        "from langgraph.prebuilt import create_react_agent"
      ]
    },
    {
      "cell_type": "code",
      "execution_count": null,
      "metadata": {
        "id": "hTNmiJMhFAm2"
      },
      "outputs": [],
      "source": [
        "# Create the agent\n",
        "memory = MemorySaver()\n",
        "model = ChatOpenAI(model=model_name)"
      ]
    },
    {
      "cell_type": "code",
      "execution_count": 5,
      "metadata": {
        "id": "FLRMmod0FAm4"
      },
      "outputs": [],
      "source": [
        "search = TavilySearchResults(max_results=2)\n",
        "tools = [search]\n",
        "agent_executor = create_react_agent(model, tools, checkpointer=memory)"
      ]
    },
    {
      "cell_type": "code",
      "execution_count": 6,
      "metadata": {
        "id": "ZyiqPX5-FAm4",
        "outputId": "9a4b5e35-3479-4884-e807-0d770395a1c2"
      },
      "outputs": [
        {
          "name": "stdout",
          "output_type": "stream",
          "text": [
            "{'agent': {'messages': [AIMessage(content=\"Hello Bob! It's great to meet you. How can I assist you today? If you have any questions about San Francisco or anything else, feel free to ask!\", additional_kwargs={'refusal': None}, response_metadata={'token_usage': {'completion_tokens': 35, 'prompt_tokens': 88, 'total_tokens': 123, 'completion_tokens_details': {'accepted_prediction_tokens': 0, 'audio_tokens': 0, 'reasoning_tokens': 0, 'rejected_prediction_tokens': 0}, 'prompt_tokens_details': {'audio_tokens': 0, 'cached_tokens': 0}}, 'model_name': 'gpt-4o-2024-08-06', 'system_fingerprint': 'fp_898ac29719', 'id': 'chatcmpl-BIUXcywSAfCxixkNYNiZuASEpesw0', 'finish_reason': 'stop', 'logprobs': None}, id='run-fed85f4c-fe9d-40af-be91-720ba315dd28-0', usage_metadata={'input_tokens': 88, 'output_tokens': 35, 'total_tokens': 123, 'input_token_details': {'audio': 0, 'cache_read': 0}, 'output_token_details': {'audio': 0, 'reasoning': 0}})]}}\n",
            "----\n"
          ]
        }
      ],
      "source": [
        "\n",
        "# Use the agent\n",
        "config = {\"configurable\": {\"thread_id\": \"abc123\"}}\n",
        "for chunk in agent_executor.stream(\n",
        "    {\"messages\": [HumanMessage(content=\"hi im bob! and i live in sf\")]}, config\n",
        "):\n",
        "    print(chunk)\n",
        "    print(\"----\")"
      ]
    },
    {
      "cell_type": "code",
      "execution_count": 7,
      "metadata": {
        "id": "6COt1LprFAm7",
        "outputId": "c0938013-58bf-4db8-8e72-b49ee6216f6c"
      },
      "outputs": [
        {
          "name": "stdout",
          "output_type": "stream",
          "text": [
            "{'agent': {'messages': [AIMessage(content='', additional_kwargs={'tool_calls': [{'id': 'call_yMXupOw86bjLg7tJSc6WqE9w', 'function': {'arguments': '{\"query\":\"current weather in San Francisco\"}', 'name': 'tavily_search_results_json'}, 'type': 'function'}], 'refusal': None}, response_metadata={'token_usage': {'completion_tokens': 23, 'prompt_tokens': 137, 'total_tokens': 160, 'completion_tokens_details': {'accepted_prediction_tokens': 0, 'audio_tokens': 0, 'reasoning_tokens': 0, 'rejected_prediction_tokens': 0}, 'prompt_tokens_details': {'audio_tokens': 0, 'cached_tokens': 0}}, 'model_name': 'gpt-4o-2024-08-06', 'system_fingerprint': 'fp_898ac29719', 'id': 'chatcmpl-BIUYCoWDM13RfVGibpubCzSPtdmlD', 'finish_reason': 'tool_calls', 'logprobs': None}, id='run-c3689935-c3b2-40a9-a521-8072282f96b2-0', tool_calls=[{'name': 'tavily_search_results_json', 'args': {'query': 'current weather in San Francisco'}, 'id': 'call_yMXupOw86bjLg7tJSc6WqE9w', 'type': 'tool_call'}], usage_metadata={'input_tokens': 137, 'output_tokens': 23, 'total_tokens': 160, 'input_token_details': {'audio': 0, 'cache_read': 0}, 'output_token_details': {'audio': 0, 'reasoning': 0}})]}}\n",
            "----\n",
            "{'tools': {'messages': [ToolMessage(content='[{\"title\": \"Friday, April 4, 2025. San Francisco, CA - Weather Forecast\", \"url\": \"https://weathershogun.com/weather/usa/ca/san-francisco/480/april/2025-04-04\", \"content\": \"San Francisco, California Weather: Friday, April 4, 2025. Cloudy weather, overcast skies with clouds. Day 64°. Night 50°. Precipitation 0 %.\", \"score\": 0.9442644}, {\"title\": \"San Francisco weather in April 2025 | Weather25.com\", \"url\": \"https://www.weather25.com/north-america/usa/california/san-francisco?page=month&month=April\", \"content\": \"| Sun | Mon | Tue | Wed | Thu | Fri | Sat |\\\\n| --- | --- | --- | --- | --- | --- | --- |\\\\n| \\\\n | \\\\n| 1  53° /48° | 2  53° /46° | 3  53° /46° | 4  62° /48° | 5  64° /53° |\\\\n| 6  57° /51° | 7  59° /50° | 8  60° /50° | 9  64° /53° | 10  64° /55° | 11  59° /53° | 12  55° /48° |\\\\n| 13  59° /46° | 14  59° /48° | 15  60° /48° | 16  62° /48° | 17  60° /48° | 18  60° /50° | 19  60° /50° |\\\\n| 20  60° /48° | 21  62° /50° | 22  62° /50° | 23  62° /50° | 24  62° /50° | 25  60° /50° | 26  64° /50° | [...] The temperatures in San Francisco in April are quite cold with temperatures between 48°F and 64°F, warm clothes are a must.\\\\nThe wather in San Francisco in April can vary between cold and nice weather days. Expect a few rainy days but usually not more than 3.\\\\nOur weather forecast can give you a great sense of what weather to expect in San Francisco in April 2025. [...] | July | 77° / 57° | 0 | 31 | 0 | 0.12 in | \\\\nPerfect\\\\n| San Francisco in July |\\\\n| August | 77° / 57° | 0 | 31 | 0 | 0.12 in | \\\\nPerfect\\\\n| San Francisco in August |\\\\n| September | 77° / 57° | 0 | 30 | 0 | 0.16 in | \\\\nPerfect\\\\n| San Francisco in September |\\\\n| October | 73° / 55° | 1 | 30 | 0 | 1.02 in | \\\\nPerfect\\\\n| San Francisco in October |\\\\n| November | 64° / 50° | 3 | 27 | 0 | 1.46 in | \\\\nGood\\\\n| San Francisco in November |\\\\n| December | 57° / 46° | 4 | 27 | 0 | 2.17 in | \\\\nGood\", \"score\": 0.8875269}]', name='tavily_search_results_json', id='acab775e-cfa6-464c-8a2e-844feb60ba2c', tool_call_id='call_yMXupOw86bjLg7tJSc6WqE9w', artifact={'query': 'current weather in San Francisco', 'follow_up_questions': None, 'answer': None, 'images': [], 'results': [{'url': 'https://weathershogun.com/weather/usa/ca/san-francisco/480/april/2025-04-04', 'title': 'Friday, April 4, 2025. San Francisco, CA - Weather Forecast', 'content': 'San Francisco, California Weather: Friday, April 4, 2025. Cloudy weather, overcast skies with clouds. Day 64°. Night 50°. Precipitation 0 %.', 'score': 0.9442644, 'raw_content': None}, {'url': 'https://www.weather25.com/north-america/usa/california/san-francisco?page=month&month=April', 'title': 'San Francisco weather in April 2025 | Weather25.com', 'content': '| Sun | Mon | Tue | Wed | Thu | Fri | Sat |\\n| --- | --- | --- | --- | --- | --- | --- |\\n| \\n | \\n| 1  53° /48° | 2  53° /46° | 3  53° /46° | 4  62° /48° | 5  64° /53° |\\n| 6  57° /51° | 7  59° /50° | 8  60° /50° | 9  64° /53° | 10  64° /55° | 11  59° /53° | 12  55° /48° |\\n| 13  59° /46° | 14  59° /48° | 15  60° /48° | 16  62° /48° | 17  60° /48° | 18  60° /50° | 19  60° /50° |\\n| 20  60° /48° | 21  62° /50° | 22  62° /50° | 23  62° /50° | 24  62° /50° | 25  60° /50° | 26  64° /50° | [...] The temperatures in San Francisco in April are quite cold with temperatures between 48°F and 64°F, warm clothes are a must.\\nThe wather in San Francisco in April can vary between cold and nice weather days. Expect a few rainy days but usually not more than 3.\\nOur weather forecast can give you a great sense of what weather to expect in San Francisco in April 2025. [...] | July | 77° / 57° | 0 | 31 | 0 | 0.12 in | \\nPerfect\\n| San Francisco in July |\\n| August | 77° / 57° | 0 | 31 | 0 | 0.12 in | \\nPerfect\\n| San Francisco in August |\\n| September | 77° / 57° | 0 | 30 | 0 | 0.16 in | \\nPerfect\\n| San Francisco in September |\\n| October | 73° / 55° | 1 | 30 | 0 | 1.02 in | \\nPerfect\\n| San Francisco in October |\\n| November | 64° / 50° | 3 | 27 | 0 | 1.46 in | \\nGood\\n| San Francisco in November |\\n| December | 57° / 46° | 4 | 27 | 0 | 2.17 in | \\nGood', 'score': 0.8875269, 'raw_content': None}], 'response_time': 1.21})]}}\n",
            "----\n",
            "{'agent': {'messages': [AIMessage(content='The current weather in San Francisco is cloudy with overcast skies. The daytime temperature is expected to be around 64°F, and the nighttime temperature will drop to about 50°F. There is no precipitation forecasted for today.', additional_kwargs={'refusal': None}, response_metadata={'token_usage': {'completion_tokens': 48, 'prompt_tokens': 947, 'total_tokens': 995, 'completion_tokens_details': {'accepted_prediction_tokens': 0, 'audio_tokens': 0, 'reasoning_tokens': 0, 'rejected_prediction_tokens': 0}, 'prompt_tokens_details': {'audio_tokens': 0, 'cached_tokens': 0}}, 'model_name': 'gpt-4o-2024-08-06', 'system_fingerprint': 'fp_898ac29719', 'id': 'chatcmpl-BIUYFXoJe5KfMut0VtVIIE8rnhtOR', 'finish_reason': 'stop', 'logprobs': None}, id='run-54c0f40a-a203-4961-ad5e-7929b5ed553b-0', usage_metadata={'input_tokens': 947, 'output_tokens': 48, 'total_tokens': 995, 'input_token_details': {'audio': 0, 'cache_read': 0}, 'output_token_details': {'audio': 0, 'reasoning': 0}})]}}\n",
            "----\n"
          ]
        }
      ],
      "source": [
        "\n",
        "\n",
        "for chunk in agent_executor.stream(\n",
        "    {\"messages\": [HumanMessage(content=\"whats the weather where I live?\")]}, config\n",
        "):\n",
        "    print(chunk)\n",
        "    print(\"----\")"
      ]
    },
    {
      "cell_type": "code",
      "execution_count": null,
      "metadata": {
        "id": "ILN1exNvFAm8"
      },
      "outputs": [],
      "source": []
    }
  ],
  "metadata": {
    "colab": {
      "include_colab_link": true,
      "provenance": []
    },
    "kernelspec": {
      "display_name": "Python 3",
      "language": "python",
      "name": "python3"
    },
    "language_info": {
      "codemirror_mode": {
        "name": "ipython",
        "version": 3
      },
      "file_extension": ".py",
      "mimetype": "text/x-python",
      "name": "python",
      "nbconvert_exporter": "python",
      "pygments_lexer": "ipython3",
      "version": "3.13.2"
    }
  },
  "nbformat": 4,
  "nbformat_minor": 0
}
