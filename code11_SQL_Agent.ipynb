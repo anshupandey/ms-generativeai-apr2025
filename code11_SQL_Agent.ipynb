{
  "cells": [
    {
      "cell_type": "markdown",
      "metadata": {
        "colab_type": "text",
        "id": "view-in-github"
      },
      "source": [
        "<a href=\"https://colab.research.google.com/github/anshupandey/ms-generativeai-apr2025/blob/main/code11_SQL_Agent.ipynb\" target=\"_parent\"><img src=\"https://colab.research.google.com/assets/colab-badge.svg\" alt=\"Open In Colab\"/></a>"
      ]
    },
    {
      "cell_type": "markdown",
      "metadata": {
        "id": "jQUfh4Aqtf5E"
      },
      "source": [
        "# SQL Agent and SQL Chain"
      ]
    },
    {
      "cell_type": "markdown",
      "metadata": {
        "id": "jcODjgMoJBO0"
      },
      "source": [
        "<img src=\"https://python.langchain.com/assets/images/sql_usecase-d432701261f05ab69b38576093718cf3.png\">"
      ]
    },
    {
      "cell_type": "code",
      "execution_count": null,
      "metadata": {
        "colab": {
          "base_uri": "https://localhost:8080/"
        },
        "id": "jLDTOetMVUxG",
        "outputId": "a83c1f40-ff3a-4cc2-9411-7144014dcfc2"
      },
      "outputs": [
        {
          "name": "stdout",
          "output_type": "stream",
          "text": [
            "\u001b[2K     \u001b[90m━━━━━━━━━━━━━━━━━━━━━━━━━━━━━━━━━━━━━━━━\u001b[0m \u001b[32m50.4/50.4 kB\u001b[0m \u001b[31m1.4 MB/s\u001b[0m eta \u001b[36m0:00:00\u001b[0m\n",
            "\u001b[2K   \u001b[90m━━━━━━━━━━━━━━━━━━━━━━━━━━━━━━━━━━━━━━━━\u001b[0m \u001b[32m51.5/51.5 kB\u001b[0m \u001b[31m3.0 MB/s\u001b[0m eta \u001b[36m0:00:00\u001b[0m\n",
            "\u001b[2K   \u001b[90m━━━━━━━━━━━━━━━━━━━━━━━━━━━━━━━━━━━━━━━━\u001b[0m \u001b[32m1.0/1.0 MB\u001b[0m \u001b[31m33.0 MB/s\u001b[0m eta \u001b[36m0:00:00\u001b[0m\n",
            "\u001b[2K   \u001b[90m━━━━━━━━━━━━━━━━━━━━━━━━━━━━━━━━━━━━━━━━\u001b[0m \u001b[32m405.1/405.1 kB\u001b[0m \u001b[31m20.2 MB/s\u001b[0m eta \u001b[36m0:00:00\u001b[0m\n",
            "\u001b[2K   \u001b[90m━━━━━━━━━━━━━━━━━━━━━━━━━━━━━━━━━━━━━━━━\u001b[0m \u001b[32m2.3/2.3 MB\u001b[0m \u001b[31m61.6 MB/s\u001b[0m eta \u001b[36m0:00:00\u001b[0m\n",
            "\u001b[2K   \u001b[90m━━━━━━━━━━━━━━━━━━━━━━━━━━━━━━━━━━━━━━━━\u001b[0m \u001b[32m289.9/289.9 kB\u001b[0m \u001b[31m13.1 MB/s\u001b[0m eta \u001b[36m0:00:00\u001b[0m\n",
            "\u001b[2K   \u001b[90m━━━━━━━━━━━━━━━━━━━━━━━━━━━━━━━━━━━━━━━━\u001b[0m \u001b[32m375.0/375.0 kB\u001b[0m \u001b[31m20.1 MB/s\u001b[0m eta \u001b[36m0:00:00\u001b[0m\n",
            "\u001b[2K   \u001b[90m━━━━━━━━━━━━━━━━━━━━━━━━━━━━━━━━━━━━━━━━\u001b[0m \u001b[32m1.1/1.1 MB\u001b[0m \u001b[31m34.4 MB/s\u001b[0m eta \u001b[36m0:00:00\u001b[0m\n",
            "\u001b[2K   \u001b[90m━━━━━━━━━━━━━━━━━━━━━━━━━━━━━━━━━━━━━━━━\u001b[0m \u001b[32m76.4/76.4 kB\u001b[0m \u001b[31m3.6 MB/s\u001b[0m eta \u001b[36m0:00:00\u001b[0m\n",
            "\u001b[2K   \u001b[90m━━━━━━━━━━━━━━━━━━━━━━━━━━━━━━━━━━━━━━━━\u001b[0m \u001b[32m77.9/77.9 kB\u001b[0m \u001b[31m3.9 MB/s\u001b[0m eta \u001b[36m0:00:00\u001b[0m\n",
            "\u001b[2K   \u001b[90m━━━━━━━━━━━━━━━━━━━━━━━━━━━━━━━━━━━━━━━━\u001b[0m \u001b[32m318.9/318.9 kB\u001b[0m \u001b[31m16.8 MB/s\u001b[0m eta \u001b[36m0:00:00\u001b[0m\n",
            "\u001b[2K   \u001b[90m━━━━━━━━━━━━━━━━━━━━━━━━━━━━━━━━━━━━━━━━\u001b[0m \u001b[32m49.3/49.3 kB\u001b[0m \u001b[31m3.1 MB/s\u001b[0m eta \u001b[36m0:00:00\u001b[0m\n",
            "\u001b[2K   \u001b[90m━━━━━━━━━━━━━━━━━━━━━━━━━━━━━━━━━━━━━━━━\u001b[0m \u001b[32m141.9/141.9 kB\u001b[0m \u001b[31m9.8 MB/s\u001b[0m eta \u001b[36m0:00:00\u001b[0m\n",
            "\u001b[2K   \u001b[90m━━━━━━━━━━━━━━━━━━━━━━━━━━━━━━━━━━━━━━━━\u001b[0m \u001b[32m58.3/58.3 kB\u001b[0m \u001b[31m3.7 MB/s\u001b[0m eta \u001b[36m0:00:00\u001b[0m\n",
            "\u001b[2K   \u001b[90m━━━━━━━━━━━━━━━━━━━━━━━━━━━━━━━━━━━━━━━━\u001b[0m \u001b[32m206.9/206.9 kB\u001b[0m \u001b[31m9.5 MB/s\u001b[0m eta \u001b[36m0:00:00\u001b[0m\n",
            "\u001b[?25h  Preparing metadata (setup.py) ... \u001b[?25l\u001b[?25hdone\n",
            "  Preparing metadata (setup.py) ... \u001b[?25l\u001b[?25hdone\n",
            "\u001b[2K   \u001b[90m━━━━━━━━━━━━━━━━━━━━━━━━━━━━━━━━━━━━━━━━\u001b[0m \u001b[32m4.5/4.5 MB\u001b[0m \u001b[31m51.5 MB/s\u001b[0m eta \u001b[36m0:00:00\u001b[0m\n",
            "\u001b[?25h  Building wheel for google-search-results (setup.py) ... \u001b[?25l\u001b[?25hdone\n",
            "  Building wheel for wikipedia (setup.py) ... \u001b[?25l\u001b[?25hdone\n"
          ]
        }
      ],
      "source": [
        "# Installing necessary libraries\n",
        "!pip install langchain-openai langchain langchain-core langchain-community --quiet\n",
        "!pip install httpx langchain-experimental ace_tools langgraph --quiet\n",
        "!pip install openai google-search-results tiktoken wikipedia pyowm --quiet"
      ]
    },
    {
      "cell_type": "code",
      "execution_count": 1,
      "metadata": {
        "id": "zXTTa9eAP8UF"
      },
      "outputs": [],
      "source": [
        "model_name=\"gpt-4o\""
      ]
    },
    {
      "cell_type": "markdown",
      "metadata": {
        "id": "YKEIP6bSAStT"
      },
      "source": [
        "## Implementing a database Integration Chain"
      ]
    },
    {
      "cell_type": "code",
      "execution_count": 3,
      "metadata": {
        "id": "0Sm9vHksAStT"
      },
      "outputs": [],
      "source": [
        "from langchain_openai import ChatOpenAI\n",
        "from langchain.utilities import SQLDatabase\n",
        "from langchain.chains import create_sql_query_chain\n",
        "\n",
        "\n",
        "db = SQLDatabase.from_uri(\"sqlite:///Chinook_database.db\")\n",
        "llm = ChatOpenAI(model=model_name,temperature=0)\n",
        "db_chain = create_sql_query_chain(llm, db)"
      ]
    },
    {
      "cell_type": "code",
      "execution_count": 5,
      "metadata": {},
      "outputs": [
        {
          "data": {
            "text/plain": [
              "'[(1, \\'Luís\\', \\'Gonçalves\\', \\'Embraer - Empresa Brasileira de Aeronáutica S.A.\\', \\'Av. Brigadeiro Faria Lima, 2170\\', \\'São José dos Campos\\', \\'SP\\', \\'Brazil\\', \\'12227-000\\', \\'+55 (12) 3923-5555\\', \\'+55 (12) 3923-5566\\', \\'luisg@embraer.com.br\\', 3), (2, \\'Leonie\\', \\'Köhler\\', None, \\'Theodor-Heuss-Straße 34\\', \\'Stuttgart\\', None, \\'Germany\\', \\'70174\\', \\'+49 0711 2842222\\', None, \\'leonekohler@surfeu.de\\', 5), (3, \\'François\\', \\'Tremblay\\', None, \\'1498 rue Bélanger\\', \\'Montréal\\', \\'QC\\', \\'Canada\\', \\'H2G 1A7\\', \\'+1 (514) 721-4711\\', None, \\'ftremblay@gmail.com\\', 3), (4, \\'Bjørn\\', \\'Hansen\\', None, \\'Ullevålsveien 14\\', \\'Oslo\\', None, \\'Norway\\', \\'0171\\', \\'+47 22 44 22 22\\', None, \\'bjorn.hansen@yahoo.no\\', 4), (5, \\'František\\', \\'Wichterlová\\', \\'JetBrains s.r.o.\\', \\'Klanova 9/506\\', \\'Prague\\', None, \\'Czech Republic\\', \\'14700\\', \\'+420 2 4172 5555\\', \\'+420 2 4172 5555\\', \\'frantisekw@jetbrains.com\\', 4), (6, \\'Helena\\', \\'Holý\\', None, \\'Rilská 3174/6\\', \\'Prague\\', None, \\'Czech Republic\\', \\'14300\\', \\'+420 2 4177 0449\\', None, \\'hholy@gmail.com\\', 5), (7, \\'Astrid\\', \\'Gruber\\', None, \\'Rotenturmstraße 4, 1010 Innere Stadt\\', \\'Vienne\\', None, \\'Austria\\', \\'1010\\', \\'+43 01 5134505\\', None, \\'astrid.gruber@apple.at\\', 5), (8, \\'Daan\\', \\'Peeters\\', None, \\'Grétrystraat 63\\', \\'Brussels\\', None, \\'Belgium\\', \\'1000\\', \\'+32 02 219 03 03\\', None, \\'daan_peeters@apple.be\\', 4), (9, \\'Kara\\', \\'Nielsen\\', None, \\'Sønder Boulevard 51\\', \\'Copenhagen\\', None, \\'Denmark\\', \\'1720\\', \\'+453 3331 9991\\', None, \\'kara.nielsen@jubii.dk\\', 4), (10, \\'Eduardo\\', \\'Martins\\', \\'Woodstock Discos\\', \\'Rua Dr. Falcão Filho, 155\\', \\'São Paulo\\', \\'SP\\', \\'Brazil\\', \\'01007-010\\', \\'+55 (11) 3033-5446\\', \\'+55 (11) 3033-4564\\', \\'eduardo@woodstock.com.br\\', 4), (11, \\'Alexandre\\', \\'Rocha\\', \\'Banco do Brasil S.A.\\', \\'Av. Paulista, 2022\\', \\'São Paulo\\', \\'SP\\', \\'Brazil\\', \\'01310-200\\', \\'+55 (11) 3055-3278\\', \\'+55 (11) 3055-8131\\', \\'alero@uol.com.br\\', 5), (12, \\'Roberto\\', \\'Almeida\\', \\'Riotur\\', \\'Praça Pio X, 119\\', \\'Rio de Janeiro\\', \\'RJ\\', \\'Brazil\\', \\'20040-020\\', \\'+55 (21) 2271-7000\\', \\'+55 (21) 2271-7070\\', \\'roberto.almeida@riotur.gov.br\\', 3), (13, \\'Fernanda\\', \\'Ramos\\', None, \\'Qe 7 Bloco G\\', \\'Brasília\\', \\'DF\\', \\'Brazil\\', \\'71020-677\\', \\'+55 (61) 3363-5547\\', \\'+55 (61) 3363-7855\\', \\'fernadaramos4@uol.com.br\\', 4), (14, \\'Mark\\', \\'Philips\\', \\'Telus\\', \\'8210 111 ST NW\\', \\'Edmonton\\', \\'AB\\', \\'Canada\\', \\'T6G 2C7\\', \\'+1 (780) 434-4554\\', \\'+1 (780) 434-5565\\', \\'mphilips12@shaw.ca\\', 5), (15, \\'Jennifer\\', \\'Peterson\\', \\'Rogers Canada\\', \\'700 W Pender Street\\', \\'Vancouver\\', \\'BC\\', \\'Canada\\', \\'V6C 1G8\\', \\'+1 (604) 688-2255\\', \\'+1 (604) 688-8756\\', \\'jenniferp@rogers.ca\\', 3), (16, \\'Frank\\', \\'Harris\\', \\'Google Inc.\\', \\'1600 Amphitheatre Parkway\\', \\'Mountain View\\', \\'CA\\', \\'USA\\', \\'94043-1351\\', \\'+1 (650) 253-0000\\', \\'+1 (650) 253-0000\\', \\'fharris@google.com\\', 4), (17, \\'Jack\\', \\'Smith\\', \\'Microsoft Corporation\\', \\'1 Microsoft Way\\', \\'Redmond\\', \\'WA\\', \\'USA\\', \\'98052-8300\\', \\'+1 (425) 882-8080\\', \\'+1 (425) 882-8081\\', \\'jacksmith@microsoft.com\\', 5), (18, \\'Michelle\\', \\'Brooks\\', None, \\'627 Broadway\\', \\'New York\\', \\'NY\\', \\'USA\\', \\'10012-2612\\', \\'+1 (212) 221-3546\\', \\'+1 (212) 221-4679\\', \\'michelleb@aol.com\\', 3), (19, \\'Tim\\', \\'Goyer\\', \\'Apple Inc.\\', \\'1 Infinite Loop\\', \\'Cupertino\\', \\'CA\\', \\'USA\\', \\'95014\\', \\'+1 (408) 996-1010\\', \\'+1 (408) 996-1011\\', \\'tgoyer@apple.com\\', 3), (20, \\'Dan\\', \\'Miller\\', None, \\'541 Del Medio Avenue\\', \\'Mountain View\\', \\'CA\\', \\'USA\\', \\'94040-111\\', \\'+1 (650) 644-3358\\', None, \\'dmiller@comcast.com\\', 4), (21, \\'Kathy\\', \\'Chase\\', None, \\'801 W 4th Street\\', \\'Reno\\', \\'NV\\', \\'USA\\', \\'89503\\', \\'+1 (775) 223-7665\\', None, \\'kachase@hotmail.com\\', 5), (22, \\'Heather\\', \\'Leacock\\', None, \\'120 S Orange Ave\\', \\'Orlando\\', \\'FL\\', \\'USA\\', \\'32801\\', \\'+1 (407) 999-7788\\', None, \\'hleacock@gmail.com\\', 4), (23, \\'John\\', \\'Gordon\\', None, \\'69 Salem Street\\', \\'Boston\\', \\'MA\\', \\'USA\\', \\'2113\\', \\'+1 (617) 522-1333\\', None, \\'johngordon22@yahoo.com\\', 4), (24, \\'Frank\\', \\'Ralston\\', None, \\'162 E Superior Street\\', \\'Chicago\\', \\'IL\\', \\'USA\\', \\'60611\\', \\'+1 (312) 332-3232\\', None, \\'fralston@gmail.com\\', 3), (25, \\'Victor\\', \\'Stevens\\', None, \\'319 N. Frances Street\\', \\'Madison\\', \\'WI\\', \\'USA\\', \\'53703\\', \\'+1 (608) 257-0597\\', None, \\'vstevens@yahoo.com\\', 5), (26, \\'Richard\\', \\'Cunningham\\', None, \\'2211 W Berry Street\\', \\'Fort Worth\\', \\'TX\\', \\'USA\\', \\'76110\\', \\'+1 (817) 924-7272\\', None, \\'ricunningham@hotmail.com\\', 4), (27, \\'Patrick\\', \\'Gray\\', None, \\'1033 N Park Ave\\', \\'Tucson\\', \\'AZ\\', \\'USA\\', \\'85719\\', \\'+1 (520) 622-4200\\', None, \\'patrick.gray@aol.com\\', 4), (28, \\'Julia\\', \\'Barnett\\', None, \\'302 S 700 E\\', \\'Salt Lake City\\', \\'UT\\', \\'USA\\', \\'84102\\', \\'+1 (801) 531-7272\\', None, \\'jubarnett@gmail.com\\', 5), (29, \\'Robert\\', \\'Brown\\', None, \\'796 Dundas Street West\\', \\'Toronto\\', \\'ON\\', \\'Canada\\', \\'M6J 1V1\\', \\'+1 (416) 363-8888\\', None, \\'robbrown@shaw.ca\\', 3), (30, \\'Edward\\', \\'Francis\\', None, \\'230 Elgin Street\\', \\'Ottawa\\', \\'ON\\', \\'Canada\\', \\'K2P 1L7\\', \\'+1 (613) 234-3322\\', None, \\'edfrancis@yachoo.ca\\', 3), (31, \\'Martha\\', \\'Silk\\', None, \\'194A Chain Lake Drive\\', \\'Halifax\\', \\'NS\\', \\'Canada\\', \\'B3S 1C5\\', \\'+1 (902) 450-0450\\', None, \\'marthasilk@gmail.com\\', 5), (32, \\'Aaron\\', \\'Mitchell\\', None, \\'696 Osborne Street\\', \\'Winnipeg\\', \\'MB\\', \\'Canada\\', \\'R3L 2B9\\', \\'+1 (204) 452-6452\\', None, \\'aaronmitchell@yahoo.ca\\', 4), (33, \\'Ellie\\', \\'Sullivan\\', None, \\'5112 48 Street\\', \\'Yellowknife\\', \\'NT\\', \\'Canada\\', \\'X1A 1N6\\', \\'+1 (867) 920-2233\\', None, \\'ellie.sullivan@shaw.ca\\', 3), (34, \\'João\\', \\'Fernandes\\', None, \\'Rua da Assunção 53\\', \\'Lisbon\\', None, \\'Portugal\\', None, \\'+351 (213) 466-111\\', None, \\'jfernandes@yahoo.pt\\', 4), (35, \\'Madalena\\', \\'Sampaio\\', None, \\'Rua dos Campeões Europeus de Viena, 4350\\', \\'Porto\\', None, \\'Portugal\\', None, \\'+351 (225) 022-448\\', None, \\'masampaio@sapo.pt\\', 4), (36, \\'Hannah\\', \\'Schneider\\', None, \\'Tauentzienstraße 8\\', \\'Berlin\\', None, \\'Germany\\', \\'10789\\', \\'+49 030 26550280\\', None, \\'hannah.schneider@yahoo.de\\', 5), (37, \\'Fynn\\', \\'Zimmermann\\', None, \\'Berger Straße 10\\', \\'Frankfurt\\', None, \\'Germany\\', \\'60316\\', \\'+49 069 40598889\\', None, \\'fzimmermann@yahoo.de\\', 3), (38, \\'Niklas\\', \\'Schröder\\', None, \\'Barbarossastraße 19\\', \\'Berlin\\', None, \\'Germany\\', \\'10779\\', \\'+49 030 2141444\\', None, \\'nschroder@surfeu.de\\', 3), (39, \\'Camille\\', \\'Bernard\\', None, \\'4, Rue Milton\\', \\'Paris\\', None, \\'France\\', \\'75009\\', \\'+33 01 49 70 65 65\\', None, \\'camille.bernard@yahoo.fr\\', 4), (40, \\'Dominique\\', \\'Lefebvre\\', None, \\'8, Rue Hanovre\\', \\'Paris\\', None, \\'France\\', \\'75002\\', \\'+33 01 47 42 71 71\\', None, \\'dominiquelefebvre@gmail.com\\', 4), (41, \\'Marc\\', \\'Dubois\\', None, \\'11, Place Bellecour\\', \\'Lyon\\', None, \\'France\\', \\'69002\\', \\'+33 04 78 30 30 30\\', None, \\'marc.dubois@hotmail.com\\', 5), (42, \\'Wyatt\\', \\'Girard\\', None, \\'9, Place Louis Barthou\\', \\'Bordeaux\\', None, \\'France\\', \\'33000\\', \\'+33 05 56 96 96 96\\', None, \\'wyatt.girard@yahoo.fr\\', 3), (43, \\'Isabelle\\', \\'Mercier\\', None, \\'68, Rue Jouvence\\', \\'Dijon\\', None, \\'France\\', \\'21000\\', \\'+33 03 80 73 66 99\\', None, \\'isabelle_mercier@apple.fr\\', 3), (44, \\'Terhi\\', \\'Hämäläinen\\', None, \\'Porthaninkatu 9\\', \\'Helsinki\\', None, \\'Finland\\', \\'00530\\', \\'+358 09 870 2000\\', None, \\'terhi.hamalainen@apple.fi\\', 3), (45, \\'Ladislav\\', \\'Kovács\\', None, \\'Erzsébet krt. 58.\\', \\'Budapest\\', None, \\'Hungary\\', \\'H-1073\\', None, None, \\'ladislav_kovacs@apple.hu\\', 3), (46, \\'Hugh\\', \"O\\'Reilly\", None, \\'3 Chatham Street\\', \\'Dublin\\', \\'Dublin\\', \\'Ireland\\', None, \\'+353 01 6792424\\', None, \\'hughoreilly@apple.ie\\', 3), (47, \\'Lucas\\', \\'Mancini\\', None, \\'Via Degli Scipioni, 43\\', \\'Rome\\', \\'RM\\', \\'Italy\\', \\'00192\\', \\'+39 06 39733434\\', None, \\'lucas.mancini@yahoo.it\\', 5), (48, \\'Johannes\\', \\'Van der Berg\\', None, \\'Lijnbaansgracht 120bg\\', \\'Amsterdam\\', \\'VV\\', \\'Netherlands\\', \\'1016\\', \\'+31 020 6223130\\', None, \\'johavanderberg@yahoo.nl\\', 5), (49, \\'Stanisław\\', \\'Wójcik\\', None, \\'Ordynacka 10\\', \\'Warsaw\\', None, \\'Poland\\', \\'00-358\\', \\'+48 22 828 37 39\\', None, \\'stanisław.wójcik@wp.pl\\', 4), (50, \\'Enrique\\', \\'Muñoz\\', None, \\'C/ San Bernardo 85\\', \\'Madrid\\', None, \\'Spain\\', \\'28015\\', \\'+34 914 454 454\\', None, \\'enrique_munoz@yahoo.es\\', 5), (51, \\'Joakim\\', \\'Johansson\\', None, \\'Celsiusg. 9\\', \\'Stockholm\\', None, \\'Sweden\\', \\'11230\\', \\'+46 08-651 52 52\\', None, \\'joakim.johansson@yahoo.se\\', 5), (52, \\'Emma\\', \\'Jones\\', None, \\'202 Hoxton Street\\', \\'London\\', None, \\'United Kingdom\\', \\'N1 5LH\\', \\'+44 020 7707 0707\\', None, \\'emma_jones@hotmail.com\\', 3), (53, \\'Phil\\', \\'Hughes\\', None, \\'113 Lupus St\\', \\'London\\', None, \\'United Kingdom\\', \\'SW1V 3EN\\', \\'+44 020 7976 5722\\', None, \\'phil.hughes@gmail.com\\', 3), (54, \\'Steve\\', \\'Murray\\', None, \\'110 Raeburn Pl\\', \\'Edinburgh \\', None, \\'United Kingdom\\', \\'EH4 1HH\\', \\'+44 0131 315 3300\\', None, \\'steve.murray@yahoo.uk\\', 5), (55, \\'Mark\\', \\'Taylor\\', None, \\'421 Bourke Street\\', \\'Sidney\\', \\'NSW\\', \\'Australia\\', \\'2010\\', \\'+61 (02) 9332 3633\\', None, \\'mark.taylor@yahoo.au\\', 4), (56, \\'Diego\\', \\'Gutiérrez\\', None, \\'307 Macacha Güemes\\', \\'Buenos Aires\\', None, \\'Argentina\\', \\'1106\\', \\'+54 (0)11 4311 4333\\', None, \\'diego.gutierrez@yahoo.ar\\', 4), (57, \\'Luis\\', \\'Rojas\\', None, \\'Calle Lira, 198\\', \\'Santiago\\', None, \\'Chile\\', None, \\'+56 (0)2 635 4444\\', None, \\'luisrojas@yahoo.cl\\', 5), (58, \\'Manoj\\', \\'Pareek\\', None, \\'12,Community Centre\\', \\'Delhi\\', None, \\'India\\', \\'110017\\', \\'+91 0124 39883988\\', None, \\'manoj.pareek@rediff.com\\', 3), (59, \\'Puja\\', \\'Srivastava\\', None, \\'3,Raj Bhavan Road\\', \\'Bangalore\\', None, \\'India\\', \\'560001\\', \\'+91 080 22289999\\', None, \\'puja_srivastava@yahoo.in\\', 3)]'"
            ]
          },
          "execution_count": 5,
          "metadata": {},
          "output_type": "execute_result"
        }
      ],
      "source": [
        "db.run(\"select * from customer;\")"
      ]
    },
    {
      "cell_type": "markdown",
      "metadata": {
        "id": "fpcqKu8EAStT"
      },
      "source": [
        "- Approach 1: input + prompt emplate (DB Schema) --> LLM ---> (outputs query)---> tool (DB tool to execute query) ---> LLM ---> Final Response\n",
        "\n",
        "- Approach 2: input + user cred --> F0 ---> Fetch the DB schema based on accessible tables ---> Prompt template + DB schema ----> LLM ---> (outputs query)---> tool (DB tool to execute query) ---> LLM ---> Final Response"
      ]
    },
    {
      "cell_type": "code",
      "execution_count": 6,
      "metadata": {
        "colab": {
          "base_uri": "https://localhost:8080/",
          "height": 52
        },
        "id": "MqL7CV-nAStT",
        "outputId": "07fd054f-2375-4318-f778-8747fbe44d79"
      },
      "outputs": [
        {
          "data": {
            "text/plain": [
              "\"[('Album',), ('Artist',), ('Customer',), ('Employee',), ('Genre',), ('Invoice',), ('InvoiceLine',), ('MediaType',), ('Playlist',), ('PlaylistTrack',), ('Track',)]\""
            ]
          },
          "execution_count": 6,
          "metadata": {},
          "output_type": "execute_result"
        }
      ],
      "source": [
        "db.run(\"\"\"SELECT \"name\" FROM sqlite_master WHERE \"type\"='table';\"\"\")"
      ]
    },
    {
      "cell_type": "code",
      "execution_count": 7,
      "metadata": {
        "colab": {
          "base_uri": "https://localhost:8080/"
        },
        "id": "55CZwXOXAStU",
        "outputId": "a85f91a1-2a44-49cb-baf8-ab07e695b9fc"
      },
      "outputs": [
        {
          "name": "stdout",
          "output_type": "stream",
          "text": [
            "Answer: The available tables in the database are \"Album\", \"Artist\", \"Customer\", \"Employee\", \"Genre\", \"Invoice\", \"InvoiceLine\", \"MediaType\", \"Playlist\", \"PlaylistTrack\", and \"Track\".\n"
          ]
        }
      ],
      "source": [
        "response = db_chain.invoke({\"question\":\"What are tables in availabe in the database?\"})\n",
        "print(response)"
      ]
    },
    {
      "cell_type": "code",
      "execution_count": 8,
      "metadata": {
        "colab": {
          "base_uri": "https://localhost:8080/",
          "height": 70
        },
        "id": "PuWCo5JeAStU",
        "outputId": "280fd24b-f698-42f8-f869-9ec253207a5a"
      },
      "outputs": [
        {
          "name": "stderr",
          "output_type": "stream",
          "text": [
            "C:\\Users\\Admin\\AppData\\Local\\Temp\\ipykernel_10612\\1818266462.py:2: LangChainDeprecationWarning: The class `QuerySQLDataBaseTool` was deprecated in LangChain 0.3.12 and will be removed in 1.0. An updated version of the class exists in the :class:`~langchain-community package and should be used instead. To use it run `pip install -U :class:`~langchain-community` and import as `from :class:`~langchain_community.tools import QuerySQLDatabaseTool``.\n",
            "  exec_chain = QuerySQLDataBaseTool(db=db)\n"
          ]
        },
        {
          "name": "stdout",
          "output_type": "stream",
          "text": [
            " SELECT \"name\" FROM \"sqlite_master\" WHERE \"type\"='table'; \n"
          ]
        },
        {
          "data": {
            "text/plain": [
              "\"[('Album',), ('Artist',), ('Customer',), ('Employee',), ('Genre',), ('Invoice',), ('InvoiceLine',), ('MediaType',), ('Playlist',), ('PlaylistTrack',), ('Track',)]\""
            ]
          },
          "execution_count": 8,
          "metadata": {},
          "output_type": "execute_result"
        }
      ],
      "source": [
        "from langchain_community.tools.sql_database.tool import QuerySQLDataBaseTool\n",
        "exec_chain = QuerySQLDataBaseTool(db=db)\n",
        "\n",
        "import re\n",
        "\n",
        "def cleaner(query):\n",
        "    pattern = re.compile(r\"```(.*?)```\",re.DOTALL)\n",
        "    query = pattern.findall(query)[0]\n",
        "    query = query[3:]\n",
        "    query = query.replace(\"\\n\",\" \")\n",
        "    print(query)\n",
        "    return query\n",
        "\n",
        "\n",
        "\n",
        "final_Chain = db_chain | cleaner | exec_chain\n",
        "final_Chain.invoke({\"question\":\"What are tables in availabe in the database?\"})"
      ]
    },
    {
      "cell_type": "code",
      "execution_count": 12,
      "metadata": {
        "colab": {
          "base_uri": "https://localhost:8080/",
          "height": 52
        },
        "id": "TVl2gKSOAStU",
        "outputId": "39c524f0-91bb-42ab-ac74-0c30077483e2"
      },
      "outputs": [
        {
          "name": "stdout",
          "output_type": "stream",
          "text": [
            " SQLQuery: SELECT COUNT(\"EmployeeId\") AS \"TotalEmployees\" FROM \"Employee\" \n"
          ]
        },
        {
          "data": {
            "text/plain": [
              "'Error: (sqlite3.OperationalError) near \"SQLQuery\": syntax error\\n[SQL:  SQLQuery: SELECT COUNT(\"EmployeeId\") AS \"TotalEmployees\" FROM \"Employee\" ]\\n(Background on this error at: https://sqlalche.me/e/20/e3q8)'"
            ]
          },
          "execution_count": 12,
          "metadata": {},
          "output_type": "execute_result"
        }
      ],
      "source": [
        "final_Chain.invoke({\"question\":\"How many employees are there in total?\"})"
      ]
    },
    {
      "cell_type": "code",
      "execution_count": 13,
      "metadata": {
        "colab": {
          "base_uri": "https://localhost:8080/",
          "height": 72
        },
        "id": "czDD0mwfAStU",
        "outputId": "d3c2a171-6a30-4629-8613-a69855b0076b"
      },
      "outputs": [
        {
          "name": "stdout",
          "output_type": "stream",
          "text": [
            " SQLQuery:  SELECT \"Artist\".\"Name\", COUNT(\"Track\".\"TrackId\") AS \"NumberOfTracks\" FROM \"Artist\" JOIN \"Album\" ON \"Artist\".\"ArtistId\" = \"Album\".\"ArtistId\" JOIN \"Track\" ON \"Album\".\"AlbumId\" = \"Track\".\"AlbumId\" GROUP BY \"Artist\".\"Name\" ORDER BY \"NumberOfTracks\" DESC LIMIT 5; \n"
          ]
        },
        {
          "data": {
            "text/plain": [
              "'Error: (sqlite3.OperationalError) near \"SQLQuery\": syntax error\\n[SQL:  SQLQuery:  SELECT \"Artist\".\"Name\", COUNT(\"Track\".\"TrackId\") AS \"NumberOfTracks\" FROM \"Artist\" JOIN \"Album\" ON \"Artist\".\"ArtistId\" = \"Album\".\"ArtistId\" JOIN \"Track\" ON \"Album\".\"AlbumId\" = \"Track\".\"AlbumId\" GROUP BY \"Artist\".\"Name\" ORDER BY \"NumberOfTracks\" DESC LIMIT 5; ]\\n(Background on this error at: https://sqlalche.me/e/20/e3q8)'"
            ]
          },
          "execution_count": 13,
          "metadata": {},
          "output_type": "execute_result"
        }
      ],
      "source": [
        "final_Chain.invoke({\"question\":\"who are most popular artists according to number of songs?\"})"
      ]
    },
    {
      "cell_type": "markdown",
      "metadata": {
        "id": "mTJRrse4GmKg"
      },
      "source": [
        "# SQL Agent"
      ]
    },
    {
      "cell_type": "code",
      "execution_count": 14,
      "metadata": {
        "id": "mGzIwPF1Gna_"
      },
      "outputs": [],
      "source": [
        "from langchain_community.agent_toolkits import create_sql_agent\n",
        "\n",
        "agent_executor = create_sql_agent(llm, db=db, agent_type=\"openai-tools\", verbose=True)"
      ]
    },
    {
      "cell_type": "code",
      "execution_count": 15,
      "metadata": {
        "colab": {
          "base_uri": "https://localhost:8080/"
        },
        "id": "WfiOLYIXGu3m",
        "outputId": "9ff8f697-e356-4104-fd0a-0f9de541810e"
      },
      "outputs": [
        {
          "name": "stdout",
          "output_type": "stream",
          "text": [
            "\n",
            "\n",
            "\u001b[1m> Entering new SQL Agent Executor chain...\u001b[0m\n",
            "\u001b[32;1m\u001b[1;3m\n",
            "Invoking: `sql_db_list_tables` with `{}`\n",
            "\n",
            "\n",
            "\u001b[0m\u001b[38;5;200m\u001b[1;3mAlbum, Artist, Customer, Employee, Genre, Invoice, InvoiceLine, MediaType, Playlist, PlaylistTrack, Track\u001b[0m\u001b[32;1m\u001b[1;3m\n",
            "Invoking: `sql_db_schema` with `{'table_names': 'Customer'}`\n",
            "\n",
            "\n",
            "\u001b[0m\u001b[33;1m\u001b[1;3m\n",
            "CREATE TABLE \"Customer\" (\n",
            "\t\"CustomerId\" INTEGER NOT NULL, \n",
            "\t\"FirstName\" NVARCHAR(40) NOT NULL, \n",
            "\t\"LastName\" NVARCHAR(20) NOT NULL, \n",
            "\t\"Company\" NVARCHAR(80), \n",
            "\t\"Address\" NVARCHAR(70), \n",
            "\t\"City\" NVARCHAR(40), \n",
            "\t\"State\" NVARCHAR(40), \n",
            "\t\"Country\" NVARCHAR(40), \n",
            "\t\"PostalCode\" NVARCHAR(10), \n",
            "\t\"Phone\" NVARCHAR(24), \n",
            "\t\"Fax\" NVARCHAR(24), \n",
            "\t\"Email\" NVARCHAR(60) NOT NULL, \n",
            "\t\"SupportRepId\" INTEGER, \n",
            "\tPRIMARY KEY (\"CustomerId\"), \n",
            "\tFOREIGN KEY(\"SupportRepId\") REFERENCES \"Employee\" (\"EmployeeId\")\n",
            ")\n",
            "\n",
            "/*\n",
            "3 rows from Customer table:\n",
            "CustomerId\tFirstName\tLastName\tCompany\tAddress\tCity\tState\tCountry\tPostalCode\tPhone\tFax\tEmail\tSupportRepId\n",
            "1\tLuís\tGonçalves\tEmbraer - Empresa Brasileira de Aeronáutica S.A.\tAv. Brigadeiro Faria Lima, 2170\tSão José dos Campos\tSP\tBrazil\t12227-000\t+55 (12) 3923-5555\t+55 (12) 3923-5566\tluisg@embraer.com.br\t3\n",
            "2\tLeonie\tKöhler\tNone\tTheodor-Heuss-Straße 34\tStuttgart\tNone\tGermany\t70174\t+49 0711 2842222\tNone\tleonekohler@surfeu.de\t5\n",
            "3\tFrançois\tTremblay\tNone\t1498 rue Bélanger\tMontréal\tQC\tCanada\tH2G 1A7\t+1 (514) 721-4711\tNone\tftremblay@gmail.com\t3\n",
            "*/\u001b[0m\u001b[32;1m\u001b[1;3mThe \"Customer\" table does not have a column for age or date of birth, so I cannot calculate the average age of customers. If you have any other questions related to the database, feel free to ask!\u001b[0m\n",
            "\n",
            "\u001b[1m> Finished chain.\u001b[0m\n"
          ]
        },
        {
          "data": {
            "text/plain": [
              "{'input': \"what's the average age of customers\",\n",
              " 'output': 'The \"Customer\" table does not have a column for age or date of birth, so I cannot calculate the average age of customers. If you have any other questions related to the database, feel free to ask!'}"
            ]
          },
          "execution_count": 15,
          "metadata": {},
          "output_type": "execute_result"
        }
      ],
      "source": [
        "agent_executor.invoke({\"input\": \"what's the average age of customers\"})"
      ]
    },
    {
      "cell_type": "code",
      "execution_count": 16,
      "metadata": {},
      "outputs": [
        {
          "name": "stdout",
          "output_type": "stream",
          "text": [
            "\n",
            "\n",
            "\u001b[1m> Entering new SQL Agent Executor chain...\u001b[0m\n",
            "\u001b[32;1m\u001b[1;3m\n",
            "Invoking: `sql_db_list_tables` with `{}`\n",
            "\n",
            "\n",
            "\u001b[0m\u001b[38;5;200m\u001b[1;3mAlbum, Artist, Customer, Employee, Genre, Invoice, InvoiceLine, MediaType, Playlist, PlaylistTrack, Track\u001b[0m\u001b[32;1m\u001b[1;3m\n",
            "Invoking: `sql_db_schema` with `{'table_names': 'Customer'}`\n",
            "\n",
            "\n",
            "\u001b[0m\u001b[33;1m\u001b[1;3m\n",
            "CREATE TABLE \"Customer\" (\n",
            "\t\"CustomerId\" INTEGER NOT NULL, \n",
            "\t\"FirstName\" NVARCHAR(40) NOT NULL, \n",
            "\t\"LastName\" NVARCHAR(20) NOT NULL, \n",
            "\t\"Company\" NVARCHAR(80), \n",
            "\t\"Address\" NVARCHAR(70), \n",
            "\t\"City\" NVARCHAR(40), \n",
            "\t\"State\" NVARCHAR(40), \n",
            "\t\"Country\" NVARCHAR(40), \n",
            "\t\"PostalCode\" NVARCHAR(10), \n",
            "\t\"Phone\" NVARCHAR(24), \n",
            "\t\"Fax\" NVARCHAR(24), \n",
            "\t\"Email\" NVARCHAR(60) NOT NULL, \n",
            "\t\"SupportRepId\" INTEGER, \n",
            "\tPRIMARY KEY (\"CustomerId\"), \n",
            "\tFOREIGN KEY(\"SupportRepId\") REFERENCES \"Employee\" (\"EmployeeId\")\n",
            ")\n",
            "\n",
            "/*\n",
            "3 rows from Customer table:\n",
            "CustomerId\tFirstName\tLastName\tCompany\tAddress\tCity\tState\tCountry\tPostalCode\tPhone\tFax\tEmail\tSupportRepId\n",
            "1\tLuís\tGonçalves\tEmbraer - Empresa Brasileira de Aeronáutica S.A.\tAv. Brigadeiro Faria Lima, 2170\tSão José dos Campos\tSP\tBrazil\t12227-000\t+55 (12) 3923-5555\t+55 (12) 3923-5566\tluisg@embraer.com.br\t3\n",
            "2\tLeonie\tKöhler\tNone\tTheodor-Heuss-Straße 34\tStuttgart\tNone\tGermany\t70174\t+49 0711 2842222\tNone\tleonekohler@surfeu.de\t5\n",
            "3\tFrançois\tTremblay\tNone\t1498 rue Bélanger\tMontréal\tQC\tCanada\tH2G 1A7\t+1 (514) 721-4711\tNone\tftremblay@gmail.com\t3\n",
            "*/\u001b[0m\u001b[32;1m\u001b[1;3m\n",
            "Invoking: `sql_db_query_checker` with `{'query': 'SELECT Country, COUNT(DISTINCT CustomerId) as CustomerCount FROM Customer GROUP BY Country'}`\n",
            "\n",
            "\n",
            "\u001b[0m\u001b[36;1m\u001b[1;3m```sql\n",
            "SELECT Country, COUNT(DISTINCT CustomerId) as CustomerCount FROM Customer GROUP BY Country\n",
            "```\u001b[0m\u001b[32;1m\u001b[1;3m\n",
            "Invoking: `sql_db_query` with `{'query': 'SELECT Country, COUNT(DISTINCT CustomerId) as CustomerCount FROM Customer GROUP BY Country'}`\n",
            "\n",
            "\n",
            "\u001b[0m\u001b[36;1m\u001b[1;3m[('Argentina', 1), ('Australia', 1), ('Austria', 1), ('Belgium', 1), ('Brazil', 5), ('Canada', 8), ('Chile', 1), ('Czech Republic', 2), ('Denmark', 1), ('Finland', 1), ('France', 5), ('Germany', 4), ('Hungary', 1), ('India', 2), ('Ireland', 1), ('Italy', 1), ('Netherlands', 1), ('Norway', 1), ('Poland', 1), ('Portugal', 2), ('Spain', 1), ('Sweden', 1), ('USA', 13), ('United Kingdom', 3)]\u001b[0m\u001b[32;1m\u001b[1;3mHere is a unique list of countries from where we have customers, along with the count of customers from each country:\n",
            "\n",
            "- Argentina: 1\n",
            "- Australia: 1\n",
            "- Austria: 1\n",
            "- Belgium: 1\n",
            "- Brazil: 5\n",
            "- Canada: 8\n",
            "- Chile: 1\n",
            "- Czech Republic: 2\n",
            "- Denmark: 1\n",
            "- Finland: 1\n",
            "- France: 5\n",
            "- Germany: 4\n",
            "- Hungary: 1\n",
            "- India: 2\n",
            "- Ireland: 1\n",
            "- Italy: 1\n",
            "- Netherlands: 1\n",
            "- Norway: 1\n",
            "- Poland: 1\n",
            "- Portugal: 2\n",
            "- Spain: 1\n",
            "- Sweden: 1\n",
            "- USA: 13\n",
            "- United Kingdom: 3\u001b[0m\n",
            "\n",
            "\u001b[1m> Finished chain.\u001b[0m\n"
          ]
        },
        {
          "data": {
            "text/plain": [
              "{'input': 'what are the countries from where we have customers, provide unique list with count',\n",
              " 'output': 'Here is a unique list of countries from where we have customers, along with the count of customers from each country:\\n\\n- Argentina: 1\\n- Australia: 1\\n- Austria: 1\\n- Belgium: 1\\n- Brazil: 5\\n- Canada: 8\\n- Chile: 1\\n- Czech Republic: 2\\n- Denmark: 1\\n- Finland: 1\\n- France: 5\\n- Germany: 4\\n- Hungary: 1\\n- India: 2\\n- Ireland: 1\\n- Italy: 1\\n- Netherlands: 1\\n- Norway: 1\\n- Poland: 1\\n- Portugal: 2\\n- Spain: 1\\n- Sweden: 1\\n- USA: 13\\n- United Kingdom: 3'}"
            ]
          },
          "execution_count": 16,
          "metadata": {},
          "output_type": "execute_result"
        }
      ],
      "source": [
        "agent_executor.invoke({\"input\": \"what are the countries from where we have customers, provide unique list with count\"})"
      ]
    },
    {
      "cell_type": "code",
      "execution_count": 17,
      "metadata": {
        "colab": {
          "base_uri": "https://localhost:8080/"
        },
        "id": "PErgh3taIe_G",
        "outputId": "2716073f-5e40-4c8f-f262-6c24db3f4e17"
      },
      "outputs": [
        {
          "data": {
            "text/plain": [
              "[QuerySQLDatabaseTool(description=\"Input to this tool is a detailed and correct SQL query, output is a result from the database. If the query is not correct, an error message will be returned. If an error is returned, rewrite the query, check the query, and try again. If you encounter an issue with Unknown column 'xxxx' in 'field list', use sql_db_schema to query the correct table fields.\", db=<langchain_community.utilities.sql_database.SQLDatabase object at 0x0000028EC28596A0>),\n",
              " InfoSQLDatabaseTool(description='Input to this tool is a comma-separated list of tables, output is the schema and sample rows for those tables. Be sure that the tables actually exist by calling sql_db_list_tables first! Example Input: table1, table2, table3', db=<langchain_community.utilities.sql_database.SQLDatabase object at 0x0000028EC28596A0>),\n",
              " ListSQLDatabaseTool(db=<langchain_community.utilities.sql_database.SQLDatabase object at 0x0000028EC28596A0>),\n",
              " QuerySQLCheckerTool(description='Use this tool to double check if your query is correct before executing it. Always use this tool before executing a query with sql_db_query!', db=<langchain_community.utilities.sql_database.SQLDatabase object at 0x0000028EC28596A0>, llm=ChatOpenAI(client=<openai.resources.chat.completions.completions.Completions object at 0x0000028EC3970C20>, async_client=<openai.resources.chat.completions.completions.AsyncCompletions object at 0x0000028EC397D010>, root_client=<openai.OpenAI object at 0x0000028EC2859FD0>, root_async_client=<openai.AsyncOpenAI object at 0x0000028EC3970D70>, model_name='gpt-4o', temperature=0.0, model_kwargs={}, openai_api_key=SecretStr('**********')), llm_chain=LLMChain(verbose=False, prompt=PromptTemplate(input_variables=['dialect', 'query'], input_types={}, partial_variables={}, template='\\n{query}\\nDouble check the {dialect} query above for common mistakes, including:\\n- Using NOT IN with NULL values\\n- Using UNION when UNION ALL should have been used\\n- Using BETWEEN for exclusive ranges\\n- Data type mismatch in predicates\\n- Properly quoting identifiers\\n- Using the correct number of arguments for functions\\n- Casting to the correct data type\\n- Using the proper columns for joins\\n\\nIf there are any of the above mistakes, rewrite the query. If there are no mistakes, just reproduce the original query.\\n\\nOutput the final SQL query only.\\n\\nSQL Query: '), llm=ChatOpenAI(client=<openai.resources.chat.completions.completions.Completions object at 0x0000028EC3970C20>, async_client=<openai.resources.chat.completions.completions.AsyncCompletions object at 0x0000028EC397D010>, root_client=<openai.OpenAI object at 0x0000028EC2859FD0>, root_async_client=<openai.AsyncOpenAI object at 0x0000028EC3970D70>, model_name='gpt-4o', temperature=0.0, model_kwargs={}, openai_api_key=SecretStr('**********')), output_parser=StrOutputParser(), llm_kwargs={}))]"
            ]
          },
          "execution_count": 17,
          "metadata": {},
          "output_type": "execute_result"
        }
      ],
      "source": [
        "from langchain_community.agent_toolkits import SQLDatabaseToolkit\n",
        "\n",
        "toolkit = SQLDatabaseToolkit(db=db, llm=llm)\n",
        "\n",
        "tools = toolkit.get_tools()\n",
        "\n",
        "tools"
      ]
    },
    {
      "cell_type": "code",
      "execution_count": 18,
      "metadata": {
        "id": "OpZEzxazIm7U"
      },
      "outputs": [],
      "source": [
        "from langchain_core.messages import HumanMessage\n",
        "from langgraph.prebuilt import create_react_agent\n",
        "\n",
        "agent_executor = create_react_agent(llm, tools,) #messages_modifier=system_message"
      ]
    },
    {
      "cell_type": "code",
      "execution_count": 19,
      "metadata": {
        "colab": {
          "base_uri": "https://localhost:8080/"
        },
        "id": "w7hmwNO5IwUz",
        "outputId": "77e9e9ed-d81f-49c1-a6c3-e3daa75b7980"
      },
      "outputs": [
        {
          "name": "stdout",
          "output_type": "stream",
          "text": [
            "{'agent': {'messages': [AIMessage(content='', additional_kwargs={'tool_calls': [{'id': 'call_OQtlmBnDsY8z0QnKdWEjBwTy', 'function': {'arguments': '{}', 'name': 'sql_db_list_tables'}, 'type': 'function'}], 'refusal': None}, response_metadata={'token_usage': {'completion_tokens': 13, 'prompt_tokens': 325, 'total_tokens': 338, 'completion_tokens_details': {'accepted_prediction_tokens': 0, 'audio_tokens': 0, 'reasoning_tokens': 0, 'rejected_prediction_tokens': 0}, 'prompt_tokens_details': {'audio_tokens': 0, 'cached_tokens': 0}}, 'model_name': 'gpt-4o-2024-08-06', 'system_fingerprint': 'fp_726d488742', 'id': 'chatcmpl-BIVoVl9z0HNT5R4HLEuyaRtjxl70Q', 'finish_reason': 'tool_calls', 'logprobs': None}, id='run-55a85115-d639-4f45-b181-ef53e6218898-0', tool_calls=[{'name': 'sql_db_list_tables', 'args': {}, 'id': 'call_OQtlmBnDsY8z0QnKdWEjBwTy', 'type': 'tool_call'}], usage_metadata={'input_tokens': 325, 'output_tokens': 13, 'total_tokens': 338, 'input_token_details': {'audio': 0, 'cache_read': 0}, 'output_token_details': {'audio': 0, 'reasoning': 0}})]}}\n",
            "----\n",
            "{'tools': {'messages': [ToolMessage(content='Album, Artist, Customer, Employee, Genre, Invoice, InvoiceLine, MediaType, Playlist, PlaylistTrack, Track', name='sql_db_list_tables', id='e5970713-837e-4e56-8ea3-053cd2cd9d3c', tool_call_id='call_OQtlmBnDsY8z0QnKdWEjBwTy')]}}\n",
            "----\n",
            "{'agent': {'messages': [AIMessage(content='', additional_kwargs={'tool_calls': [{'id': 'call_JWwgDWkq8vqZnnlZhAXWCgAl', 'function': {'arguments': '{\"table_names\":\"Customer, Invoice\"}', 'name': 'sql_db_schema'}, 'type': 'function'}], 'refusal': None}, response_metadata={'token_usage': {'completion_tokens': 19, 'prompt_tokens': 371, 'total_tokens': 390, 'completion_tokens_details': {'accepted_prediction_tokens': 0, 'audio_tokens': 0, 'reasoning_tokens': 0, 'rejected_prediction_tokens': 0}, 'prompt_tokens_details': {'audio_tokens': 0, 'cached_tokens': 0}}, 'model_name': 'gpt-4o-2024-08-06', 'system_fingerprint': 'fp_726d488742', 'id': 'chatcmpl-BIVoWowQWkzsZMbFoeLnnJRtQKrc8', 'finish_reason': 'tool_calls', 'logprobs': None}, id='run-a86a5386-ce68-4e56-b853-2bea0fa45f8a-0', tool_calls=[{'name': 'sql_db_schema', 'args': {'table_names': 'Customer, Invoice'}, 'id': 'call_JWwgDWkq8vqZnnlZhAXWCgAl', 'type': 'tool_call'}], usage_metadata={'input_tokens': 371, 'output_tokens': 19, 'total_tokens': 390, 'input_token_details': {'audio': 0, 'cache_read': 0}, 'output_token_details': {'audio': 0, 'reasoning': 0}})]}}\n",
            "----\n",
            "{'tools': {'messages': [ToolMessage(content='\\nCREATE TABLE \"Customer\" (\\n\\t\"CustomerId\" INTEGER NOT NULL, \\n\\t\"FirstName\" NVARCHAR(40) NOT NULL, \\n\\t\"LastName\" NVARCHAR(20) NOT NULL, \\n\\t\"Company\" NVARCHAR(80), \\n\\t\"Address\" NVARCHAR(70), \\n\\t\"City\" NVARCHAR(40), \\n\\t\"State\" NVARCHAR(40), \\n\\t\"Country\" NVARCHAR(40), \\n\\t\"PostalCode\" NVARCHAR(10), \\n\\t\"Phone\" NVARCHAR(24), \\n\\t\"Fax\" NVARCHAR(24), \\n\\t\"Email\" NVARCHAR(60) NOT NULL, \\n\\t\"SupportRepId\" INTEGER, \\n\\tPRIMARY KEY (\"CustomerId\"), \\n\\tFOREIGN KEY(\"SupportRepId\") REFERENCES \"Employee\" (\"EmployeeId\")\\n)\\n\\n/*\\n3 rows from Customer table:\\nCustomerId\\tFirstName\\tLastName\\tCompany\\tAddress\\tCity\\tState\\tCountry\\tPostalCode\\tPhone\\tFax\\tEmail\\tSupportRepId\\n1\\tLuís\\tGonçalves\\tEmbraer - Empresa Brasileira de Aeronáutica S.A.\\tAv. Brigadeiro Faria Lima, 2170\\tSão José dos Campos\\tSP\\tBrazil\\t12227-000\\t+55 (12) 3923-5555\\t+55 (12) 3923-5566\\tluisg@embraer.com.br\\t3\\n2\\tLeonie\\tKöhler\\tNone\\tTheodor-Heuss-Straße 34\\tStuttgart\\tNone\\tGermany\\t70174\\t+49 0711 2842222\\tNone\\tleonekohler@surfeu.de\\t5\\n3\\tFrançois\\tTremblay\\tNone\\t1498 rue Bélanger\\tMontréal\\tQC\\tCanada\\tH2G 1A7\\t+1 (514) 721-4711\\tNone\\tftremblay@gmail.com\\t3\\n*/\\n\\n\\nCREATE TABLE \"Invoice\" (\\n\\t\"InvoiceId\" INTEGER NOT NULL, \\n\\t\"CustomerId\" INTEGER NOT NULL, \\n\\t\"InvoiceDate\" DATETIME NOT NULL, \\n\\t\"BillingAddress\" NVARCHAR(70), \\n\\t\"BillingCity\" NVARCHAR(40), \\n\\t\"BillingState\" NVARCHAR(40), \\n\\t\"BillingCountry\" NVARCHAR(40), \\n\\t\"BillingPostalCode\" NVARCHAR(10), \\n\\t\"Total\" NUMERIC(10, 2) NOT NULL, \\n\\tPRIMARY KEY (\"InvoiceId\"), \\n\\tFOREIGN KEY(\"CustomerId\") REFERENCES \"Customer\" (\"CustomerId\")\\n)\\n\\n/*\\n3 rows from Invoice table:\\nInvoiceId\\tCustomerId\\tInvoiceDate\\tBillingAddress\\tBillingCity\\tBillingState\\tBillingCountry\\tBillingPostalCode\\tTotal\\n1\\t2\\t2021-01-01 00:00:00\\tTheodor-Heuss-Straße 34\\tStuttgart\\tNone\\tGermany\\t70174\\t1.98\\n2\\t4\\t2021-01-02 00:00:00\\tUllevålsveien 14\\tOslo\\tNone\\tNorway\\t0171\\t3.96\\n3\\t8\\t2021-01-03 00:00:00\\tGrétrystraat 63\\tBrussels\\tNone\\tBelgium\\t1000\\t5.94\\n*/', name='sql_db_schema', id='f5a299bd-cdb5-4082-8843-25ef95a193f9', tool_call_id='call_JWwgDWkq8vqZnnlZhAXWCgAl')]}}\n",
            "----\n",
            "{'agent': {'messages': [AIMessage(content='', additional_kwargs={'tool_calls': [{'id': 'call_mJdSGFBaqnujdB7SwSpUD5ML', 'function': {'arguments': '{\"query\":\"SELECT c.Country, SUM(i.Total) as TotalSpent FROM Customer c JOIN Invoice i ON c.CustomerId = i.CustomerId GROUP BY c.Country ORDER BY TotalSpent DESC LIMIT 1;\"}', 'name': 'sql_db_query_checker'}, 'type': 'function'}], 'refusal': None}, response_metadata={'token_usage': {'completion_tokens': 54, 'prompt_tokens': 1089, 'total_tokens': 1143, 'completion_tokens_details': {'accepted_prediction_tokens': 0, 'audio_tokens': 0, 'reasoning_tokens': 0, 'rejected_prediction_tokens': 0}, 'prompt_tokens_details': {'audio_tokens': 0, 'cached_tokens': 1024}}, 'model_name': 'gpt-4o-2024-08-06', 'system_fingerprint': 'fp_726d488742', 'id': 'chatcmpl-BIVoXQEYuuQ40qZo4QZZN5wg8XYSF', 'finish_reason': 'tool_calls', 'logprobs': None}, id='run-c0629023-308e-4a2f-9853-1c94c0552988-0', tool_calls=[{'name': 'sql_db_query_checker', 'args': {'query': 'SELECT c.Country, SUM(i.Total) as TotalSpent FROM Customer c JOIN Invoice i ON c.CustomerId = i.CustomerId GROUP BY c.Country ORDER BY TotalSpent DESC LIMIT 1;'}, 'id': 'call_mJdSGFBaqnujdB7SwSpUD5ML', 'type': 'tool_call'}], usage_metadata={'input_tokens': 1089, 'output_tokens': 54, 'total_tokens': 1143, 'input_token_details': {'audio': 0, 'cache_read': 1024}, 'output_token_details': {'audio': 0, 'reasoning': 0}})]}}\n",
            "----\n",
            "{'tools': {'messages': [ToolMessage(content='```sql\\nSELECT c.Country, SUM(i.Total) as TotalSpent FROM Customer c JOIN Invoice i ON c.CustomerId = i.CustomerId GROUP BY c.Country ORDER BY TotalSpent DESC LIMIT 1;\\n```', name='sql_db_query_checker', id='5af9a400-f297-47ea-8c88-919ad1d8f494', tool_call_id='call_mJdSGFBaqnujdB7SwSpUD5ML')]}}\n",
            "----\n",
            "{'agent': {'messages': [AIMessage(content='', additional_kwargs={'tool_calls': [{'id': 'call_uCFWktULzXx8NXyMApF6ihuZ', 'function': {'arguments': '{\"query\":\"SELECT c.Country, SUM(i.Total) as TotalSpent FROM Customer c JOIN Invoice i ON c.CustomerId = i.CustomerId GROUP BY c.Country ORDER BY TotalSpent DESC LIMIT 1;\"}', 'name': 'sql_db_query'}, 'type': 'function'}], 'refusal': None}, response_metadata={'token_usage': {'completion_tokens': 53, 'prompt_tokens': 1194, 'total_tokens': 1247, 'completion_tokens_details': {'accepted_prediction_tokens': 0, 'audio_tokens': 0, 'reasoning_tokens': 0, 'rejected_prediction_tokens': 0}, 'prompt_tokens_details': {'audio_tokens': 0, 'cached_tokens': 1152}}, 'model_name': 'gpt-4o-2024-08-06', 'system_fingerprint': 'fp_726d488742', 'id': 'chatcmpl-BIVoaNw6OizKE5dGh2LgZ73SR5cOP', 'finish_reason': 'tool_calls', 'logprobs': None}, id='run-db6bf90b-d595-44c4-bb08-7ec09023931d-0', tool_calls=[{'name': 'sql_db_query', 'args': {'query': 'SELECT c.Country, SUM(i.Total) as TotalSpent FROM Customer c JOIN Invoice i ON c.CustomerId = i.CustomerId GROUP BY c.Country ORDER BY TotalSpent DESC LIMIT 1;'}, 'id': 'call_uCFWktULzXx8NXyMApF6ihuZ', 'type': 'tool_call'}], usage_metadata={'input_tokens': 1194, 'output_tokens': 53, 'total_tokens': 1247, 'input_token_details': {'audio': 0, 'cache_read': 1152}, 'output_token_details': {'audio': 0, 'reasoning': 0}})]}}\n",
            "----\n",
            "{'tools': {'messages': [ToolMessage(content=\"[('USA', 523.06)]\", name='sql_db_query', id='ed899766-3c9b-4c67-8f4c-3a59196f595d', tool_call_id='call_uCFWktULzXx8NXyMApF6ihuZ')]}}\n",
            "----\n",
            "{'agent': {'messages': [AIMessage(content='The country whose customers spent the most is the USA, with a total spending of 523.06.', additional_kwargs={'refusal': None}, response_metadata={'token_usage': {'completion_tokens': 23, 'prompt_tokens': 1264, 'total_tokens': 1287, 'completion_tokens_details': {'accepted_prediction_tokens': 0, 'audio_tokens': 0, 'reasoning_tokens': 0, 'rejected_prediction_tokens': 0}, 'prompt_tokens_details': {'audio_tokens': 0, 'cached_tokens': 1152}}, 'model_name': 'gpt-4o-2024-08-06', 'system_fingerprint': 'fp_726d488742', 'id': 'chatcmpl-BIVobhAhAVigWIjriypfqgOfUq9UA', 'finish_reason': 'stop', 'logprobs': None}, id='run-76de6104-dfb6-41c4-a3b3-4e25a499a583-0', usage_metadata={'input_tokens': 1264, 'output_tokens': 23, 'total_tokens': 1287, 'input_token_details': {'audio': 0, 'cache_read': 1152}, 'output_token_details': {'audio': 0, 'reasoning': 0}})]}}\n",
            "----\n"
          ]
        }
      ],
      "source": [
        "for s in agent_executor.stream(\n",
        "    {\"messages\": [HumanMessage(content=\"Which country's customers spent the most?\")]}\n",
        "):\n",
        "    print(s)\n",
        "    print(\"----\")"
      ]
    },
    {
      "cell_type": "code",
      "execution_count": 21,
      "metadata": {},
      "outputs": [],
      "source": [
        "from langchain_core.tools import tool\n",
        "\n",
        "@tool\n",
        "def generate_python_code_for_graph(data:str, chart_type:str):\n",
        "    \"\"\" THis function can be used to generate python code to plot any chart, given the data.\n",
        "    Use this once the data to be plotted is available either provided by user or data coming from sql query result.\n",
        "\n",
        "    Provide the data as python list / dict in string format and chart_typ, e.g. bar, pie etc.\n",
        "    \"\"\"\n",
        "    prompt = f\"\"\" you are an expert python programmer, write python code to generate {chart_type} for the \n",
        "    data: {data}  Keep the code clean, so not write any other expalanation, the code should be executed by exec() in python directly.\n",
        "    provide the code as string without any other text. Use libraries like pandas, numpy, matplotlib and seaborn only.\"\"\"\n",
        "    output = llm.invoke(prompt)\n",
        "    return output\n",
        "\n",
        "@tool\n",
        "def check_python_code(code:str):\n",
        "    \"\"\" This funciton can be used to check quality of a python code and clean it.\n",
        "    it is to be used after generate_python_code_for_graph and before execute_python_code. \"\"\"\n",
        "    prompt = f\"\"\" for the provided code remove any extra string, triple backticks or any dditional text to make it possible \n",
        "    to execute using exec() function, do not change the code. code: {code}\"\"\"\n",
        "    output = llm.invoke(prompt)\n",
        "    return output\n",
        "\n",
        "@tool\n",
        "def execute_python_code(code:str):\n",
        "    \"\"\"this function executes any python clean code, use it after check_python_code. expects code in string as input.\"\"\"\n",
        "    exec(code)\n",
        "    return \"code executed successfully\"\n"
      ]
    },
    {
      "cell_type": "code",
      "execution_count": 22,
      "metadata": {},
      "outputs": [
        {
          "data": {
            "text/plain": [
              "[QuerySQLDatabaseTool(description=\"Input to this tool is a detailed and correct SQL query, output is a result from the database. If the query is not correct, an error message will be returned. If an error is returned, rewrite the query, check the query, and try again. If you encounter an issue with Unknown column 'xxxx' in 'field list', use sql_db_schema to query the correct table fields.\", db=<langchain_community.utilities.sql_database.SQLDatabase object at 0x0000028EC28596A0>),\n",
              " InfoSQLDatabaseTool(description='Input to this tool is a comma-separated list of tables, output is the schema and sample rows for those tables. Be sure that the tables actually exist by calling sql_db_list_tables first! Example Input: table1, table2, table3', db=<langchain_community.utilities.sql_database.SQLDatabase object at 0x0000028EC28596A0>),\n",
              " ListSQLDatabaseTool(db=<langchain_community.utilities.sql_database.SQLDatabase object at 0x0000028EC28596A0>),\n",
              " QuerySQLCheckerTool(description='Use this tool to double check if your query is correct before executing it. Always use this tool before executing a query with sql_db_query!', db=<langchain_community.utilities.sql_database.SQLDatabase object at 0x0000028EC28596A0>, llm=ChatOpenAI(client=<openai.resources.chat.completions.completions.Completions object at 0x0000028EC3970C20>, async_client=<openai.resources.chat.completions.completions.AsyncCompletions object at 0x0000028EC397D010>, root_client=<openai.OpenAI object at 0x0000028EC2859FD0>, root_async_client=<openai.AsyncOpenAI object at 0x0000028EC3970D70>, model_name='gpt-4o', temperature=0.0, model_kwargs={}, openai_api_key=SecretStr('**********')), llm_chain=LLMChain(verbose=False, prompt=PromptTemplate(input_variables=['dialect', 'query'], input_types={}, partial_variables={}, template='\\n{query}\\nDouble check the {dialect} query above for common mistakes, including:\\n- Using NOT IN with NULL values\\n- Using UNION when UNION ALL should have been used\\n- Using BETWEEN for exclusive ranges\\n- Data type mismatch in predicates\\n- Properly quoting identifiers\\n- Using the correct number of arguments for functions\\n- Casting to the correct data type\\n- Using the proper columns for joins\\n\\nIf there are any of the above mistakes, rewrite the query. If there are no mistakes, just reproduce the original query.\\n\\nOutput the final SQL query only.\\n\\nSQL Query: '), llm=ChatOpenAI(client=<openai.resources.chat.completions.completions.Completions object at 0x0000028EC3970C20>, async_client=<openai.resources.chat.completions.completions.AsyncCompletions object at 0x0000028EC397D010>, root_client=<openai.OpenAI object at 0x0000028EC2859FD0>, root_async_client=<openai.AsyncOpenAI object at 0x0000028EC3970D70>, model_name='gpt-4o', temperature=0.0, model_kwargs={}, openai_api_key=SecretStr('**********')), output_parser=StrOutputParser(), llm_kwargs={})),\n",
              " StructuredTool(name='generate_python_code_for_graph', description='THis function can be used to generate python code to plot any chart, given the data.\\nUse this once the data to be plotted is available either provided by user or data coming from sql query result.\\n\\nProvide the data as python list / dict in string format and chart_typ, e.g. bar, pie etc.', args_schema=<class 'langchain_core.utils.pydantic.generate_python_code_for_graph'>, func=<function generate_python_code_for_graph at 0x0000028EC579D300>),\n",
              " StructuredTool(name='check_python_code', description='This funciton can be used to check quality of a python code and clean it.\\nit is to be used after generate_python_code_for_graph and before execute_python_code.', args_schema=<class 'langchain_core.utils.pydantic.check_python_code'>, func=<function check_python_code at 0x0000028EC5751940>),\n",
              " StructuredTool(name='execute_python_code', description='this function executes any python clean code, use it after check_python_code. expects code in string as input.', args_schema=<class 'langchain_core.utils.pydantic.execute_python_code'>, func=<function execute_python_code at 0x0000028EC57518A0>)]"
            ]
          },
          "execution_count": 22,
          "metadata": {},
          "output_type": "execute_result"
        }
      ],
      "source": [
        "tools.extend([generate_python_code_for_graph,check_python_code,execute_python_code])\n",
        "tools"
      ]
    },
    {
      "cell_type": "code",
      "execution_count": 23,
      "metadata": {},
      "outputs": [
        {
          "name": "stdout",
          "output_type": "stream",
          "text": [
            "{'agent': {'messages': [AIMessage(content='', additional_kwargs={'tool_calls': [{'id': 'call_mN15bk1CAd5ZITeLnFTNVMMM', 'function': {'arguments': '{}', 'name': 'sql_db_list_tables'}, 'type': 'function'}], 'refusal': None}, response_metadata={'token_usage': {'completion_tokens': 13, 'prompt_tokens': 497, 'total_tokens': 510, 'completion_tokens_details': {'accepted_prediction_tokens': 0, 'audio_tokens': 0, 'reasoning_tokens': 0, 'rejected_prediction_tokens': 0}, 'prompt_tokens_details': {'audio_tokens': 0, 'cached_tokens': 0}}, 'model_name': 'gpt-4o-2024-08-06', 'system_fingerprint': 'fp_726d488742', 'id': 'chatcmpl-BIWEYFLOC0sgcvR6pbYTDQlLR3I5a', 'finish_reason': 'tool_calls', 'logprobs': None}, id='run-a084a9de-76e8-402f-94ab-7f348a71a669-0', tool_calls=[{'name': 'sql_db_list_tables', 'args': {}, 'id': 'call_mN15bk1CAd5ZITeLnFTNVMMM', 'type': 'tool_call'}], usage_metadata={'input_tokens': 497, 'output_tokens': 13, 'total_tokens': 510, 'input_token_details': {'audio': 0, 'cache_read': 0}, 'output_token_details': {'audio': 0, 'reasoning': 0}})]}}\n",
            "----\n",
            "{'tools': {'messages': [ToolMessage(content='Album, Artist, Customer, Employee, Genre, Invoice, InvoiceLine, MediaType, Playlist, PlaylistTrack, Track', name='sql_db_list_tables', id='fbd278d6-11bb-4609-9be8-47e16ed2dd07', tool_call_id='call_mN15bk1CAd5ZITeLnFTNVMMM')]}}\n",
            "----\n",
            "{'agent': {'messages': [AIMessage(content='', additional_kwargs={'tool_calls': [{'id': 'call_FGJ1V2nzKkByRjftQNBEvvvv', 'function': {'arguments': '{\"table_names\":\"Customer, Invoice\"}', 'name': 'sql_db_schema'}, 'type': 'function'}], 'refusal': None}, response_metadata={'token_usage': {'completion_tokens': 19, 'prompt_tokens': 543, 'total_tokens': 562, 'completion_tokens_details': {'accepted_prediction_tokens': 0, 'audio_tokens': 0, 'reasoning_tokens': 0, 'rejected_prediction_tokens': 0}, 'prompt_tokens_details': {'audio_tokens': 0, 'cached_tokens': 0}}, 'model_name': 'gpt-4o-2024-08-06', 'system_fingerprint': 'fp_726d488742', 'id': 'chatcmpl-BIWEZlmL9W8gyzRuDimajTmiRbRZZ', 'finish_reason': 'tool_calls', 'logprobs': None}, id='run-1b7d528a-94db-491e-9770-b39eb93e0272-0', tool_calls=[{'name': 'sql_db_schema', 'args': {'table_names': 'Customer, Invoice'}, 'id': 'call_FGJ1V2nzKkByRjftQNBEvvvv', 'type': 'tool_call'}], usage_metadata={'input_tokens': 543, 'output_tokens': 19, 'total_tokens': 562, 'input_token_details': {'audio': 0, 'cache_read': 0}, 'output_token_details': {'audio': 0, 'reasoning': 0}})]}}\n",
            "----\n",
            "{'tools': {'messages': [ToolMessage(content='\\nCREATE TABLE \"Customer\" (\\n\\t\"CustomerId\" INTEGER NOT NULL, \\n\\t\"FirstName\" NVARCHAR(40) NOT NULL, \\n\\t\"LastName\" NVARCHAR(20) NOT NULL, \\n\\t\"Company\" NVARCHAR(80), \\n\\t\"Address\" NVARCHAR(70), \\n\\t\"City\" NVARCHAR(40), \\n\\t\"State\" NVARCHAR(40), \\n\\t\"Country\" NVARCHAR(40), \\n\\t\"PostalCode\" NVARCHAR(10), \\n\\t\"Phone\" NVARCHAR(24), \\n\\t\"Fax\" NVARCHAR(24), \\n\\t\"Email\" NVARCHAR(60) NOT NULL, \\n\\t\"SupportRepId\" INTEGER, \\n\\tPRIMARY KEY (\"CustomerId\"), \\n\\tFOREIGN KEY(\"SupportRepId\") REFERENCES \"Employee\" (\"EmployeeId\")\\n)\\n\\n/*\\n3 rows from Customer table:\\nCustomerId\\tFirstName\\tLastName\\tCompany\\tAddress\\tCity\\tState\\tCountry\\tPostalCode\\tPhone\\tFax\\tEmail\\tSupportRepId\\n1\\tLuís\\tGonçalves\\tEmbraer - Empresa Brasileira de Aeronáutica S.A.\\tAv. Brigadeiro Faria Lima, 2170\\tSão José dos Campos\\tSP\\tBrazil\\t12227-000\\t+55 (12) 3923-5555\\t+55 (12) 3923-5566\\tluisg@embraer.com.br\\t3\\n2\\tLeonie\\tKöhler\\tNone\\tTheodor-Heuss-Straße 34\\tStuttgart\\tNone\\tGermany\\t70174\\t+49 0711 2842222\\tNone\\tleonekohler@surfeu.de\\t5\\n3\\tFrançois\\tTremblay\\tNone\\t1498 rue Bélanger\\tMontréal\\tQC\\tCanada\\tH2G 1A7\\t+1 (514) 721-4711\\tNone\\tftremblay@gmail.com\\t3\\n*/\\n\\n\\nCREATE TABLE \"Invoice\" (\\n\\t\"InvoiceId\" INTEGER NOT NULL, \\n\\t\"CustomerId\" INTEGER NOT NULL, \\n\\t\"InvoiceDate\" DATETIME NOT NULL, \\n\\t\"BillingAddress\" NVARCHAR(70), \\n\\t\"BillingCity\" NVARCHAR(40), \\n\\t\"BillingState\" NVARCHAR(40), \\n\\t\"BillingCountry\" NVARCHAR(40), \\n\\t\"BillingPostalCode\" NVARCHAR(10), \\n\\t\"Total\" NUMERIC(10, 2) NOT NULL, \\n\\tPRIMARY KEY (\"InvoiceId\"), \\n\\tFOREIGN KEY(\"CustomerId\") REFERENCES \"Customer\" (\"CustomerId\")\\n)\\n\\n/*\\n3 rows from Invoice table:\\nInvoiceId\\tCustomerId\\tInvoiceDate\\tBillingAddress\\tBillingCity\\tBillingState\\tBillingCountry\\tBillingPostalCode\\tTotal\\n1\\t2\\t2021-01-01 00:00:00\\tTheodor-Heuss-Straße 34\\tStuttgart\\tNone\\tGermany\\t70174\\t1.98\\n2\\t4\\t2021-01-02 00:00:00\\tUllevålsveien 14\\tOslo\\tNone\\tNorway\\t0171\\t3.96\\n3\\t8\\t2021-01-03 00:00:00\\tGrétrystraat 63\\tBrussels\\tNone\\tBelgium\\t1000\\t5.94\\n*/', name='sql_db_schema', id='640748a0-0508-44c6-8872-7241ff56cace', tool_call_id='call_FGJ1V2nzKkByRjftQNBEvvvv')]}}\n",
            "----\n",
            "{'agent': {'messages': [AIMessage(content='', additional_kwargs={'tool_calls': [{'id': 'call_magSclmxrBwKTLmL5oG0mdpE', 'function': {'arguments': '{\"query\":\"SELECT c.Country, SUM(i.Total) as TotalSpent FROM Customer c JOIN Invoice i ON c.CustomerId = i.CustomerId GROUP BY c.Country ORDER BY TotalSpent DESC LIMIT 1;\"}', 'name': 'sql_db_query_checker'}, 'type': 'function'}], 'refusal': None}, response_metadata={'token_usage': {'completion_tokens': 54, 'prompt_tokens': 1261, 'total_tokens': 1315, 'completion_tokens_details': {'accepted_prediction_tokens': 0, 'audio_tokens': 0, 'reasoning_tokens': 0, 'rejected_prediction_tokens': 0}, 'prompt_tokens_details': {'audio_tokens': 0, 'cached_tokens': 0}}, 'model_name': 'gpt-4o-2024-08-06', 'system_fingerprint': 'fp_726d488742', 'id': 'chatcmpl-BIWEZ3nw5dPnqNCDLCHM4PimJ8fJR', 'finish_reason': 'tool_calls', 'logprobs': None}, id='run-adb8b8b5-422f-4c4b-8809-97236c18454d-0', tool_calls=[{'name': 'sql_db_query_checker', 'args': {'query': 'SELECT c.Country, SUM(i.Total) as TotalSpent FROM Customer c JOIN Invoice i ON c.CustomerId = i.CustomerId GROUP BY c.Country ORDER BY TotalSpent DESC LIMIT 1;'}, 'id': 'call_magSclmxrBwKTLmL5oG0mdpE', 'type': 'tool_call'}], usage_metadata={'input_tokens': 1261, 'output_tokens': 54, 'total_tokens': 1315, 'input_token_details': {'audio': 0, 'cache_read': 0}, 'output_token_details': {'audio': 0, 'reasoning': 0}})]}}\n",
            "----\n",
            "{'tools': {'messages': [ToolMessage(content='```sql\\nSELECT c.Country, SUM(i.Total) as TotalSpent \\nFROM Customer c \\nJOIN Invoice i ON c.CustomerId = i.CustomerId \\nGROUP BY c.Country \\nORDER BY TotalSpent DESC \\nLIMIT 1;\\n```', name='sql_db_query_checker', id='cbc883f0-3877-4c57-b40a-cf5a6ab88493', tool_call_id='call_magSclmxrBwKTLmL5oG0mdpE')]}}\n",
            "----\n",
            "{'agent': {'messages': [AIMessage(content='', additional_kwargs={'tool_calls': [{'id': 'call_uEaxs6376hcxUkhIOZxn7ZlT', 'function': {'arguments': '{\"query\":\"SELECT c.Country, SUM(i.Total) as TotalSpent FROM Customer c JOIN Invoice i ON c.CustomerId = i.CustomerId GROUP BY c.Country ORDER BY TotalSpent DESC LIMIT 1;\"}', 'name': 'sql_db_query'}, 'type': 'function'}], 'refusal': None}, response_metadata={'token_usage': {'completion_tokens': 53, 'prompt_tokens': 1371, 'total_tokens': 1424, 'completion_tokens_details': {'accepted_prediction_tokens': 0, 'audio_tokens': 0, 'reasoning_tokens': 0, 'rejected_prediction_tokens': 0}, 'prompt_tokens_details': {'audio_tokens': 0, 'cached_tokens': 1280}}, 'model_name': 'gpt-4o-2024-08-06', 'system_fingerprint': 'fp_726d488742', 'id': 'chatcmpl-BIWEbdwyruFAmmc1ANQ4miCF1F5So', 'finish_reason': 'tool_calls', 'logprobs': None}, id='run-a0388207-cd2a-46e6-a4a5-491a990260fa-0', tool_calls=[{'name': 'sql_db_query', 'args': {'query': 'SELECT c.Country, SUM(i.Total) as TotalSpent FROM Customer c JOIN Invoice i ON c.CustomerId = i.CustomerId GROUP BY c.Country ORDER BY TotalSpent DESC LIMIT 1;'}, 'id': 'call_uEaxs6376hcxUkhIOZxn7ZlT', 'type': 'tool_call'}], usage_metadata={'input_tokens': 1371, 'output_tokens': 53, 'total_tokens': 1424, 'input_token_details': {'audio': 0, 'cache_read': 1280}, 'output_token_details': {'audio': 0, 'reasoning': 0}})]}}\n",
            "----\n",
            "{'tools': {'messages': [ToolMessage(content=\"[('USA', 523.06)]\", name='sql_db_query', id='d09040f9-8496-485b-b973-862c354fd797', tool_call_id='call_uEaxs6376hcxUkhIOZxn7ZlT')]}}\n",
            "----\n",
            "{'agent': {'messages': [AIMessage(content='The country whose customers spent the most is the USA, with a total spending of 523.06.', additional_kwargs={'refusal': None}, response_metadata={'token_usage': {'completion_tokens': 23, 'prompt_tokens': 1441, 'total_tokens': 1464, 'completion_tokens_details': {'accepted_prediction_tokens': 0, 'audio_tokens': 0, 'reasoning_tokens': 0, 'rejected_prediction_tokens': 0}, 'prompt_tokens_details': {'audio_tokens': 0, 'cached_tokens': 1408}}, 'model_name': 'gpt-4o-2024-08-06', 'system_fingerprint': 'fp_726d488742', 'id': 'chatcmpl-BIWEdwPlfN2osNxcuNAtBpLPMdQ1M', 'finish_reason': 'stop', 'logprobs': None}, id='run-8d976c98-0dc4-428f-83db-81b69c4d05e3-0', usage_metadata={'input_tokens': 1441, 'output_tokens': 23, 'total_tokens': 1464, 'input_token_details': {'audio': 0, 'cache_read': 1408}, 'output_token_details': {'audio': 0, 'reasoning': 0}})]}}\n",
            "----\n"
          ]
        }
      ],
      "source": [
        "agent_executor = create_react_agent(llm, tools,)\n",
        "for s in agent_executor.stream(\n",
        "    {\"messages\": [HumanMessage(content=\"Which country's customers spent the most?\")]}\n",
        "):\n",
        "    print(s)\n",
        "    print(\"----\")"
      ]
    },
    {
      "cell_type": "code",
      "execution_count": null,
      "metadata": {},
      "outputs": [
        {
          "name": "stdout",
          "output_type": "stream",
          "text": [
            "^C\n"
          ]
        }
      ],
      "source": [
        "!pip install matplotlib seaborn plotly --quiet"
      ]
    },
    {
      "cell_type": "code",
      "execution_count": 28,
      "metadata": {},
      "outputs": [
        {
          "name": "stdout",
          "output_type": "stream",
          "text": [
            "{'agent': {'messages': [AIMessage(content='', additional_kwargs={'tool_calls': [{'id': 'call_Sse9vr65stFxk4RNK5292802', 'function': {'arguments': '{}', 'name': 'sql_db_list_tables'}, 'type': 'function'}], 'refusal': None}, response_metadata={'token_usage': {'completion_tokens': 13, 'prompt_tokens': 510, 'total_tokens': 523, 'completion_tokens_details': {'accepted_prediction_tokens': 0, 'audio_tokens': 0, 'reasoning_tokens': 0, 'rejected_prediction_tokens': 0}, 'prompt_tokens_details': {'audio_tokens': 0, 'cached_tokens': 0}}, 'model_name': 'gpt-4o-2024-08-06', 'system_fingerprint': 'fp_726d488742', 'id': 'chatcmpl-BIWN0Y9gpKwIrBbQ82nWGY3vXOax6', 'finish_reason': 'tool_calls', 'logprobs': None}, id='run-697c15a0-db84-4539-9529-ef200669cf9c-0', tool_calls=[{'name': 'sql_db_list_tables', 'args': {}, 'id': 'call_Sse9vr65stFxk4RNK5292802', 'type': 'tool_call'}], usage_metadata={'input_tokens': 510, 'output_tokens': 13, 'total_tokens': 523, 'input_token_details': {'audio': 0, 'cache_read': 0}, 'output_token_details': {'audio': 0, 'reasoning': 0}})]}}\n",
            "----\n",
            "{'tools': {'messages': [ToolMessage(content='Album, Artist, Customer, Employee, Genre, Invoice, InvoiceLine, MediaType, Playlist, PlaylistTrack, Track', name='sql_db_list_tables', id='267c6c8f-a4b3-4415-8103-0dfa25d4e66f', tool_call_id='call_Sse9vr65stFxk4RNK5292802')]}}\n",
            "----\n",
            "{'agent': {'messages': [AIMessage(content='', additional_kwargs={'tool_calls': [{'id': 'call_dQjYPoV8Qun3cBSsxIaH1rv8', 'function': {'arguments': '{\"table_names\":\"Customer, Invoice\"}', 'name': 'sql_db_schema'}, 'type': 'function'}], 'refusal': None}, response_metadata={'token_usage': {'completion_tokens': 19, 'prompt_tokens': 556, 'total_tokens': 575, 'completion_tokens_details': {'accepted_prediction_tokens': 0, 'audio_tokens': 0, 'reasoning_tokens': 0, 'rejected_prediction_tokens': 0}, 'prompt_tokens_details': {'audio_tokens': 0, 'cached_tokens': 0}}, 'model_name': 'gpt-4o-2024-08-06', 'system_fingerprint': 'fp_726d488742', 'id': 'chatcmpl-BIWN1fJ1tSLmVIXNicYAuj3Ysar62', 'finish_reason': 'tool_calls', 'logprobs': None}, id='run-369c185f-bd05-42f9-b4cb-df617a61e8c2-0', tool_calls=[{'name': 'sql_db_schema', 'args': {'table_names': 'Customer, Invoice'}, 'id': 'call_dQjYPoV8Qun3cBSsxIaH1rv8', 'type': 'tool_call'}], usage_metadata={'input_tokens': 556, 'output_tokens': 19, 'total_tokens': 575, 'input_token_details': {'audio': 0, 'cache_read': 0}, 'output_token_details': {'audio': 0, 'reasoning': 0}})]}}\n",
            "----\n",
            "{'tools': {'messages': [ToolMessage(content='\\nCREATE TABLE \"Customer\" (\\n\\t\"CustomerId\" INTEGER NOT NULL, \\n\\t\"FirstName\" NVARCHAR(40) NOT NULL, \\n\\t\"LastName\" NVARCHAR(20) NOT NULL, \\n\\t\"Company\" NVARCHAR(80), \\n\\t\"Address\" NVARCHAR(70), \\n\\t\"City\" NVARCHAR(40), \\n\\t\"State\" NVARCHAR(40), \\n\\t\"Country\" NVARCHAR(40), \\n\\t\"PostalCode\" NVARCHAR(10), \\n\\t\"Phone\" NVARCHAR(24), \\n\\t\"Fax\" NVARCHAR(24), \\n\\t\"Email\" NVARCHAR(60) NOT NULL, \\n\\t\"SupportRepId\" INTEGER, \\n\\tPRIMARY KEY (\"CustomerId\"), \\n\\tFOREIGN KEY(\"SupportRepId\") REFERENCES \"Employee\" (\"EmployeeId\")\\n)\\n\\n/*\\n3 rows from Customer table:\\nCustomerId\\tFirstName\\tLastName\\tCompany\\tAddress\\tCity\\tState\\tCountry\\tPostalCode\\tPhone\\tFax\\tEmail\\tSupportRepId\\n1\\tLuís\\tGonçalves\\tEmbraer - Empresa Brasileira de Aeronáutica S.A.\\tAv. Brigadeiro Faria Lima, 2170\\tSão José dos Campos\\tSP\\tBrazil\\t12227-000\\t+55 (12) 3923-5555\\t+55 (12) 3923-5566\\tluisg@embraer.com.br\\t3\\n2\\tLeonie\\tKöhler\\tNone\\tTheodor-Heuss-Straße 34\\tStuttgart\\tNone\\tGermany\\t70174\\t+49 0711 2842222\\tNone\\tleonekohler@surfeu.de\\t5\\n3\\tFrançois\\tTremblay\\tNone\\t1498 rue Bélanger\\tMontréal\\tQC\\tCanada\\tH2G 1A7\\t+1 (514) 721-4711\\tNone\\tftremblay@gmail.com\\t3\\n*/\\n\\n\\nCREATE TABLE \"Invoice\" (\\n\\t\"InvoiceId\" INTEGER NOT NULL, \\n\\t\"CustomerId\" INTEGER NOT NULL, \\n\\t\"InvoiceDate\" DATETIME NOT NULL, \\n\\t\"BillingAddress\" NVARCHAR(70), \\n\\t\"BillingCity\" NVARCHAR(40), \\n\\t\"BillingState\" NVARCHAR(40), \\n\\t\"BillingCountry\" NVARCHAR(40), \\n\\t\"BillingPostalCode\" NVARCHAR(10), \\n\\t\"Total\" NUMERIC(10, 2) NOT NULL, \\n\\tPRIMARY KEY (\"InvoiceId\"), \\n\\tFOREIGN KEY(\"CustomerId\") REFERENCES \"Customer\" (\"CustomerId\")\\n)\\n\\n/*\\n3 rows from Invoice table:\\nInvoiceId\\tCustomerId\\tInvoiceDate\\tBillingAddress\\tBillingCity\\tBillingState\\tBillingCountry\\tBillingPostalCode\\tTotal\\n1\\t2\\t2021-01-01 00:00:00\\tTheodor-Heuss-Straße 34\\tStuttgart\\tNone\\tGermany\\t70174\\t1.98\\n2\\t4\\t2021-01-02 00:00:00\\tUllevålsveien 14\\tOslo\\tNone\\tNorway\\t0171\\t3.96\\n3\\t8\\t2021-01-03 00:00:00\\tGrétrystraat 63\\tBrussels\\tNone\\tBelgium\\t1000\\t5.94\\n*/', name='sql_db_schema', id='15a35ee2-cfbd-45e9-a352-63025b7b35a1', tool_call_id='call_dQjYPoV8Qun3cBSsxIaH1rv8')]}}\n",
            "----\n",
            "{'agent': {'messages': [AIMessage(content='', additional_kwargs={'tool_calls': [{'id': 'call_PYeIUKYe434Ofc6f8UN7Vrs9', 'function': {'arguments': '{\"query\":\"SELECT c.Country, SUM(i.Total) as TotalSpent FROM Customer c JOIN Invoice i ON c.CustomerId = i.CustomerId GROUP BY c.Country ORDER BY TotalSpent DESC LIMIT 5;\"}', 'name': 'sql_db_query_checker'}, 'type': 'function'}], 'refusal': None}, response_metadata={'token_usage': {'completion_tokens': 54, 'prompt_tokens': 1274, 'total_tokens': 1328, 'completion_tokens_details': {'accepted_prediction_tokens': 0, 'audio_tokens': 0, 'reasoning_tokens': 0, 'rejected_prediction_tokens': 0}, 'prompt_tokens_details': {'audio_tokens': 0, 'cached_tokens': 1152}}, 'model_name': 'gpt-4o-2024-08-06', 'system_fingerprint': 'fp_726d488742', 'id': 'chatcmpl-BIWN1qwi0aQzZhTCkUGza8XakV1SR', 'finish_reason': 'tool_calls', 'logprobs': None}, id='run-0848bd67-a477-4e54-b2c5-201d32469b17-0', tool_calls=[{'name': 'sql_db_query_checker', 'args': {'query': 'SELECT c.Country, SUM(i.Total) as TotalSpent FROM Customer c JOIN Invoice i ON c.CustomerId = i.CustomerId GROUP BY c.Country ORDER BY TotalSpent DESC LIMIT 5;'}, 'id': 'call_PYeIUKYe434Ofc6f8UN7Vrs9', 'type': 'tool_call'}], usage_metadata={'input_tokens': 1274, 'output_tokens': 54, 'total_tokens': 1328, 'input_token_details': {'audio': 0, 'cache_read': 1152}, 'output_token_details': {'audio': 0, 'reasoning': 0}})]}}\n",
            "----\n",
            "{'tools': {'messages': [ToolMessage(content='```sql\\nSELECT c.Country, SUM(i.Total) as TotalSpent \\nFROM Customer c \\nJOIN Invoice i ON c.CustomerId = i.CustomerId \\nGROUP BY c.Country \\nORDER BY TotalSpent DESC \\nLIMIT 5;\\n```', name='sql_db_query_checker', id='3176c95d-6c80-4078-9dc5-0f2a9465716c', tool_call_id='call_PYeIUKYe434Ofc6f8UN7Vrs9')]}}\n",
            "----\n",
            "{'agent': {'messages': [AIMessage(content='', additional_kwargs={'tool_calls': [{'id': 'call_bhMoHGBdG1MIpOJCijGMv8Fl', 'function': {'arguments': '{\"query\":\"SELECT c.Country, SUM(i.Total) as TotalSpent FROM Customer c JOIN Invoice i ON c.CustomerId = i.CustomerId GROUP BY c.Country ORDER BY TotalSpent DESC LIMIT 5;\"}', 'name': 'sql_db_query'}, 'type': 'function'}], 'refusal': None}, response_metadata={'token_usage': {'completion_tokens': 53, 'prompt_tokens': 1384, 'total_tokens': 1437, 'completion_tokens_details': {'accepted_prediction_tokens': 0, 'audio_tokens': 0, 'reasoning_tokens': 0, 'rejected_prediction_tokens': 0}, 'prompt_tokens_details': {'audio_tokens': 0, 'cached_tokens': 1280}}, 'model_name': 'gpt-4o-2024-08-06', 'system_fingerprint': 'fp_726d488742', 'id': 'chatcmpl-BIWN3ZpjFHn6NjjZmc7LgczLeF1K2', 'finish_reason': 'tool_calls', 'logprobs': None}, id='run-8a382571-a811-483a-8c03-e95d1b84bd22-0', tool_calls=[{'name': 'sql_db_query', 'args': {'query': 'SELECT c.Country, SUM(i.Total) as TotalSpent FROM Customer c JOIN Invoice i ON c.CustomerId = i.CustomerId GROUP BY c.Country ORDER BY TotalSpent DESC LIMIT 5;'}, 'id': 'call_bhMoHGBdG1MIpOJCijGMv8Fl', 'type': 'tool_call'}], usage_metadata={'input_tokens': 1384, 'output_tokens': 53, 'total_tokens': 1437, 'input_token_details': {'audio': 0, 'cache_read': 1280}, 'output_token_details': {'audio': 0, 'reasoning': 0}})]}}\n",
            "----\n",
            "{'tools': {'messages': [ToolMessage(content=\"[('USA', 523.06), ('Canada', 303.96), ('France', 195.1), ('Brazil', 190.1), ('Germany', 156.48)]\", name='sql_db_query', id='e1aa82d8-bc78-4884-8fc5-8ab045f6c3f2', tool_call_id='call_bhMoHGBdG1MIpOJCijGMv8Fl')]}}\n",
            "----\n",
            "{'agent': {'messages': [AIMessage(content='', additional_kwargs={'tool_calls': [{'id': 'call_PhmyqASHFgAkdFlBZUkTNw6W', 'function': {'arguments': '{\"data\":\"{\\'USA\\': 523.06, \\'Canada\\': 303.96, \\'France\\': 195.1, \\'Brazil\\': 190.1, \\'Germany\\': 156.48}\",\"chart_type\":\"bar\"}', 'name': 'generate_python_code_for_graph'}, 'type': 'function'}], 'refusal': None}, response_metadata={'token_usage': {'completion_tokens': 62, 'prompt_tokens': 1486, 'total_tokens': 1548, 'completion_tokens_details': {'accepted_prediction_tokens': 0, 'audio_tokens': 0, 'reasoning_tokens': 0, 'rejected_prediction_tokens': 0}, 'prompt_tokens_details': {'audio_tokens': 0, 'cached_tokens': 1408}}, 'model_name': 'gpt-4o-2024-08-06', 'system_fingerprint': 'fp_726d488742', 'id': 'chatcmpl-BIWN4SdaNG8jZhK6s9UZVQ1C0YD9q', 'finish_reason': 'tool_calls', 'logprobs': None}, id='run-92c265d7-5250-4d67-b645-bd1e11874589-0', tool_calls=[{'name': 'generate_python_code_for_graph', 'args': {'data': \"{'USA': 523.06, 'Canada': 303.96, 'France': 195.1, 'Brazil': 190.1, 'Germany': 156.48}\", 'chart_type': 'bar'}, 'id': 'call_PhmyqASHFgAkdFlBZUkTNw6W', 'type': 'tool_call'}], usage_metadata={'input_tokens': 1486, 'output_tokens': 62, 'total_tokens': 1548, 'input_token_details': {'audio': 0, 'cache_read': 1408}, 'output_token_details': {'audio': 0, 'reasoning': 0}})]}}\n",
            "----\n",
            "{'tools': {'messages': [ToolMessage(content='content=\\'```python\\\\n\"import pandas as pd\\\\\\\\nimport matplotlib.pyplot as plt\\\\\\\\nimport seaborn as sns\\\\\\\\ndata = {\\\\\\'USA\\\\\\': 523.06, \\\\\\'Canada\\\\\\': 303.96, \\\\\\'France\\\\\\': 195.1, \\\\\\'Brazil\\\\\\': 190.1, \\\\\\'Germany\\\\\\': 156.48}\\\\\\\\ndf = pd.DataFrame(list(data.items()), columns=[\\\\\\'Country\\\\\\', \\\\\\'Value\\\\\\'])\\\\\\\\nsns.set(style=\\\\\\'whitegrid\\\\\\')\\\\\\\\nplt.figure(figsize=(10, 6))\\\\\\\\nsns.barplot(x=\\\\\\'Country\\\\\\', y=\\\\\\'Value\\\\\\', data=df, palette=\\\\\\'viridis\\\\\\')\\\\\\\\nplt.title(\\\\\\'Bar Chart\\\\\\')\\\\\\\\nplt.xlabel(\\\\\\'Country\\\\\\')\\\\\\\\nplt.ylabel(\\\\\\'Value\\\\\\')\\\\\\\\nplt.show()\"\\\\n```\\' additional_kwargs={\\'refusal\\': None} response_metadata={\\'token_usage\\': {\\'completion_tokens\\': 151, \\'prompt_tokens\\': 117, \\'total_tokens\\': 268, \\'completion_tokens_details\\': {\\'accepted_prediction_tokens\\': 0, \\'audio_tokens\\': 0, \\'reasoning_tokens\\': 0, \\'rejected_prediction_tokens\\': 0}, \\'prompt_tokens_details\\': {\\'audio_tokens\\': 0, \\'cached_tokens\\': 0}}, \\'model_name\\': \\'gpt-4o-2024-08-06\\', \\'system_fingerprint\\': \\'fp_898ac29719\\', \\'id\\': \\'chatcmpl-BIWN5lCgqOZ0z7Pf8fucgJJCSvs6G\\', \\'finish_reason\\': \\'stop\\', \\'logprobs\\': None} id=\\'run-abb42d57-1412-413c-82c0-0e817be099e3-0\\' usage_metadata={\\'input_tokens\\': 117, \\'output_tokens\\': 151, \\'total_tokens\\': 268, \\'input_token_details\\': {\\'audio\\': 0, \\'cache_read\\': 0}, \\'output_token_details\\': {\\'audio\\': 0, \\'reasoning\\': 0}}', name='generate_python_code_for_graph', id='f9964c86-7165-462f-b062-eeb4d0ea9fe4', tool_call_id='call_PhmyqASHFgAkdFlBZUkTNw6W')]}}\n",
            "----\n",
            "{'agent': {'messages': [AIMessage(content='', additional_kwargs={'tool_calls': [{'id': 'call_FxbkyY1Xhap7NfsacudchWdB', 'function': {'arguments': '{\"code\":\"import pandas as pd\\\\nimport matplotlib.pyplot as plt\\\\nimport seaborn as sns\\\\ndata = {\\'USA\\': 523.06, \\'Canada\\': 303.96, \\'France\\': 195.1, \\'Brazil\\': 190.1, \\'Germany\\': 156.48}\\\\ndf = pd.DataFrame(list(data.items()), columns=[\\'Country\\', \\'Value\\'])\\\\nsns.set(style=\\'whitegrid\\')\\\\nplt.figure(figsize=(10, 6))\\\\nsns.barplot(x=\\'Country\\', y=\\'Value\\', data=df, palette=\\'viridis\\')\\\\nplt.title(\\'Bar Chart\\')\\\\nplt.xlabel(\\'Country\\')\\\\nplt.ylabel(\\'Value\\')\\\\nplt.show()\"}', 'name': 'check_python_code'}, 'type': 'function'}], 'refusal': None}, response_metadata={'token_usage': {'completion_tokens': 159, 'prompt_tokens': 1981, 'total_tokens': 2140, 'completion_tokens_details': {'accepted_prediction_tokens': 0, 'audio_tokens': 0, 'reasoning_tokens': 0, 'rejected_prediction_tokens': 0}, 'prompt_tokens_details': {'audio_tokens': 0, 'cached_tokens': 1536}}, 'model_name': 'gpt-4o-2024-08-06', 'system_fingerprint': 'fp_726d488742', 'id': 'chatcmpl-BIWN7kq4H25mNPlIqvteTsfAG3S4C', 'finish_reason': 'tool_calls', 'logprobs': None}, id='run-cbb590fc-8887-41df-99b1-21ed7b6138ba-0', tool_calls=[{'name': 'check_python_code', 'args': {'code': \"import pandas as pd\\nimport matplotlib.pyplot as plt\\nimport seaborn as sns\\ndata = {'USA': 523.06, 'Canada': 303.96, 'France': 195.1, 'Brazil': 190.1, 'Germany': 156.48}\\ndf = pd.DataFrame(list(data.items()), columns=['Country', 'Value'])\\nsns.set(style='whitegrid')\\nplt.figure(figsize=(10, 6))\\nsns.barplot(x='Country', y='Value', data=df, palette='viridis')\\nplt.title('Bar Chart')\\nplt.xlabel('Country')\\nplt.ylabel('Value')\\nplt.show()\"}, 'id': 'call_FxbkyY1Xhap7NfsacudchWdB', 'type': 'tool_call'}], usage_metadata={'input_tokens': 1981, 'output_tokens': 159, 'total_tokens': 2140, 'input_token_details': {'audio': 0, 'cache_read': 1536}, 'output_token_details': {'audio': 0, 'reasoning': 0}})]}}\n",
            "----\n",
            "{'tools': {'messages': [ToolMessage(content='content=\"Here is the code formatted for execution using the `exec()` function:\\\\n\\\\n```python\\\\nimport pandas as pd\\\\nimport matplotlib.pyplot as plt\\\\nimport seaborn as sns\\\\ndata = {\\'USA\\': 523.06, \\'Canada\\': 303.96, \\'France\\': 195.1, \\'Brazil\\': 190.1, \\'Germany\\': 156.48}\\\\ndf = pd.DataFrame(list(data.items()), columns=[\\'Country\\', \\'Value\\'])\\\\nsns.set(style=\\'whitegrid\\')\\\\nplt.figure(figsize=(10, 6))\\\\nsns.barplot(x=\\'Country\\', y=\\'Value\\', data=df, palette=\\'viridis\\')\\\\nplt.title(\\'Bar Chart\\')\\\\nplt.xlabel(\\'Country\\')\\\\nplt.ylabel(\\'Value\\')\\\\nplt.show()\\\\n```\\\\n\\\\nYou can now use this code with the `exec()` function without any additional text or formatting.\" additional_kwargs={\\'refusal\\': None} response_metadata={\\'token_usage\\': {\\'completion_tokens\\': 168, \\'prompt_tokens\\': 174, \\'total_tokens\\': 342, \\'completion_tokens_details\\': {\\'accepted_prediction_tokens\\': 0, \\'audio_tokens\\': 0, \\'reasoning_tokens\\': 0, \\'rejected_prediction_tokens\\': 0}, \\'prompt_tokens_details\\': {\\'audio_tokens\\': 0, \\'cached_tokens\\': 0}}, \\'model_name\\': \\'gpt-4o-2024-08-06\\', \\'system_fingerprint\\': \\'fp_6dd05565ef\\', \\'id\\': \\'chatcmpl-BIWN9piBICzIuznf6RGXHFoQGo3Od\\', \\'finish_reason\\': \\'stop\\', \\'logprobs\\': None} id=\\'run-09998ee2-14d3-4af7-a2ee-a9ae18124882-0\\' usage_metadata={\\'input_tokens\\': 174, \\'output_tokens\\': 168, \\'total_tokens\\': 342, \\'input_token_details\\': {\\'audio\\': 0, \\'cache_read\\': 0}, \\'output_token_details\\': {\\'audio\\': 0, \\'reasoning\\': 0}}', name='check_python_code', id='3a8db1cb-0232-484d-a46f-c033719e71a4', tool_call_id='call_FxbkyY1Xhap7NfsacudchWdB')]}}\n",
            "----\n",
            "{'agent': {'messages': [AIMessage(content='', additional_kwargs={'tool_calls': [{'id': 'call_8Q9pmc6ZllRuFFUGpHvk1oVS', 'function': {'arguments': '{\"code\":\"import pandas as pd\\\\nimport matplotlib.pyplot as plt\\\\nimport seaborn as sns\\\\ndata = {\\'USA\\': 523.06, \\'Canada\\': 303.96, \\'France\\': 195.1, \\'Brazil\\': 190.1, \\'Germany\\': 156.48}\\\\ndf = pd.DataFrame(list(data.items()), columns=[\\'Country\\', \\'Value\\'])\\\\nsns.set(style=\\'whitegrid\\')\\\\nplt.figure(figsize=(10, 6))\\\\nsns.barplot(x=\\'Country\\', y=\\'Value\\', data=df, palette=\\'viridis\\')\\\\nplt.title(\\'Bar Chart\\')\\\\nplt.xlabel(\\'Country\\')\\\\nplt.ylabel(\\'Value\\')\\\\nplt.show()\"}', 'name': 'execute_python_code'}, 'type': 'function'}], 'refusal': None}, response_metadata={'token_usage': {'completion_tokens': 159, 'prompt_tokens': 2589, 'total_tokens': 2748, 'completion_tokens_details': {'accepted_prediction_tokens': 0, 'audio_tokens': 0, 'reasoning_tokens': 0, 'rejected_prediction_tokens': 0}, 'prompt_tokens_details': {'audio_tokens': 0, 'cached_tokens': 1536}}, 'model_name': 'gpt-4o-2024-08-06', 'system_fingerprint': 'fp_726d488742', 'id': 'chatcmpl-BIWNBiO8IGiQ5Yd8q8LdzM3g2WLHG', 'finish_reason': 'tool_calls', 'logprobs': None}, id='run-c6fbc317-5880-4f95-9258-33c0597c354f-0', tool_calls=[{'name': 'execute_python_code', 'args': {'code': \"import pandas as pd\\nimport matplotlib.pyplot as plt\\nimport seaborn as sns\\ndata = {'USA': 523.06, 'Canada': 303.96, 'France': 195.1, 'Brazil': 190.1, 'Germany': 156.48}\\ndf = pd.DataFrame(list(data.items()), columns=['Country', 'Value'])\\nsns.set(style='whitegrid')\\nplt.figure(figsize=(10, 6))\\nsns.barplot(x='Country', y='Value', data=df, palette='viridis')\\nplt.title('Bar Chart')\\nplt.xlabel('Country')\\nplt.ylabel('Value')\\nplt.show()\"}, 'id': 'call_8Q9pmc6ZllRuFFUGpHvk1oVS', 'type': 'tool_call'}], usage_metadata={'input_tokens': 2589, 'output_tokens': 159, 'total_tokens': 2748, 'input_token_details': {'audio': 0, 'cache_read': 1536}, 'output_token_details': {'audio': 0, 'reasoning': 0}})]}}\n",
            "----\n"
          ]
        },
        {
          "name": "stderr",
          "output_type": "stream",
          "text": [
            "<string>:8: FutureWarning: \n",
            "\n",
            "Passing `palette` without assigning `hue` is deprecated and will be removed in v0.14.0. Assign the `x` variable to `hue` and set `legend=False` for the same effect.\n",
            "\n"
          ]
        },
        {
          "data": {
            "image/png": "[encoded data removed]",
            "text/plain": [
              "<Figure size 1000x600 with 1 Axes>"
            ]
          },
          "metadata": {},
          "output_type": "display_data"
        },
        {
          "name": "stdout",
          "output_type": "stream",
          "text": [
            "{'tools': {'messages': [ToolMessage(content='code executed successfully', name='execute_python_code', id='0ba180f1-6cff-4aa8-aa6c-1a0cb3c4cc24', tool_call_id='call_8Q9pmc6ZllRuFFUGpHvk1oVS')]}}\n",
            "----\n",
            "{'agent': {'messages': [AIMessage(content='The top 5 countries with the highest spending customers are as follows:\\n\\n1. USA: $523.06\\n2. Canada: $303.96\\n3. France: $195.10\\n4. Brazil: $190.10\\n5. Germany: $156.48\\n\\nThe bar chart visualizing this data has been successfully generated.', additional_kwargs={'refusal': None}, response_metadata={'token_usage': {'completion_tokens': 73, 'prompt_tokens': 2759, 'total_tokens': 2832, 'completion_tokens_details': {'accepted_prediction_tokens': 0, 'audio_tokens': 0, 'reasoning_tokens': 0, 'rejected_prediction_tokens': 0}, 'prompt_tokens_details': {'audio_tokens': 0, 'cached_tokens': 2688}}, 'model_name': 'gpt-4o-2024-08-06', 'system_fingerprint': 'fp_726d488742', 'id': 'chatcmpl-BIWNUfZfI7LyoxN8Nw6c3dnQTNucY', 'finish_reason': 'stop', 'logprobs': None}, id='run-0a3e890b-1387-4424-bd80-3b9c92b7f864-0', usage_metadata={'input_tokens': 2759, 'output_tokens': 73, 'total_tokens': 2832, 'input_token_details': {'audio': 0, 'cache_read': 2688}, 'output_token_details': {'audio': 0, 'reasoning': 0}})]}}\n",
            "----\n"
          ]
        }
      ],
      "source": [
        "for s in agent_executor.stream(\n",
        "    {\"messages\": [HumanMessage(content=\"which 5 countries customers are most spenders, provide data with value and plot a bar chart.\")]}\n",
        "):\n",
        "    print(s)\n",
        "    print(\"----\")"
      ]
    },
    {
      "cell_type": "code",
      "execution_count": null,
      "metadata": {},
      "outputs": [],
      "source": []
    },
    {
      "cell_type": "code",
      "execution_count": null,
      "metadata": {
        "id": "B6nC9kERK_By"
      },
      "outputs": [],
      "source": [
        "#"
      ]
    },
    {
      "cell_type": "markdown",
      "metadata": {
        "id": "gfdexe5lASta"
      },
      "source": [
        "## Thank You"
      ]
    }
  ],
  "metadata": {
    "colab": {
      "include_colab_link": true,
      "provenance": []
    },
    "kernelspec": {
      "display_name": "Python 3",
      "name": "python3"
    },
    "language_info": {
      "codemirror_mode": {
        "name": "ipython",
        "version": 3
      },
      "file_extension": ".py",
      "mimetype": "text/x-python",
      "name": "python",
      "nbconvert_exporter": "python",
      "pygments_lexer": "ipython3",
      "version": "3.13.2"
    }
  },
  "nbformat": 4,
  "nbformat_minor": 0
}
