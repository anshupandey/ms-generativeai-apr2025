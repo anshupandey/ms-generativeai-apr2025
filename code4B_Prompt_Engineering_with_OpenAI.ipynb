{
  "cells": [
    {
      "cell_type": "markdown",
      "metadata": {
        "colab_type": "text",
        "id": "view-in-github"
      },
      "source": [
        "<a href=\"https://colab.research.google.com/github/anshupandey/ms-generativeai-apr2025/blob/main/code4B_Prompt_Engineering_with_OpenAI.ipynb\" target=\"_parent\"><img src=\"https://colab.research.google.com/assets/colab-badge.svg\" alt=\"Open In Colab\"/></a>"
      ]
    },
    {
      "cell_type": "markdown",
      "metadata": {
        "id": "5ZBMUH466r3l"
      },
      "source": [
        "# Prompt Engineering Techniques"
      ]
    },
    {
      "cell_type": "code",
      "execution_count": 1,
      "metadata": {
        "id": "HVEaMctAXC6D"
      },
      "outputs": [],
      "source": [
        "from openai import OpenAI\n",
        "client = OpenAI()"
      ]
    },
    {
      "cell_type": "code",
      "execution_count": 2,
      "metadata": {
        "id": "0WAxkVWZ7LRi"
      },
      "outputs": [],
      "source": [
        "# creating a function to get outcome\n",
        "def generate_response(prompt,model=\"gpt-4o\",temperature=0):\n",
        "  messages = [{\"role\":\"user\",\"content\":prompt}]\n",
        "  response = client.chat.completions.create(\n",
        "      model = model,\n",
        "      messages = messages,\n",
        "      temperature=temperature\n",
        "  )\n",
        "  return response.choices[0].message.content\n"
      ]
    },
    {
      "cell_type": "markdown",
      "metadata": {
        "id": "W1xrQNg0br00"
      },
      "source": [
        "## Zero Shot Prompting"
      ]
    },
    {
      "cell_type": "code",
      "execution_count": 3,
      "metadata": {
        "colab": {
          "base_uri": "https://localhost:8080/"
        },
        "id": "1DpqkFzDvsTe",
        "outputId": "81ae4bbc-e051-464c-b7f4-fea1f83e8109"
      },
      "outputs": [
        {
          "name": "stdout",
          "output_type": "stream",
          "text": [
            "**Title: The Secret Garden Adventure**\n",
            "\n",
            "**Characters:**\n",
            "- Lily, the curious child\n",
            "- Grandpa Joe, the wise and loving grandparent\n",
            "\n",
            "---\n",
            "\n",
            "**Scene: A sunny afternoon in Grandpa Joe's backyard**\n",
            "\n",
            "**Lily:** Grandpa, can we go on an adventure today?\n",
            "\n",
            "**Grandpa Joe:** An adventure, you say? Well, I think I might have just the thing. Have you ever heard of the secret garden?\n",
            "\n",
            "**Lily:** A secret garden? No, I haven't! Where is it?\n",
            "\n",
            "**Grandpa Joe:** It's right here in our backyard, hidden away from the world. But only those with the keenest eyes and the bravest hearts can find it.\n",
            "\n",
            "**Lily:** Wow! Can we go there now? I want to see it!\n",
            "\n",
            "**Grandpa Joe:** Of course, my little explorer. But first, we need to gather some supplies. Every adventurer needs a trusty backpack. Let's see... a flashlight, a magnifying glass, and some snacks. You never know what we might encounter.\n",
            "\n",
            "**Lily:** I've got my backpack ready, Grandpa! What's next?\n",
            "\n",
            "**Grandpa Joe:** Follow me, Lily. The entrance to the secret garden is through the old wooden gate at the end of the path. But be careful, it's hidden behind the ivy.\n",
            "\n",
            "**Lily:** (giggling) I see it, Grandpa! It's like a door to another world!\n",
            "\n",
            "**Grandpa Joe:** That's the spirit! Now, let's push the gate open and step inside.\n",
            "\n",
            "**(They enter the secret garden, filled with vibrant flowers, towering trees, and the sound of chirping birds.)**\n",
            "\n",
            "**Lily:** It's beautiful, Grandpa! Look at all the colors! And the butterflies!\n",
            "\n",
            "**Grandpa Joe:** This garden has been here for many years, tended by nature itself. It's a place where time seems to stand still, and magic lingers in the air.\n",
            "\n",
            "**Lily:** Do you come here often, Grandpa?\n",
            "\n",
            "**Grandpa Joe:** I do, whenever I need a moment of peace or a reminder of the beauty in the world. It's a special place, just like you, Lily.\n",
            "\n",
            "**Lily:** Can we have our snacks here? I think the butterflies might want to join us.\n",
            "\n",
            "**Grandpa Joe:** That's a wonderful idea. Let's sit by the pond and enjoy our little picnic. And who knows, maybe the garden will share one of its secrets with us today.\n",
            "\n",
            "**(They sit by the pond, sharing snacks and stories, surrounded by the gentle rustle of leaves and the soft hum of nature.)**\n",
            "\n",
            "**Lily:** Thank you for bringing me here, Grandpa. This is the best adventure ever!\n",
            "\n",
            "**Grandpa Joe:** You're welcome, my dear. Remember, the greatest adventures are often found in the simplest of places, as long as you have the right company.\n",
            "\n",
            "**Lily:** I love you, Grandpa.\n",
            "\n",
            "**Grandpa Joe:** I love you too, Lily. Now, let's see if we can spot a frog or two before we head back.\n",
            "\n",
            "**(They continue their exploration, laughter echoing through the secret garden, a memory to cherish forever.)**\n",
            "\n",
            "---\n"
          ]
        }
      ],
      "source": [
        "# zero shot prompting\n",
        "prompt = f\"\"\"\n",
        "Create a conversation story between child and grandparent.\n",
        "\"\"\"\n",
        "response = generate_response(prompt)\n",
        "print(response)"
      ]
    },
    {
      "cell_type": "markdown",
      "metadata": {
        "id": "pcBE11_6vwJd"
      },
      "source": [
        "## Few Shot Prompting\n",
        "\n",
        "Here, the model is given a few examples (shots) to guide its response. By providing context or previous instances, the model can better understand and generate the desired output. For example, showing a model several examples of translated sentences before asking it to translate a new one.\n"
      ]
    },
    {
      "cell_type": "code",
      "execution_count": 4,
      "metadata": {
        "colab": {
          "base_uri": "https://localhost:8080/"
        },
        "id": "8SurLNqfa6wi",
        "outputId": "d0287807-7b38-4491-bfa5-ec869fe7278a"
      },
      "outputs": [
        {
          "name": "stdout",
          "output_type": "stream",
          "text": [
            "<grandma>: Resilience is like a tree that bends with the wind but never breaks, standing tall again once the storm has passed.\n"
          ]
        }
      ],
      "source": [
        "# few shot prompting\n",
        "prompt = f\"\"\"\n",
        "your task is to answer in a consistent sytle:\n",
        "\n",
        "<child>: Teach me about patience.\n",
        "<grandma>: Patience is like waiting for whole day to see the moon in the evening and then sleeping after having a look at it.\n",
        "\n",
        "<child>: Teach me about resilience.\n",
        "\"\"\"\n",
        "response = generate_response(prompt)\n",
        "print(response)"
      ]
    },
    {
      "cell_type": "markdown",
      "metadata": {
        "id": "LqtJ2ipJbhw6"
      },
      "source": [
        "#### Few shot prompting with role setup"
      ]
    },
    {
      "cell_type": "code",
      "execution_count": 5,
      "metadata": {
        "colab": {
          "base_uri": "https://localhost:8080/"
        },
        "id": "RTawSemLbhw6",
        "outputId": "1ca50459-8f74-4008-f3b4-d7c51e17e8de"
      },
      "outputs": [
        {
          "name": "stdout",
          "output_type": "stream",
          "text": [
            "positive\n"
          ]
        }
      ],
      "source": [
        "result = client.chat.completions.create(\n",
        "    model='gpt-4o',  # e.g. gpt-35-instant\n",
        "    max_tokens=200,\n",
        "    temperature=0.9,\n",
        "    messages=[\n",
        "        {\"role\": \"system\", \"content\": \"You are a helpful assistant.\"},\n",
        "        {\"role\": \"user\", \"content\": \"That was an awesome experience\"},\n",
        "        {\"role\": \"assistant\", \"content\": \"positive\"},\n",
        "        {\"role\": \"user\", \"content\": \"I won't do that again\"},\n",
        "        {\"role\": \"assistant\", \"content\": \"negative\"},\n",
        "        {\"role\": \"user\", \"content\": \"That was not worth my time\"},\n",
        "        {\"role\": \"assistant\", \"content\": \"negative\"},\n",
        "        {\"role\": \"user\", \"content\": \"You can't miss this\"}\n",
        "    ],\n",
        ")\n",
        "print(result.choices[0].message.content)"
      ]
    },
    {
      "cell_type": "markdown",
      "metadata": {
        "id": "2IBIItcqbhw_"
      },
      "source": [
        "## Chain of Thought Prompting"
      ]
    },
    {
      "cell_type": "code",
      "execution_count": 6,
      "metadata": {
        "colab": {
          "base_uri": "https://localhost:8080/"
        },
        "id": "JbMnOeiq2atC",
        "outputId": "4e46ac4c-279d-4ffe-c716-2c1201a2c8e2"
      },
      "outputs": [
        {
          "name": "stdout",
          "output_type": "stream",
          "text": [
            "To solve this problem, we need to follow the steps:\n",
            "\n",
            "1. Marry initially had 5 pens.\n",
            "2. She gave 3 pens to her friend, so she has \\(5 - 3 = 2\\) pens left.\n",
            "3. She then bought 2 boxes of pens, with 3 pens in each box. This means she bought \\(2 \\times 3 = 6\\) pens.\n",
            "4. Adding the pens she bought to the pens she had left, Marry now has \\(2 + 6 = 8\\) pens.\n",
            "\n",
            "So, Marry has 8 pens now.\n"
          ]
        }
      ],
      "source": [
        "# Without Chain of Thought Prompting\n",
        "prompt = f\"\"\"\n",
        "\n",
        "Teacher: Johan had 5 apples, he bought 4 more boxes with 5 apples each. How many apples does he have now?\n",
        "Student: 25 apples\n",
        "\n",
        "Teacher: Marry had 5 pens, she gave 3 to her friend. and bought 2 boxes of pen with 3 pen in each box. How many pens does she have now?\n",
        "Student:\n",
        "\n",
        "\"\"\"\n",
        "response = generate_response(prompt)\n",
        "print(response)"
      ]
    },
    {
      "cell_type": "code",
      "execution_count": 8,
      "metadata": {
        "colab": {
          "base_uri": "https://localhost:8080/"
        },
        "id": "_7Hz_cvLbhw_",
        "outputId": "e169ea66-d2f1-4d80-bfe1-e56ae27c27aa"
      },
      "outputs": [
        {
          "name": "stdout",
          "output_type": "stream",
          "text": [
            "Marry initially had 5 pens. She gave 3 pens to her friend, so she had:\n",
            "\n",
            "5 - 3 = 2 pens remaining.\n",
            "\n",
            "Then, she bought 2 boxes with 3 pens in each box, which means she got:\n",
            "\n",
            "2 * 3 = 6 pens.\n",
            "\n",
            "Adding the pens she bought to the pens she had left:\n",
            "\n",
            "2 + 6 = 8 pens.\n",
            "\n",
            "So, Marry has 8 pens now.\n"
          ]
        }
      ],
      "source": [
        "# with Chain of Thought prompting\n",
        "prompt = f\"\"\"\n",
        "\n",
        "Teacher: Johan had 5 apples, he bought 4 more boxes with 5 apples each. How many apples does he have now?\n",
        "Student: Johan had 5 apples, 4 boxes with 5 apples each = 5 + 4*5 = 25 apples\n",
        "\n",
        "Teacher: Marry had 5 pens, she gave 3 to her friend. and bought 2 boxes of pen with 3 pen in each box. How many pens does she have now?\n",
        "Student:\n",
        "\n",
        "\"\"\"\n",
        "response = generate_response(prompt)\n",
        "print(response)"
      ]
    },
    {
      "cell_type": "code",
      "execution_count": 9,
      "metadata": {
        "colab": {
          "base_uri": "https://localhost:8080/"
        },
        "id": "A7SWadXtr5ou",
        "outputId": "1bd64f0a-dfee-415b-8c53-6ed8c2bbe773"
      },
      "outputs": [
        {
          "name": "stdout",
          "output_type": "stream",
          "text": [
            "To solve this problem, let's break it down step by step:\n",
            "\n",
            "1. **Initial Number of Pens:**\n",
            "   - Marry initially had 5 pens.\n",
            "\n",
            "2. **Pens Given Away:**\n",
            "   - She gave 3 pens to her friend.\n",
            "   - So, the number of pens she has after giving away is:  \n",
            "     \\( 5 - 3 = 2 \\) pens.\n",
            "\n",
            "3. **Pens Bought:**\n",
            "   - She bought 2 boxes of pens, with each box containing 3 pens.\n",
            "   - The total number of pens in the boxes is:  \n",
            "     \\( 2 \\times 3 = 6 \\) pens.\n",
            "\n",
            "4. **Total Number of Pens Now:**\n",
            "   - Add the pens she has after giving away to the pens she bought:  \n",
            "     \\( 2 + 6 = 8 \\) pens.\n",
            "\n",
            "Therefore, Marry has 8 pens now.\n"
          ]
        }
      ],
      "source": [
        "# with Chain of Thought prompting\n",
        "prompt = f\"\"\"\n",
        "\n",
        "Think step by step to answer below question, do not come to conclusion without following process.\n",
        "Teacher: Marry had 5 pens, she gave 3 to her friend. and bought 2 boxes of pen with 3 pen in each box. How many pens does she have now?\n",
        "Student:\n",
        "\n",
        "\"\"\"\n",
        "response = generate_response(prompt)\n",
        "print(response)"
      ]
    },
    {
      "cell_type": "markdown",
      "metadata": {
        "id": "bQvoNRxqVo5_"
      },
      "source": [
        "## Tree of Thoughts (ToT)\n",
        "\n",
        "Tree of Thoughts (ToT) prompting is a framework that generalizes over chain-of-thought prompting and encourages exploration over thoughts that serve as intermediate steps for general problem-solving with language models.\n",
        "\n",
        "\n",
        "How does it work?\n",
        "\n",
        "- ToT prompting breaks problems down into smaller parts, similar to CoT prompting, but goes further by combining this with the ability to explore multiple solution paths in parallel, forming a tree instead of a single chain. Each thought is generated or solved independently and passed to the next step, allowing the model to self-evaluate and decide whether to continue with that path or choose another."
      ]
    },
    {
      "cell_type": "code",
      "execution_count": 10,
      "metadata": {
        "colab": {
          "base_uri": "https://localhost:8080/"
        },
        "id": "zF7_WBM9MT78",
        "outputId": "efb792e3-b22a-43b6-f533-0a5bad9e0111"
      },
      "outputs": [
        {
          "name": "stdout",
          "output_type": "stream",
          "text": [
            "**Step 1: Initial Thoughts**\n",
            "\n",
            "**Expert 1:** Carlos likely lost his watch when he shook the towel at the lounger. The vigorous shaking could have dislodged the watch. Probability: 70%\n",
            "\n",
            "**Expert 2:** The watch might have fallen out when Carlos carried the towel to the lounger. The act of carrying it tightly could have caused it to slip out. Probability: 60%\n",
            "\n",
            "**Expert 3:** The watch could be at the snack bar. Carlos left the towel there, and the watch might have fallen out when he put the towel down. Probability: 50%\n",
            "\n",
            "**Expert 4:** It's possible the watch is still in the towel. Carlos might not have noticed it when he left the towel at the snack bar. Probability: 40%\n",
            "\n",
            "**Expert 5:** The watch could have fallen out at any point between the locker room and the diving board. Probability: 30%\n",
            "\n",
            "**Step 2: Critique and Discussion**\n",
            "\n",
            "**Expert 1:** I still believe the shaking at the lounger is the most likely point of loss. However, I acknowledge that the watch could have fallen out earlier.\n",
            "\n",
            "**Expert 2:** I agree with Expert 1 that the shaking is a critical point, but I still think carrying the towel tightly could have dislodged the watch.\n",
            "\n",
            "**Expert 3:** I think the snack bar is a strong possibility because Carlos left the towel there, and it could have fallen out unnoticed.\n",
            "\n",
            "**Expert 4:** I’m reconsidering my position. If the watch was still in the towel, Carlos might have noticed it when he left it at the snack bar.\n",
            "\n",
            "**Expert 5:** I’m leaning towards the watch being lost at a specific point rather than along the way. The shaking at the lounger seems significant.\n",
            "\n",
            "**Step 3: Re-evaluation**\n",
            "\n",
            "**Expert 1:** I’m increasing my probability to 75% for the lounger. The vigorous shaking is a strong indicator.\n",
            "\n",
            "**Expert 2:** I’ll adjust my probability to 65% for the lounger. The shaking seems more likely than carrying.\n",
            "\n",
            "**Expert 3:** I’ll keep my probability at 50% for the snack bar, but I’m open to the lounger being more likely.\n",
            "\n",
            "**Expert 4:** I’m shifting my focus to the lounger. I’ll assign a 60% probability there.\n",
            "\n",
            "**Expert 5:** I’m convinced by the arguments for the lounger. I’ll assign a 70% probability.\n",
            "\n",
            "**Step 4: Conclusion**\n",
            "\n",
            "After considering all possibilities and critiques, the experts agree that the single most likely location of the watch is at the lounger where Carlos vigorously shook the towel. The consensus probability is around 70-75%.\n"
          ]
        }
      ],
      "source": [
        "\n",
        "prompt = \"\"\"\n",
        "Imagine 5 different experts are answering this question.\n",
        "They will brainstorm the answer step by step reasoning carefully and taking all facts into consideration\n",
        "All experts will write down 1 step of their thinking,\n",
        "then share it with the group.\n",
        "They will each critique their response, and the all the responses of others\n",
        "They will check their answer based on science and the laws of physics\n",
        "They will keep going through steps until they reach their conclusion taking into account the thoughts of the other experts\n",
        "If at any time they realise that there is a flaw in their logic they will backtrack to where that flaw occurred\n",
        "If any expert realises they're wrong at any point then they acknowledges this and start another train of thought\n",
        "Each expert will assign a likelihood of their current assertion being correct\n",
        "Continue until the experts agree on the single most likely location\n",
        "The question is.\n",
        "1. Carlos is at the swimming pool.\n",
        "2. He walks to the locker room, carrying a towel.\n",
        "3. He puts his watch in the towel and carries the towel tightly to a lounger at the poolside.\n",
        "4. At the lounger he opens and vigorously shakes the towel, then walks to the snack bar.\n",
        "5. He leaves the towel at the snack bar, then walks to the diving board.\n",
        "6. Later Carlos realises he has has lost his watch. Where is the single most likely location of the watch?\n",
        "\"\"\"\n",
        "\n",
        "\n",
        "ans=generate_response(prompt)\n",
        "\n",
        "print(ans)"
      ]
    },
    {
      "cell_type": "markdown",
      "metadata": {
        "id": "dPnsQc3hpQ7x"
      },
      "source": [
        "## Chain-of-Verification Prompting\n",
        "\n",
        "The Chain-of-Verification (CoVe) prompt engineering method aims to reduce hallucinations through a verification loop."
      ]
    },
    {
      "cell_type": "code",
      "execution_count": 11,
      "metadata": {
        "colab": {
          "base_uri": "https://localhost:8080/"
        },
        "id": "u9mjZtAJfDdm",
        "outputId": "22e66ffd-5e73-478c-a44b-f6e168cbd015"
      },
      "outputs": [
        {
          "name": "stdout",
          "output_type": "stream",
          "text": [
            "Initial Response:\n",
            "Some athletes who were born in the United States include Michael Jordan, Serena Williams, Tom Brady, Simone Biles, and LeBron James.\n",
            "\n",
            "Verification Questions and Answers:\n",
            "\n",
            "1. Was Michael Jordan born in the United States?\n",
            "   - Yes, Michael Jordan was born in Brooklyn, New York, United States.\n",
            "\n",
            "2. Was Serena Williams born in the United States?\n",
            "   - Yes, Serena Williams was born in Saginaw, Michigan, United States.\n",
            "\n",
            "3. Was Tom Brady born in the United States?\n",
            "   - Yes, Tom Brady was born in San Mateo, California, United States.\n",
            "\n",
            "4. Was Simone Biles born in the United States?\n",
            "   - Yes, Simone Biles was born in Columbus, Ohio, United States.\n",
            "\n",
            "5. Was LeBron James born in the United States?\n",
            "   - Yes, LeBron James was born in Akron, Ohio, United States.\n",
            "\n",
            "Revised Final Response:\n",
            "After verifying the information, it is confirmed that all the athletes mentioned were indeed born in the United States. Therefore, some athletes who were born in the United States include Michael Jordan, Serena Williams, Tom Brady, Simone Biles, and LeBron James.\n"
          ]
        }
      ],
      "source": [
        "Question=\"Name some athletes who were born in United states\"\n",
        "\n",
        "prompt=f'''Here is the question: {Question}.\n",
        "\n",
        "First, generate a response.\n",
        "\n",
        "Then, create and answer verification questions based on this response to check for accuracy. Think it through and make sure you are extremely accurate based on the question asked.\n",
        "\n",
        "After answering each verification question, consider these answers and revise the initial response to formulate a final, verified answer. Ensure the final response reflects the accuracy and findings from the verification process.'''\n",
        "\n",
        "\n",
        "\n",
        "ans=generate_response(prompt)\n",
        "\n",
        "print(ans)\n"
      ]
    },
    {
      "cell_type": "markdown",
      "metadata": {
        "id": "Z8_TNNG2Ozu6"
      },
      "source": [
        "# Model Limitations: Hallucinations"
      ]
    },
    {
      "cell_type": "code",
      "execution_count": 12,
      "metadata": {
        "colab": {
          "base_uri": "https://localhost:8080/"
        },
        "id": "O6cFKxLnw5U7",
        "outputId": "4e5ade75-7994-446a-9bdd-aa8a6be5c390"
      },
      "outputs": [
        {
          "name": "stdout",
          "output_type": "stream",
          "text": [
            "Step 1: Get some warm water.  \n",
            "Step 2: Mix the warm water with some detergent.  \n",
            "Step 3: Put the dirty clothes in the water and let them soak for some time.  \n",
            "Step 4: Allow the stains to loosen and mix with the water.  \n",
            "Step 5: Take the clothes out and rub the dirt/stains with a soft brush to remove any remaining stains.  \n",
            "Step 6: Rinse the clothes with water to remove the detergent.  \n",
            "Step 7: Hang the clothes on a rope to dry.  \n",
            "Step 8: Enjoy the clean clothes.  \n"
          ]
        }
      ],
      "source": [
        "# asking for a specific format\n",
        "text = \"\"\"\n",
        "Washing clothes without washing machines is easy!\n",
        "First you need to get some warm water. Mix the warm water with some detergent. Second you can put the dirty clothes in it and let it stay wet for some time.\n",
        "During this period the stains will get loose and mixed with water.\n",
        "thereafter you can take clothes out, rub the dirt/stains with a soft brush to remove the stains if any.\n",
        "get the clothes mixed with water to get the detergent out of it. and then put it for drying on a rope.\n",
        "Enjoy the clean clothes.\n",
        "\"\"\"\n",
        "\n",
        "prompt = f\"\"\"\n",
        "you will be provided with some text delimited by triple backticks. Rewrite those into a set of instructions in the following format:\n",
        "\n",
        "Step 1: ...\n",
        "Step 2: ....\n",
        "..\n",
        "Step N:...\n",
        "\n",
        "```{text}\n",
        "```\n",
        "\"\"\"\n",
        "response = generate_response(prompt)\n",
        "print(response)\n"
      ]
    },
    {
      "cell_type": "code",
      "execution_count": 13,
      "metadata": {
        "colab": {
          "base_uri": "https://localhost:8080/"
        },
        "id": "KIQvR5L9w5U8",
        "outputId": "92a8f14e-7c78-4f67-f87d-ffad8d10e2ae"
      },
      "outputs": [
        {
          "name": "stdout",
          "output_type": "stream",
          "text": [
            "```\n",
            "Step 1: Observe the morning and note that it is amazing.\n",
            "\n",
            "Step 2: Notice the sun shining brightly between the clouds.\n",
            "\n",
            "Step 3: Feel the pleasant weather.\n",
            "\n",
            "Step 4: Enjoy the mind-blowing wind.\n",
            "\n",
            "Step 5: Appreciate and love the day as a whole.\n",
            "```\n"
          ]
        }
      ],
      "source": [
        "# asking for a specific format\n",
        "text = \"\"\"\n",
        "THe morning today is amazing, the sun is looking bright in between clouds, the weather is pleasent and the wind is mindblowing. on a whole i am loving the day today.\n",
        "\"\"\"\n",
        "\n",
        "prompt = f\"\"\"\n",
        "you will be provided with some text delimited by triple backticks. Rewrite those into a set of instructions in the following format:\n",
        "\n",
        "Step 1: ...\n",
        "Step 2: ....\n",
        "..\n",
        "Step N:...\n",
        "\n",
        "```{text}\n",
        "```\n",
        "\"\"\"\n",
        "response = generate_response(prompt)\n",
        "print(response)\n"
      ]
    },
    {
      "cell_type": "code",
      "execution_count": 14,
      "metadata": {
        "colab": {
          "base_uri": "https://localhost:8080/"
        },
        "id": "CVg4XE5dw5U8",
        "outputId": "acc41932-16f0-40df-f24d-1252d64fc1b8"
      },
      "outputs": [
        {
          "name": "stdout",
          "output_type": "stream",
          "text": [
            "Step 1: Get some warm water.  \n",
            "Step 2: Mix the warm water with some detergent.  \n",
            "Step 3: Put the dirty clothes in the water and let them stay wet for some time.  \n",
            "Step 4: Take the clothes out and rub the dirt/stains with a soft brush to remove any stains.  \n",
            "Step 5: Rinse the clothes with water to remove the detergent.  \n",
            "Step 6: Put the clothes for drying on a rope.  \n",
            "Step 7: Enjoy the clean clothes.\n"
          ]
        }
      ],
      "source": [
        "# asking for a specific format\n",
        "text = \"\"\"\n",
        "Washing clothes without washing machines is easy!\n",
        "First you need to get some warm water. Mix the warm water with some detergent. Second you can put the dirty clothes in it and let it stay wet for some time.\n",
        "During this period the stains will get loose and mixed with water.\n",
        "thereafter you can take clothes out, rub the dirt/stains with a soft brush to remove the stains if any.\n",
        "get the clothes mixed with water to get the detergent out of it. and then put it for drying on a rope.\n",
        "Enjoy the clean clothes.\n",
        "\"\"\"\n",
        "\n",
        "prompt = f\"\"\"\n",
        "you will be provided with some text delimited by triple backticks.\n",
        "Rewrite those into a set of instructions in the following format only if contains a sequence of instructions:\n",
        "\n",
        "Step 1: ...\n",
        "Step 2: ....\n",
        "..\n",
        "Step N:...\n",
        "\n",
        "```{text}\n",
        "```\n",
        "\n",
        "if the text does not contain a sequence of instructions, then simply write 'No steps provided'\n",
        "\"\"\"\n",
        "response = generate_response(prompt)\n",
        "print(response)\n"
      ]
    },
    {
      "cell_type": "code",
      "execution_count": 15,
      "metadata": {
        "colab": {
          "base_uri": "https://localhost:8080/"
        },
        "id": "rTNZlh8kw5U9",
        "outputId": "c7141940-9a24-48ab-d4cc-21d6c9b84996"
      },
      "outputs": [
        {
          "name": "stdout",
          "output_type": "stream",
          "text": [
            "No steps provided\n"
          ]
        }
      ],
      "source": [
        "# asking for a specific format\n",
        "text = \"\"\"\n",
        "THe morning today is amazing, the sun is looking bright in between clouds, the weather is pleasent and the wind is mindblowing. on a whole i am loving the day today.\n",
        "\"\"\"\n",
        "\n",
        "prompt = f\"\"\"\n",
        "you will be provided with some text delimited by triple backticks.\n",
        "Rewrite those into a set of instructions in the following format only if contains a sequence of instructions:\n",
        "\n",
        "Step 1: ...\n",
        "Step 2: ....\n",
        "..\n",
        "Step N:...\n",
        "\n",
        "```{text}\n",
        "```\n",
        "\n",
        "if the text does not contain a sequence of instructions, then simply write 'No steps provided'\n",
        "\"\"\"\n",
        "response = generate_response(prompt)\n",
        "print(response)\n"
      ]
    },
    {
      "cell_type": "code",
      "execution_count": 16,
      "metadata": {
        "colab": {
          "base_uri": "https://localhost:8080/",
          "height": 157
        },
        "id": "Or9Q36oxO4bx",
        "outputId": "e4fab37d-b0f5-46d8-fa5b-9306b618c988"
      },
      "outputs": [
        {
          "data": {
            "text/plain": [
              "'As of my last update in October 2023, there is no specific information available about an \"Ergonamic chair\" produced and sold by Morning Star IT Services. It\\'s possible that this product is either a new release or a niche product that hasn\\'t been widely documented in the sources I have access to. \\n\\nIf you\\'re interested in this chair, I recommend checking Morning Star IT Services\\' official website or contacting them directly for the most accurate and up-to-date information. They would be able to provide details on the chair\\'s features, pricing, availability, and any other relevant information.'"
            ]
          },
          "execution_count": 16,
          "metadata": {},
          "output_type": "execute_result"
        }
      ],
      "source": [
        "prompt = f\"\"\"\n",
        "Tell me about Ergonamic chair procuced and sold by Morning Star IT Services.\n",
        "\"\"\"\n",
        "\n",
        "generate_response(prompt)"
      ]
    },
    {
      "cell_type": "code",
      "execution_count": 17,
      "metadata": {
        "colab": {
          "base_uri": "https://localhost:8080/",
          "height": 174
        },
        "id": "n4rvOOeSPIDV",
        "outputId": "17642e77-7c5f-4159-9fe3-1810da041dce"
      },
      "outputs": [
        {
          "data": {
            "text/plain": [
              "'As of my last update, Colgate has not released a product specifically named the \"Ergonamic Toothbrush.\" However, Colgate is well-known for producing a variety of toothbrushes that focus on ergonomic design to enhance user comfort and improve oral hygiene. These toothbrushes often feature:\\n\\n1. **Ergonomic Handles**: Designed to fit comfortably in the hand, reducing strain during brushing and allowing for better control.\\n\\n2. **Soft Bristles**: Many Colgate toothbrushes come with soft bristles to effectively clean teeth and gums without causing irritation.\\n\\n3. **Advanced Bristle Design**: Some models include multi-level or angled bristles to reach different areas of the mouth more effectively.\\n\\n4. **Special Features**: Certain toothbrushes may include tongue cleaners, cheek cleaners, or polishing cups for a more comprehensive cleaning experience.\\n\\n5. **Electric Options**: Colgate also offers electric toothbrushes with ergonomic designs, providing features like timers and different brushing modes.\\n\\nIf you are looking for a specific product or the latest offerings from Colgate, I recommend checking their official website or contacting them directly for the most current information.'"
            ]
          },
          "execution_count": 17,
          "metadata": {},
          "output_type": "execute_result"
        }
      ],
      "source": [
        "prompt = f\"\"\"\n",
        "Tell me about Ergonamic Toothbrush by colgate.\n",
        "\"\"\"\n",
        "\n",
        "generate_response(prompt)"
      ]
    },
    {
      "cell_type": "code",
      "execution_count": 18,
      "metadata": {
        "colab": {
          "base_uri": "https://localhost:8080/",
          "height": 174
        },
        "id": "hzawWC-7PT_l",
        "outputId": "38e84cd0-c465-4aca-d7d8-0bb3c3530aa3"
      },
      "outputs": [
        {
          "data": {
            "text/plain": [
              "'As of my last update in October 2023, I don\\'t have specific information about an \"Ultraslim Toothbrush\" by a company named MorningStar. It\\'s possible that this product is either very new, niche, or not widely covered in the sources I have access to. \\n\\nIf this is a recent product release, I recommend checking the company\\'s official website or their press releases for the most accurate and up-to-date information. Additionally, online retailers or consumer review sites might have user reviews and more details about the product\\'s features and benefits.'"
            ]
          },
          "execution_count": 18,
          "metadata": {},
          "output_type": "execute_result"
        }
      ],
      "source": [
        "prompt = f\"\"\"\n",
        "Tell me about Ultraslim Toothbrush by MorningStar.\n",
        "\"\"\"\n",
        "\n",
        "generate_response(prompt)"
      ]
    },
    {
      "cell_type": "code",
      "execution_count": 20,
      "metadata": {
        "colab": {
          "base_uri": "https://localhost:8080/"
        },
        "id": "gjWPGpKzPdQB",
        "outputId": "286bc63d-a544-4bc4-b173-ed940b0c6258"
      },
      "outputs": [
        {
          "name": "stdout",
          "output_type": "stream",
          "text": [
            "1. Manila: The bustling capital of the Philippines, known for its rich history, vibrant culture, and diverse culinary scene.\n",
            "2. Delhi: A dynamic metropolis in India, blending ancient landmarks with modern urban life and renowned for its street food and markets.\n",
            "3. MorningStarCity: A fictional or lesser-known city, potentially characterized by its unique charm and emerging cultural or economic significance.\n"
          ]
        }
      ],
      "source": [
        "prompt = f\"\"\"\n",
        "Generate one line description for each of the following city:\n",
        "1. Manila\n",
        "2. Delhi\n",
        "3. MorningStarCity\n",
        "\"\"\"\n",
        "\n",
        "print(generate_response(prompt))"
      ]
    },
    {
      "cell_type": "code",
      "execution_count": 21,
      "metadata": {
        "colab": {
          "base_uri": "https://localhost:8080/"
        },
        "id": "Io6r-CoeRP5r",
        "outputId": "35728a20-2ab2-4b09-bd5d-d3bac46fc5b8"
      },
      "outputs": [
        {
          "name": "stdout",
          "output_type": "stream",
          "text": [
            "1. Manila: The bustling capital of the Philippines, known for its rich history, vibrant culture, and diverse culinary scene.\n",
            "2. Delhi: The capital city of India, offering a blend of ancient landmarks, bustling markets, and modern urban life.\n",
            "3. MorningStarCity: No description can be generated, as this city does not exist.\n"
          ]
        }
      ],
      "source": [
        "prompt = f\"\"\"\n",
        "Generate one line description for each of the following city, check if the city exists, if it does not exist, say no description can be generated:\n",
        "1. Manila\n",
        "2. Delhi\n",
        "3. MorningStarCity\n",
        "\"\"\"\n",
        "\n",
        "print(generate_response(prompt))"
      ]
    },
    {
      "cell_type": "markdown",
      "metadata": {
        "id": "U-DmK07y94x8"
      },
      "source": [
        "## Conversational App"
      ]
    },
    {
      "cell_type": "code",
      "execution_count": 22,
      "metadata": {
        "id": "Lap6MZ-ARdKd"
      },
      "outputs": [],
      "source": [
        "# creating a function to get outcome\n",
        "def generate_response(messages,model='gpt-4o'):\n",
        "  response = client.chat.completions.create(\n",
        "      model = model,\n",
        "      messages = messages,\n",
        "      temperature=0.5\n",
        "  )\n",
        "  return response.choices[0].message.content\n"
      ]
    },
    {
      "cell_type": "code",
      "execution_count": 23,
      "metadata": {
        "id": "zgHXbLb0bhxA",
        "outputId": "1dddbf0c-edcd-4ee2-e6cc-77398101967b"
      },
      "outputs": [
        {
          "name": "stdout",
          "output_type": "stream",
          "text": [
            "You:  Hi My name is ANshu, I live in Mumbai. \n",
            "Bot: Hello Anshu! It's nice to meet you. How can I assist you today?\n",
            "You:  tell me about the city I live in .\n",
            "Bot: Certainly! Mumbai, formerly known as Bombay, is the capital city of the Indian state of Maharashtra. It's the most populous city in India and one of the most densely populated cities in the world. Here are some key points about Mumbai:\n",
            "\n",
            "1. **Economic Hub**: Mumbai is the financial, commercial, and entertainment capital of India. It is home to major financial institutions like the Reserve Bank of India, the Bombay Stock Exchange, and numerous multinational corporations. The city contributes significantly to India's GDP.\n",
            "\n",
            "2. **Bollywood**: Mumbai is synonymous with Bollywood, the Hindi-language film industry. It produces a large number of films each year and is a major cultural influence in India and beyond.\n",
            "\n",
            "3. **Cultural Diversity**: The city is a melting pot of cultures, with a diverse population that includes people from all over India and the world. This diversity is reflected in its cuisine, festivals, and languages.\n",
            "\n",
            "4. **Landmarks and Attractions**: Mumbai has several iconic landmarks, such as the Gateway of India, Marine Drive, Chhatrapati Shivaji Maharaj Terminus (a UNESCO World Heritage Site), and the Elephanta Caves. The city also boasts beautiful beaches like Juhu and Chowpatty.\n",
            "\n",
            "5. **Education and Institutions**: Mumbai is home to some of India's premier educational and research institutions, including the University of Mumbai, the Indian Institute of Technology Bombay (IIT Bombay), and the Tata Institute of Social Sciences (TISS).\n",
            "\n",
            "6. **Public Transport**: The city's public transport system is extensive, with suburban railways, buses, and a growing metro network. The Mumbai local trains are a lifeline for millions of commuters.\n",
            "\n",
            "7. **Challenges**: Like any major metropolis, Mumbai faces challenges such as traffic congestion, pollution, and housing shortages. The city is also vulnerable to monsoon flooding.\n",
            "\n",
            "8. **Vibrant Nightlife and Cuisine**: Mumbai offers a vibrant nightlife with numerous bars, clubs, and restaurants. The city is famous for its street food, including vada pav, pav bhaji, and bhel puri.\n",
            "\n",
            "Overall, Mumbai is a dynamic city with a rich history and a promising future, known for its resilience and spirit. If there's anything specific you'd like to know, feel free to ask!\n",
            "You:  exit\n"
          ]
        }
      ],
      "source": [
        "messages = [{\"role\":\"system\",\"content\":\"You are a helpful assistant\"},]\n",
        "while True:\n",
        "    uinput = input(\"You: \")\n",
        "    print(\"You: \",uinput)\n",
        "    if uinput.lower() in ['q','quit','exit']:\n",
        "        break\n",
        "    messages.append({\"role\":\"user\",\"content\":uinput})\n",
        "    response = generate_response(messages=messages)\n",
        "    print(f\"Bot: {response}\")\n",
        "    messages.append({\"role\":\"assistant\",\"content\":response})\n"
      ]
    },
    {
      "cell_type": "code",
      "execution_count": 24,
      "metadata": {},
      "outputs": [
        {
          "data": {
            "text/plain": [
              "[{'role': 'system', 'content': 'You are a helpful assistant'},\n",
              " {'role': 'user', 'content': 'Hi My name is ANshu, I live in Mumbai. '},\n",
              " {'role': 'assistant',\n",
              "  'content': \"Hello Anshu! It's nice to meet you. How can I assist you today?\"},\n",
              " {'role': 'user', 'content': 'tell me about the city I live in .'},\n",
              " {'role': 'assistant',\n",
              "  'content': \"Certainly! Mumbai, formerly known as Bombay, is the capital city of the Indian state of Maharashtra. It's the most populous city in India and one of the most densely populated cities in the world. Here are some key points about Mumbai:\\n\\n1. **Economic Hub**: Mumbai is the financial, commercial, and entertainment capital of India. It is home to major financial institutions like the Reserve Bank of India, the Bombay Stock Exchange, and numerous multinational corporations. The city contributes significantly to India's GDP.\\n\\n2. **Bollywood**: Mumbai is synonymous with Bollywood, the Hindi-language film industry. It produces a large number of films each year and is a major cultural influence in India and beyond.\\n\\n3. **Cultural Diversity**: The city is a melting pot of cultures, with a diverse population that includes people from all over India and the world. This diversity is reflected in its cuisine, festivals, and languages.\\n\\n4. **Landmarks and Attractions**: Mumbai has several iconic landmarks, such as the Gateway of India, Marine Drive, Chhatrapati Shivaji Maharaj Terminus (a UNESCO World Heritage Site), and the Elephanta Caves. The city also boasts beautiful beaches like Juhu and Chowpatty.\\n\\n5. **Education and Institutions**: Mumbai is home to some of India's premier educational and research institutions, including the University of Mumbai, the Indian Institute of Technology Bombay (IIT Bombay), and the Tata Institute of Social Sciences (TISS).\\n\\n6. **Public Transport**: The city's public transport system is extensive, with suburban railways, buses, and a growing metro network. The Mumbai local trains are a lifeline for millions of commuters.\\n\\n7. **Challenges**: Like any major metropolis, Mumbai faces challenges such as traffic congestion, pollution, and housing shortages. The city is also vulnerable to monsoon flooding.\\n\\n8. **Vibrant Nightlife and Cuisine**: Mumbai offers a vibrant nightlife with numerous bars, clubs, and restaurants. The city is famous for its street food, including vada pav, pav bhaji, and bhel puri.\\n\\nOverall, Mumbai is a dynamic city with a rich history and a promising future, known for its resilience and spirit. If there's anything specific you'd like to know, feel free to ask!\"}]"
            ]
          },
          "execution_count": 24,
          "metadata": {},
          "output_type": "execute_result"
        }
      ],
      "source": [
        "messages"
      ]
    },
    {
      "cell_type": "code",
      "execution_count": null,
      "metadata": {},
      "outputs": [],
      "source": []
    },
    {
      "cell_type": "markdown",
      "metadata": {
        "id": "3WErsqIf94x9"
      },
      "source": [
        "## Thank You"
      ]
    },
    {
      "cell_type": "code",
      "execution_count": null,
      "metadata": {},
      "outputs": [],
      "source": []
    },
    {
      "cell_type": "code",
      "execution_count": null,
      "metadata": {},
      "outputs": [],
      "source": []
    }
  ],
  "metadata": {
    "colab": {
      "include_colab_link": true,
      "provenance": []
    },
    "kernelspec": {
      "display_name": "Python 3",
      "name": "python3"
    },
    "language_info": {
      "codemirror_mode": {
        "name": "ipython",
        "version": 3
      },
      "file_extension": ".py",
      "mimetype": "text/x-python",
      "name": "python",
      "nbconvert_exporter": "python",
      "pygments_lexer": "ipython3",
      "version": "3.13.2"
    }
  },
  "nbformat": 4,
  "nbformat_minor": 0
}
