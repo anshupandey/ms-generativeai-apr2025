{
  "cells": [
    {
      "cell_type": "markdown",
      "metadata": {
        "id": "view-in-github",
        "colab_type": "text"
      },
      "source": [
        "<a href=\"https://colab.research.google.com/github/anshupandey/ms-generativeai-apr2025/blob/main/code15_RAG_chain_and_agent.ipynb\" target=\"_parent\"><img src=\"https://colab.research.google.com/assets/colab-badge.svg\" alt=\"Open In Colab\"/></a>"
      ]
    },
    {
      "cell_type": "markdown",
      "metadata": {
        "id": "SpVgBlJNayoI"
      },
      "source": [
        "# RAG Implementation with OpenAI and LangChain"
      ]
    },
    {
      "cell_type": "code",
      "execution_count": null,
      "metadata": {
        "id": "8WsoPx3xhbdg"
      },
      "outputs": [],
      "source": []
    },
    {
      "cell_type": "code",
      "execution_count": null,
      "metadata": {
        "id": "v4HV68Erhbdg"
      },
      "outputs": [],
      "source": []
    },
    {
      "cell_type": "code",
      "execution_count": 17,
      "metadata": {
        "colab": {
          "base_uri": "https://localhost:8080/"
        },
        "id": "28d272cd-4e31-40aa-bbb4-0be0a1f49a14",
        "outputId": "f60c0cbe-4223-47fe-ebb2-955635bd9e97"
      },
      "outputs": [
        {
          "output_type": "stream",
          "name": "stdout",
          "text": [
            "\u001b[2K     \u001b[90m━━━━━━━━━━━━━━━━━━━━━━━━━━━━━━━━━━━━━━━━\u001b[0m \u001b[32m61.0/61.0 kB\u001b[0m \u001b[31m2.4 MB/s\u001b[0m eta \u001b[36m0:00:00\u001b[0m\n",
            "\u001b[2K   \u001b[90m━━━━━━━━━━━━━━━━━━━━━━━━━━━━━━━━━━━━━━━━\u001b[0m \u001b[32m611.1/611.1 kB\u001b[0m \u001b[31m11.2 MB/s\u001b[0m eta \u001b[36m0:00:00\u001b[0m\n",
            "\u001b[2K   \u001b[90m━━━━━━━━━━━━━━━━━━━━━━━━━━━━━━━━━━━━━━━━\u001b[0m \u001b[32m18.3/18.3 MB\u001b[0m \u001b[31m53.9 MB/s\u001b[0m eta \u001b[36m0:00:00\u001b[0m\n",
            "\u001b[?25h"
          ]
        }
      ],
      "source": [
        "!pip install langchain-community langchainhub langchain-openai langchain-chroma langchain langchain-experimental langgraph --quiet"
      ]
    },
    {
      "cell_type": "code",
      "execution_count": 18,
      "metadata": {
        "id": "bLonIlavDBci"
      },
      "outputs": [],
      "source": [
        "!pip install pypdf faiss-cpu --quiet"
      ]
    },
    {
      "cell_type": "code",
      "execution_count": 12,
      "metadata": {
        "id": "Ja6U3t6abVpU"
      },
      "outputs": [],
      "source": [
        "import os\n",
        "embedding_model_name = \"text-embedding-ada-002\"\n",
        "model_name = \"gpt-4o\""
      ]
    },
    {
      "cell_type": "code",
      "execution_count": 4,
      "metadata": {
        "id": "MGhs4RN7vgXG"
      },
      "outputs": [],
      "source": [
        "doc_paths = [\"https://www.morningstar.com/content/dam/marketing/shared/research/methodology/771945_Morningstar_Rating_for_Funds_Methodology.pdf\",\n",
        "             \"https://www.morningstar.in/docs/methodology/CategoryDefinitionsIndiaV3.pdf\",\n",
        "             \"https://s21.q4cdn.com/198919461/files/doc_downloads/press_kits/2016/Morningstar-Sustainable-Investing-Handbook.pdf\"]"
      ]
    },
    {
      "cell_type": "code",
      "execution_count": 5,
      "metadata": {
        "id": "nhl29sxXD085"
      },
      "outputs": [],
      "source": [
        "from langchain_community.document_loaders import PyPDFLoader\n",
        "from langchain.text_splitter import RecursiveCharacterTextSplitter\n",
        "\n",
        "loaders = [PyPDFLoader(pdf, extract_images=False) for pdf in doc_paths]\n",
        "\n",
        "docs = []\n",
        "\n",
        "for loader in loaders:\n",
        "    doc = loader.load()\n",
        "    docs.extend(doc)"
      ]
    },
    {
      "cell_type": "code",
      "execution_count": 6,
      "metadata": {
        "colab": {
          "base_uri": "https://localhost:8080/"
        },
        "id": "plYaZJcrwZrd",
        "outputId": "58bdf924-0963-4fa6-a5b2-d200bec73820"
      },
      "outputs": [
        {
          "output_type": "execute_result",
          "data": {
            "text/plain": [
              "46"
            ]
          },
          "metadata": {},
          "execution_count": 6
        }
      ],
      "source": [
        "len(docs)"
      ]
    },
    {
      "cell_type": "code",
      "execution_count": 7,
      "metadata": {
        "colab": {
          "base_uri": "https://localhost:8080/"
        },
        "id": "HVLYgpziwdKD",
        "outputId": "01ff68ea-6fb8-4b97-e8be-16668d4b30e8"
      },
      "outputs": [
        {
          "output_type": "execute_result",
          "data": {
            "text/plain": [
              "45"
            ]
          },
          "metadata": {},
          "execution_count": 7
        }
      ],
      "source": [
        "# drop pages which have less than 100 characters (e.g. header pages, empty separater pages)\n",
        "docs = [doc for doc in docs if len(doc.page_content.strip())>100]\n",
        "len(docs)"
      ]
    },
    {
      "cell_type": "code",
      "execution_count": 8,
      "metadata": {
        "colab": {
          "base_uri": "https://localhost:8080/"
        },
        "id": "msEaKLKqwiOE",
        "outputId": "251b74cf-9c5e-44f4-be67-fd3fa69a82c3"
      },
      "outputs": [
        {
          "output_type": "execute_result",
          "data": {
            "text/plain": [
              "2709.4222222222224"
            ]
          },
          "metadata": {},
          "execution_count": 8
        }
      ],
      "source": [
        "# FOr all remaining document, checking the average characters count\n",
        "sum(len(doc.page_content) for doc in docs)/len(docs)"
      ]
    },
    {
      "cell_type": "code",
      "execution_count": 9,
      "metadata": {
        "colab": {
          "base_uri": "https://localhost:8080/"
        },
        "id": "qM6hV4DjwkIe",
        "outputId": "8a98c35d-ecf8-494c-f50f-eec98b5cd643"
      },
      "outputs": [
        {
          "output_type": "execute_result",
          "data": {
            "text/plain": [
              "53"
            ]
          },
          "metadata": {},
          "execution_count": 9
        }
      ],
      "source": [
        "# split the documents(each pdf page as one document) , into multiple so that at max there are 3500 characters in one document, with overlap of 500 characters while splitting\n",
        "text_splitter = RecursiveCharacterTextSplitter(chunk_size=3500, chunk_overlap=500)\n",
        "splits = text_splitter.split_documents(docs)\n",
        "len(splits)"
      ]
    },
    {
      "cell_type": "code",
      "execution_count": 10,
      "metadata": {
        "colab": {
          "base_uri": "https://localhost:8080/"
        },
        "id": "YpYTraoSwmUj",
        "outputId": "ce1d0df1-b041-4cf3-9dea-b443b8211d07"
      },
      "outputs": [
        {
          "output_type": "stream",
          "name": "stdout",
          "text": [
            "3\n",
            "3\n",
            "3\n",
            "©2021 Morningstar, Inc. All rights reserved. The information in this document is the property of Morningstar, Inc. Reproduction or transcription by any means, in whole or in part, without the prior written \n",
            "consent of Morningstar, Inc., is prohibited.\n",
            " \n",
            "The Morningstar RatingTM for Funds    August 2021Page 2 of 21\n",
            "captured by standard deviation, as would be the case if excess return were normally or lognormally \n",
            "distributed, which is not always the case. Also, standard deviation measures variation both above \n",
            "and below the mean equally. But investors are generally risk-averse and dislike downside variation \n",
            "more than upside variation. Morningstar gives more weight to downside variation when calculating \n",
            "Morningstar Risk-Adjusted Return and does not make any assumptions about the distribution of \n",
            "excess returns.\n",
            "The other commonly accepted meaning of “risk-adjusted” is based on assumed investor preferences. \n",
            "Under this approach, higher return is “good” and higher risk is “bad” under all circumstances, \n",
            "without regard to how these two outcomes are combined. Hence, when grading funds, return \n",
            "should be rewarded and risk penalized in all cases. The Morningstar Risk-Adjusted Return measure \n",
            "described in this document has this property.\n",
            "This document discusses the Morningstar Category as the basis for the rating, and it describes the \n",
            "methodology for calculating risk-adjusted return and the Morningstar Rating. Morningstar calculates \n",
            "ratings at the end of each month.\n",
            "Morningstar Categories\n",
            "Category Peer Groups\n",
            "Morningstar uses the Morningstar Category as the primary peer group for a number of calculations, \n",
            "including percentile ranks, fund-versus-category-average comparisons, and the Morningstar Rating. \n",
            "The Morningstar Rating compares funds’ risk-adjusted historical returns. Its usefulness depends, in \n",
            "part, on which funds are compared with others. \n",
            "It can be assumed that the returns of major asset classes (domestic equities, foreign equities, \n",
            "domestic bonds, and so on) will, over lengthy periods of time, be commensurate with their risk. \n",
            "However, asset class relative returns may not reflect relative risk over ordinary investor time \n",
            "horizons. For instance, in a declining interest-rate environment, investment-grade bond returns can \n",
            "exceed equity returns despite the higher long-term risk of equities; such a situation might continue \n",
            "for months or even years. Under these circumstances many bond funds outperform equity funds for \n",
            "reasons unrelated to the skills of the fund managers.\n",
            "A general principle that applies to the calculation of fund star ratings follows from this fact; that \n",
            "is, the relative star ratings of two funds should be affected more by manager skill than by market \n",
            "circumstances or events that lie beyond the fund managers’ control. \n",
            "Another general principle is that peer groups should reflect the investment opportunities for \n",
            "investors. So, categories are defined and funds are rated within each of the major markets around \n",
            "the world. Morningstar supports different category schemes for different markets based on the \n",
            "investment needs and perspectives of local investors. For example, Morningstar rates high-yield\n"
          ]
        }
      ],
      "source": [
        "print(splits[1].page_content)"
      ]
    },
    {
      "cell_type": "code",
      "execution_count": 13,
      "metadata": {
        "id": "l2B32z8TcWoU"
      },
      "outputs": [],
      "source": [
        "from langchain_openai import OpenAIEmbeddings\n",
        "embeddings = OpenAIEmbeddings(model=\"text-embedding-3-small\")"
      ]
    },
    {
      "cell_type": "code",
      "execution_count": 14,
      "metadata": {
        "id": "gbSAbl22wopB"
      },
      "outputs": [],
      "source": [
        "# initializng the vector store using CHromaDB\n",
        "#from langchain_community.vectorstores import FAISS\n",
        "#from langchain.embeddings import HuggingFaceBgeEmbeddings\n",
        "#embedding_model_name = \"BAAI/bge-large-en-v1.5\"\n",
        "#embeddings = HuggingFaceBgeEmbeddings(model_name=embedding_model_name,)"
      ]
    },
    {
      "cell_type": "code",
      "execution_count": 15,
      "metadata": {
        "id": "x_fSezc1hbdq"
      },
      "outputs": [],
      "source": [
        "from langchain_community.vectorstores import FAISS\n",
        "# Using embedding model, to embed documents to vector and store to a vector db (Inmemory vectorDB - FAISS)\n",
        "vectorstore = FAISS.from_documents(documents=splits, embedding=embeddings)\n",
        "\n",
        "# using vector db object to initialize a retriever object - to perform vector search/retrieval\n",
        "retriever = vectorstore.as_retriever(search_type=\"similarity\", search_kwargs={\"k\": 2})"
      ]
    },
    {
      "cell_type": "code",
      "execution_count": 19,
      "metadata": {
        "id": "VLwnR76SMPsH"
      },
      "outputs": [],
      "source": [
        "from langchain_chroma import Chroma\n",
        "vectorstore = Chroma.from_documents(documents=splits, embedding=embeddings)\n",
        "\n",
        "# using vector db object to initialize a retriever object - to perform vector search/retrieval\n",
        "retriever = vectorstore.as_retriever(search_type=\"similarity\", search_kwargs={\"k\": 2})"
      ]
    },
    {
      "cell_type": "code",
      "execution_count": 20,
      "metadata": {
        "colab": {
          "base_uri": "https://localhost:8080/"
        },
        "id": "mfJHg61Uw6BP",
        "outputId": "c3c22959-f88a-4291-80a3-e2ea4a7ffd1e"
      },
      "outputs": [
        {
          "output_type": "execute_result",
          "data": {
            "text/plain": [
              "2"
            ]
          },
          "metadata": {},
          "execution_count": 20
        }
      ],
      "source": [
        "retrieved_docs = retriever.invoke(\"What is Large Cap equity fund\")\n",
        "len(retrieved_docs)"
      ]
    },
    {
      "cell_type": "code",
      "execution_count": 21,
      "metadata": {
        "colab": {
          "base_uri": "https://localhost:8080/"
        },
        "id": "DNIGp-p9w6BV",
        "outputId": "1d0d0618-e5a8-4e76-9388-3ee46ba1af15"
      },
      "outputs": [
        {
          "output_type": "stream",
          "name": "stdout",
          "text": [
            "? \n",
            " \n",
            " \n",
            " \n",
            " \n",
            " \n",
            " \n",
            " \n",
            " \n",
            " \n",
            " \n",
            " \n",
            "Categor y Definitions  \n",
            "India \n",
            "Equity  \n",
            " \n",
            "Large-Cap \n",
            "Large-Cap funds primarily consist of stocks which are the Top 100 stocks by full market capitalization  of \n",
            "the equity market. These funds invest at least 80% of total assets in Indian equities and the balance can \n",
            "be invested in other asset classes such as fixed income and overseas equities, among others. Funds in \n",
            "this category would invest at least 80% of their total assets in large-cap stocks. \n",
            "Morningstar Category Index: S&P BSE 100 TR \n",
            " \n",
            "Mid-Cap \n",
            "Mid-Cap funds primarily consist of stocks ranked 101st to 250th by full market capitalization of the \n",
            "equity market. These funds invest at least 65% of total assets in Indian equities, and the balance can be \n",
            "invested in other asset classes such as fixed income and overseas equities, among others. Funds in this \n",
            "category would invest at least 65% of their total assets in mid-cap stocks. \n",
            "Morningstar Category Index: S&P BSE Mid Cap TR \n",
            " \n",
            "Small-Cap \n",
            "Small-Cap funds primarily consist of stocks ranked 251st onwards by full market capitalization of the \n",
            "equity market. These funds invest at least 65% of total assets in Indian equities, and the balance can be \n",
            "invested in other asset classes such as fixed income and overseas equities, among others. Funds in this \n",
            "category would invest at least 65% of their total assets in small-cap stocks. \n",
            "Morningstar Category Index: S&P BSE Small Cap TR \n",
            " \n",
            "Flexi Cap \n",
            "Flexi Cap funds invest at least 65% of their total assets in Indian equities, and the balance can be \n",
            "invested in other asset classes such as fixed income and overseas equities, among others. These funds \n",
            "will invest into a mix of Large, Mid and small-cap stocks. \n",
            "Morningstar Category Index: S&P BSE 500 TR \n",
            " \n",
            " \n",
            " \n",
            "Morningstar Research  \n",
            "April 2021\n"
          ]
        }
      ],
      "source": [
        "print(retrieved_docs[0].page_content)"
      ]
    },
    {
      "cell_type": "code",
      "execution_count": 22,
      "metadata": {
        "colab": {
          "base_uri": "https://localhost:8080/"
        },
        "id": "6tMaR7AVw6BV",
        "outputId": "cd18d57b-ad50-408d-e417-59adf91c9ef0"
      },
      "outputs": [
        {
          "output_type": "stream",
          "name": "stdout",
          "text": [
            "©2019 Morningstar, Inc. All rights reserved. The information in this document is the property of Morningstar, Inc. Reproduction or transcription by any means, in whole or part, without  \n",
            "the prior written consent of Morningstar, Inc., is prohibited. \n",
            "Category Definitions , India  | 26 February 2021  Page 2 of 12  \n",
            "Multi- Cap \n",
            "Multi-Cap funds invest at least 75% of their total assets in Indian equities, and the balance can be \n",
            "invested in other asset classes such as fixed income and overseas equities, among others. These funds \n",
            "will invest a minimum of 25% each in Large Cap, Mid Cap and Small Cap stocks. \n",
            "Morningstar Category Index: S&P BSE 500 TR \n",
            " \n",
            " \n",
            "Large & Mid- Cap \n",
            "Large & Mid-Cap funds primarily consist of stocks which are the Top 250 stocks by full market \n",
            "capitalization of the equity market. These funds invest at least 70% of total assets in Indian equities and \n",
            "the balance can be invested in other asset classes such as fixed income and overseas equities, among \n",
            "others. Funds in this category would invest at least 35% of their total assets in large-cap stocks and  35% \n",
            "of their total assets in mid-cap stocks. \n",
            "Morningstar Category Index: S&P BSE 200 TR \n",
            " \n",
            " \n",
            "Global – Other \n",
            "Global – Other funds include those funds that invest at least 65% of total assets in instruments issued by \n",
            "overseas i.e. non-Indian companies. In addition, funds that invest at least 65% of total assets in \n",
            "exchange traded funds, fund of funds domiciled outside India are also included in this category. \n",
            "[Funds in this category do not receive a Morningstar Rating™ due to the diverse nature of the \n",
            "constituents.] \n",
            " \n",
            "ELSS (Equity Linked Saving Schemes) \n",
            "These funds are notified as ELSS by SEBI under Section 10 (23D). Investments of up to Rs 150,000 in a \n",
            "financial year in these funds are exempt from Income Tax under Section 80C of the Income Tax Act, \n",
            "1961. Investments in ELSS are subject to a lock-in of three years from the date of investment. \n",
            "Morningstar Category Index: S&P BSE 200 TR \n",
            " \n",
            "Value Funds   \n",
            "Value funds invest at least 65% of their total assets in Indian equities, and the balance can be invested in \n",
            "other asset classes such as fixed income and overseas equities, among others. These funds will \n",
            "predominantly invest in value stocks. \n",
            "Morningstar Category Index: S&P BSE 500 TR \n",
            " \n",
            "Contra Funds  \n",
            "Contra funds invest at least 65% of their total assets in Indian equities, and the balance can be invested \n",
            "in other asset classes such as fixed income and overseas equities, among others. These funds will \n",
            "predominantly invest using a contrarian investment theme. \n",
            "Morningstar Category Index: S&P BSE 500 TR\n"
          ]
        }
      ],
      "source": [
        "print(retrieved_docs[1].page_content)"
      ]
    },
    {
      "cell_type": "markdown",
      "metadata": {
        "id": "z2PHFzF5MPsJ"
      },
      "source": [
        "### Implementing RAG Chain"
      ]
    },
    {
      "cell_type": "code",
      "execution_count": 23,
      "metadata": {
        "id": "0XQpy76qMPsK"
      },
      "outputs": [],
      "source": [
        "from langchain_core.prompts import ChatPromptTemplate\n",
        "from langchain_core.runnables import RunnablePassthrough\n",
        "\n",
        "message = \"\"\"\n",
        "Answer this question using the provided context only.\n",
        "\n",
        "{question}\n",
        "\n",
        "Context:\n",
        "{context}\n",
        "\"\"\"\n",
        "\n",
        "prompt = ChatPromptTemplate.from_messages([(\"human\", message)])"
      ]
    },
    {
      "cell_type": "code",
      "execution_count": 24,
      "metadata": {
        "id": "VPQbxI8pMPsK"
      },
      "outputs": [],
      "source": [
        "from langchain_openai import ChatOpenAI\n",
        "llm = ChatOpenAI(model=\"gpt-4o-mini\")\n",
        "\n",
        "rag_chain = {\"context\": retriever, \"question\": RunnablePassthrough()} | prompt | llm\n"
      ]
    },
    {
      "cell_type": "code",
      "execution_count": 25,
      "metadata": {
        "id": "xsd3WlbdMPsK",
        "outputId": "6a92598e-b32f-41f5-a4ec-670004e300e0",
        "colab": {
          "base_uri": "https://localhost:8080/"
        }
      },
      "outputs": [
        {
          "output_type": "stream",
          "name": "stdout",
          "text": [
            "Mid-Cap funds consist of stocks ranked 101st to 250th by full market capitalization in the equity market. These funds are required to invest at least 65% of their total assets in Indian equities, with the remaining assets potentially allocated to other asset classes such as fixed income and overseas equities. The Morningstar Category Index for Mid-Cap funds is the S&P BSE Mid Cap Total Return Index.\n"
          ]
        }
      ],
      "source": [
        "response = rag_chain.invoke(\"tell me about mid cap market\")\n",
        "\n",
        "print(response.content)"
      ]
    },
    {
      "cell_type": "markdown",
      "metadata": {
        "id": "reOaDF6pMPsL"
      },
      "source": [
        "### Implementing RAG Agent"
      ]
    },
    {
      "cell_type": "markdown",
      "metadata": {
        "id": "ptscFvCNMPsL"
      },
      "source": [
        "### Creating retriever Tool"
      ]
    },
    {
      "cell_type": "code",
      "execution_count": 26,
      "metadata": {
        "id": "cYdHfXlHMPsM"
      },
      "outputs": [],
      "source": [
        "from langchain.tools.retriever import create_retriever_tool\n",
        "\n",
        "tool = create_retriever_tool(\n",
        "    retriever,\n",
        "    \"searchCapitalMarket\",\n",
        "    \"Searches and returns excerpts about trading stocks markets shares capital markets, DO not use it for any other info than that of capital market/ finance questions\",\n",
        ")\n",
        "tools = [tool,]"
      ]
    },
    {
      "cell_type": "code",
      "execution_count": 27,
      "metadata": {
        "id": "TA32x4a7MPsM"
      },
      "outputs": [],
      "source": [
        "from langchain_openai import ChatOpenAI\n",
        "llm = ChatOpenAI(model=\"gpt-4o\")\n"
      ]
    },
    {
      "cell_type": "code",
      "source": [
        "from langchain_core.messages import HumanMessage\n",
        "from langgraph.prebuilt import create_react_agent\n",
        "\n",
        "agent_executor = create_react_agent(llm, tools,) #messages_modifier=system_message\n",
        "\n",
        "response = agent_executor.invoke({\"messages\": [(\"human\", \"Hi, I am Anshu\")]})\n",
        "\n",
        "for k in response['messages']:print(k)\n"
      ],
      "metadata": {
        "colab": {
          "base_uri": "https://localhost:8080/"
        },
        "id": "ahZ7AlAD-mll",
        "outputId": "6d993a62-e0db-402d-e869-3eede6d20580"
      },
      "execution_count": 43,
      "outputs": [
        {
          "output_type": "stream",
          "name": "stdout",
          "text": [
            "content='Hi, I am Anshu' additional_kwargs={} response_metadata={} id='27cfd54a-a664-4b74-b500-b3b716aa6b25'\n",
            "content='Hello Anshu! How can I assist you today?' additional_kwargs={'refusal': None} response_metadata={'token_usage': {'completion_tokens': 13, 'prompt_tokens': 82, 'total_tokens': 95, 'completion_tokens_details': {'accepted_prediction_tokens': 0, 'audio_tokens': 0, 'reasoning_tokens': 0, 'rejected_prediction_tokens': 0}, 'prompt_tokens_details': {'audio_tokens': 0, 'cached_tokens': 0}}, 'model_name': 'gpt-4o-2024-08-06', 'system_fingerprint': 'fp_6dd05565ef', 'id': 'chatcmpl-BIXK8VsZLl9PC2FGRL3OiPHRMLZ9R', 'finish_reason': 'stop', 'logprobs': None} id='run-59afbf0e-40fb-41e3-b4ea-c831695f8c5a-0' usage_metadata={'input_tokens': 82, 'output_tokens': 13, 'total_tokens': 95, 'input_token_details': {'audio': 0, 'cache_read': 0}, 'output_token_details': {'audio': 0, 'reasoning': 0}}\n"
          ]
        }
      ]
    },
    {
      "cell_type": "code",
      "source": [
        "response = agent_executor.invoke({\"messages\": [(\"human\", \"What is large cap market?\")]})\n",
        "\n",
        "for k in response['messages']:print(k)"
      ],
      "metadata": {
        "colab": {
          "base_uri": "https://localhost:8080/"
        },
        "id": "Q-FUjJKhDhBY",
        "outputId": "d9b89dc7-1edd-4dc0-f881-99ff138f43af"
      },
      "execution_count": 44,
      "outputs": [
        {
          "output_type": "stream",
          "name": "stdout",
          "text": [
            "content='What is large cap market?' additional_kwargs={} response_metadata={} id='4ec0dcd1-257c-4a9f-86b0-8dac010f25a9'\n",
            "content='' additional_kwargs={'tool_calls': [{'id': 'call_RZu5VlutWLFfLitbQ1qbRLm3', 'function': {'arguments': '{\"query\":\"large cap market\"}', 'name': 'searchCapitalMarket'}, 'type': 'function'}], 'refusal': None} response_metadata={'token_usage': {'completion_tokens': 18, 'prompt_tokens': 82, 'total_tokens': 100, 'completion_tokens_details': {'accepted_prediction_tokens': 0, 'audio_tokens': 0, 'reasoning_tokens': 0, 'rejected_prediction_tokens': 0}, 'prompt_tokens_details': {'audio_tokens': 0, 'cached_tokens': 0}}, 'model_name': 'gpt-4o-2024-08-06', 'system_fingerprint': 'fp_6dd05565ef', 'id': 'chatcmpl-BIXK9Wvy54AnpgedHCr4tkncDkpfr', 'finish_reason': 'tool_calls', 'logprobs': None} id='run-f9c71a78-ee1a-484a-bb85-d3a2c1054531-0' tool_calls=[{'name': 'searchCapitalMarket', 'args': {'query': 'large cap market'}, 'id': 'call_RZu5VlutWLFfLitbQ1qbRLm3', 'type': 'tool_call'}] usage_metadata={'input_tokens': 82, 'output_tokens': 18, 'total_tokens': 100, 'input_token_details': {'audio': 0, 'cache_read': 0}, 'output_token_details': {'audio': 0, 'reasoning': 0}}\n",
            "content='? \\n \\n \\n \\n \\n \\n \\n \\n \\n \\n \\n \\nCategor y Definitions  \\nIndia \\nEquity  \\n \\nLarge-Cap \\nLarge-Cap funds primarily consist of stocks which are the Top 100 stocks by full market capitalization  of \\nthe equity market. These funds invest at least 80% of total assets in Indian equities and the balance can \\nbe invested in other asset classes such as fixed income and overseas equities, among others. Funds in \\nthis category would invest at least 80% of their total assets in large-cap stocks. \\nMorningstar Category Index: S&P BSE 100 TR \\n \\nMid-Cap \\nMid-Cap funds primarily consist of stocks ranked 101st to 250th by full market capitalization of the \\nequity market. These funds invest at least 65% of total assets in Indian equities, and the balance can be \\ninvested in other asset classes such as fixed income and overseas equities, among others. Funds in this \\ncategory would invest at least 65% of their total assets in mid-cap stocks. \\nMorningstar Category Index: S&P BSE Mid Cap TR \\n \\nSmall-Cap \\nSmall-Cap funds primarily consist of stocks ranked 251st onwards by full market capitalization of the \\nequity market. These funds invest at least 65% of total assets in Indian equities, and the balance can be \\ninvested in other asset classes such as fixed income and overseas equities, among others. Funds in this \\ncategory would invest at least 65% of their total assets in small-cap stocks. \\nMorningstar Category Index: S&P BSE Small Cap TR \\n \\nFlexi Cap \\nFlexi Cap funds invest at least 65% of their total assets in Indian equities, and the balance can be \\ninvested in other asset classes such as fixed income and overseas equities, among others. These funds \\nwill invest into a mix of Large, Mid and small-cap stocks. \\nMorningstar Category Index: S&P BSE 500 TR \\n \\n \\n \\nMorningstar Research  \\nApril 2021\\n\\n©2019 Morningstar, Inc. All rights reserved. The information in this document is the property of Morningstar, Inc. Reproduction or transcription by any means, in whole or part, without  \\nthe prior written consent of Morningstar, Inc., is prohibited. \\nCategory Definitions , India  | 26 February 2021  Page 2 of 12  \\nMulti- Cap \\nMulti-Cap funds invest at least 75% of their total assets in Indian equities, and the balance can be \\ninvested in other asset classes such as fixed income and overseas equities, among others. These funds \\nwill invest a minimum of 25% each in Large Cap, Mid Cap and Small Cap stocks. \\nMorningstar Category Index: S&P BSE 500 TR \\n \\n \\nLarge & Mid- Cap \\nLarge & Mid-Cap funds primarily consist of stocks which are the Top 250 stocks by full market \\ncapitalization of the equity market. These funds invest at least 70% of total assets in Indian equities and \\nthe balance can be invested in other asset classes such as fixed income and overseas equities, among \\nothers. Funds in this category would invest at least 35% of their total assets in large-cap stocks and  35% \\nof their total assets in mid-cap stocks. \\nMorningstar Category Index: S&P BSE 200 TR \\n \\n \\nGlobal – Other \\nGlobal – Other funds include those funds that invest at least 65% of total assets in instruments issued by \\noverseas i.e. non-Indian companies. In addition, funds that invest at least 65% of total assets in \\nexchange traded funds, fund of funds domiciled outside India are also included in this category. \\n[Funds in this category do not receive a Morningstar Rating™ due to the diverse nature of the \\nconstituents.] \\n \\nELSS (Equity Linked Saving Schemes) \\nThese funds are notified as ELSS by SEBI under Section 10 (23D). Investments of up to Rs 150,000 in a \\nfinancial year in these funds are exempt from Income Tax under Section 80C of the Income Tax Act, \\n1961. Investments in ELSS are subject to a lock-in of three years from the date of investment. \\nMorningstar Category Index: S&P BSE 200 TR \\n \\nValue Funds   \\nValue funds invest at least 65% of their total assets in Indian equities, and the balance can be invested in \\nother asset classes such as fixed income and overseas equities, among others. These funds will \\npredominantly invest in value stocks. \\nMorningstar Category Index: S&P BSE 500 TR \\n \\nContra Funds  \\nContra funds invest at least 65% of their total assets in Indian equities, and the balance can be invested \\nin other asset classes such as fixed income and overseas equities, among others. These funds will \\npredominantly invest using a contrarian investment theme. \\nMorningstar Category Index: S&P BSE 500 TR' name='searchCapitalMarket' id='2a637d67-61a9-469d-8b72-acf3ddd33a8a' tool_call_id='call_RZu5VlutWLFfLitbQ1qbRLm3'\n",
            "content='The large-cap market refers to stocks that are among the top 100 by full market capitalization within the equity market. These large-cap stocks are usually part of funds that invest at least 80% of their total assets in such large-cap stocks, focusing primarily on well-established, financially stable companies. In the context of India, the benchmark for this category is the S&P BSE 100 Total Return Index (TR).' additional_kwargs={'refusal': None} response_metadata={'token_usage': {'completion_tokens': 86, 'prompt_tokens': 1128, 'total_tokens': 1214, 'completion_tokens_details': {'accepted_prediction_tokens': 0, 'audio_tokens': 0, 'reasoning_tokens': 0, 'rejected_prediction_tokens': 0}, 'prompt_tokens_details': {'audio_tokens': 0, 'cached_tokens': 1024}}, 'model_name': 'gpt-4o-2024-08-06', 'system_fingerprint': 'fp_6dd05565ef', 'id': 'chatcmpl-BIXKAa2AYBHyo5poUjndwrv8OG43L', 'finish_reason': 'stop', 'logprobs': None} id='run-d203a9d0-2046-471a-beeb-0c19993edc64-0' usage_metadata={'input_tokens': 1128, 'output_tokens': 86, 'total_tokens': 1214, 'input_token_details': {'audio': 0, 'cache_read': 1024}, 'output_token_details': {'audio': 0, 'reasoning': 0}}\n"
          ]
        }
      ]
    },
    {
      "cell_type": "code",
      "execution_count": 46,
      "metadata": {
        "id": "z4hBtdV67QQ4",
        "colab": {
          "base_uri": "https://localhost:8080/"
        },
        "outputId": "dd4b6067-49d4-4799-db92-f508b149f41d"
      },
      "outputs": [
        {
          "output_type": "stream",
          "name": "stdout",
          "text": [
            "{'agent': {'messages': [AIMessage(content='', additional_kwargs={'tool_calls': [{'id': 'call_C4cmhzyyRbmeCvAoFNdSSgNy', 'function': {'arguments': '{\"query\":\"large cap market\"}', 'name': 'searchCapitalMarket'}, 'type': 'function'}], 'refusal': None}, response_metadata={'token_usage': {'completion_tokens': 18, 'prompt_tokens': 82, 'total_tokens': 100, 'completion_tokens_details': {'accepted_prediction_tokens': 0, 'audio_tokens': 0, 'reasoning_tokens': 0, 'rejected_prediction_tokens': 0}, 'prompt_tokens_details': {'audio_tokens': 0, 'cached_tokens': 0}}, 'model_name': 'gpt-4o-2024-08-06', 'system_fingerprint': 'fp_6dd05565ef', 'id': 'chatcmpl-BIXL66011LDh3ZQ2PuztfCEE4R9t5', 'finish_reason': 'tool_calls', 'logprobs': None}, id='run-80a1c8b7-0a6f-4292-9543-113aacbbc3d7-0', tool_calls=[{'name': 'searchCapitalMarket', 'args': {'query': 'large cap market'}, 'id': 'call_C4cmhzyyRbmeCvAoFNdSSgNy', 'type': 'tool_call'}], usage_metadata={'input_tokens': 82, 'output_tokens': 18, 'total_tokens': 100, 'input_token_details': {'audio': 0, 'cache_read': 0}, 'output_token_details': {'audio': 0, 'reasoning': 0}})]}}\n",
            "----\n",
            "{'tools': {'messages': [ToolMessage(content='? \\n \\n \\n \\n \\n \\n \\n \\n \\n \\n \\n \\nCategor y Definitions  \\nIndia \\nEquity  \\n \\nLarge-Cap \\nLarge-Cap funds primarily consist of stocks which are the Top 100 stocks by full market capitalization  of \\nthe equity market. These funds invest at least 80% of total assets in Indian equities and the balance can \\nbe invested in other asset classes such as fixed income and overseas equities, among others. Funds in \\nthis category would invest at least 80% of their total assets in large-cap stocks. \\nMorningstar Category Index: S&P BSE 100 TR \\n \\nMid-Cap \\nMid-Cap funds primarily consist of stocks ranked 101st to 250th by full market capitalization of the \\nequity market. These funds invest at least 65% of total assets in Indian equities, and the balance can be \\ninvested in other asset classes such as fixed income and overseas equities, among others. Funds in this \\ncategory would invest at least 65% of their total assets in mid-cap stocks. \\nMorningstar Category Index: S&P BSE Mid Cap TR \\n \\nSmall-Cap \\nSmall-Cap funds primarily consist of stocks ranked 251st onwards by full market capitalization of the \\nequity market. These funds invest at least 65% of total assets in Indian equities, and the balance can be \\ninvested in other asset classes such as fixed income and overseas equities, among others. Funds in this \\ncategory would invest at least 65% of their total assets in small-cap stocks. \\nMorningstar Category Index: S&P BSE Small Cap TR \\n \\nFlexi Cap \\nFlexi Cap funds invest at least 65% of their total assets in Indian equities, and the balance can be \\ninvested in other asset classes such as fixed income and overseas equities, among others. These funds \\nwill invest into a mix of Large, Mid and small-cap stocks. \\nMorningstar Category Index: S&P BSE 500 TR \\n \\n \\n \\nMorningstar Research  \\nApril 2021\\n\\n©2019 Morningstar, Inc. All rights reserved. The information in this document is the property of Morningstar, Inc. Reproduction or transcription by any means, in whole or part, without  \\nthe prior written consent of Morningstar, Inc., is prohibited. \\nCategory Definitions , India  | 26 February 2021  Page 2 of 12  \\nMulti- Cap \\nMulti-Cap funds invest at least 75% of their total assets in Indian equities, and the balance can be \\ninvested in other asset classes such as fixed income and overseas equities, among others. These funds \\nwill invest a minimum of 25% each in Large Cap, Mid Cap and Small Cap stocks. \\nMorningstar Category Index: S&P BSE 500 TR \\n \\n \\nLarge & Mid- Cap \\nLarge & Mid-Cap funds primarily consist of stocks which are the Top 250 stocks by full market \\ncapitalization of the equity market. These funds invest at least 70% of total assets in Indian equities and \\nthe balance can be invested in other asset classes such as fixed income and overseas equities, among \\nothers. Funds in this category would invest at least 35% of their total assets in large-cap stocks and  35% \\nof their total assets in mid-cap stocks. \\nMorningstar Category Index: S&P BSE 200 TR \\n \\n \\nGlobal – Other \\nGlobal – Other funds include those funds that invest at least 65% of total assets in instruments issued by \\noverseas i.e. non-Indian companies. In addition, funds that invest at least 65% of total assets in \\nexchange traded funds, fund of funds domiciled outside India are also included in this category. \\n[Funds in this category do not receive a Morningstar Rating™ due to the diverse nature of the \\nconstituents.] \\n \\nELSS (Equity Linked Saving Schemes) \\nThese funds are notified as ELSS by SEBI under Section 10 (23D). Investments of up to Rs 150,000 in a \\nfinancial year in these funds are exempt from Income Tax under Section 80C of the Income Tax Act, \\n1961. Investments in ELSS are subject to a lock-in of three years from the date of investment. \\nMorningstar Category Index: S&P BSE 200 TR \\n \\nValue Funds   \\nValue funds invest at least 65% of their total assets in Indian equities, and the balance can be invested in \\nother asset classes such as fixed income and overseas equities, among others. These funds will \\npredominantly invest in value stocks. \\nMorningstar Category Index: S&P BSE 500 TR \\n \\nContra Funds  \\nContra funds invest at least 65% of their total assets in Indian equities, and the balance can be invested \\nin other asset classes such as fixed income and overseas equities, among others. These funds will \\npredominantly invest using a contrarian investment theme. \\nMorningstar Category Index: S&P BSE 500 TR', name='searchCapitalMarket', id='f9a8c9a4-a01c-4e2a-b555-d28dd07d568a', tool_call_id='call_C4cmhzyyRbmeCvAoFNdSSgNy')]}}\n",
            "----\n",
            "{'agent': {'messages': [AIMessage(content='The large-cap market refers to funds that primarily consist of the top 100 stocks by full market capitalization in the equity market. Large-cap funds invest at least 80% of their total assets in these large-cap stocks, which are typically associated with well-established companies with a high market capitalization. These companies are generally considered to be more stable and less risky compared to smaller companies. In the context of Indian equities, these funds may also allocate a portion of their assets to other classes such as fixed income and overseas equities.', additional_kwargs={'refusal': None}, response_metadata={'token_usage': {'completion_tokens': 105, 'prompt_tokens': 1128, 'total_tokens': 1233, 'completion_tokens_details': {'accepted_prediction_tokens': 0, 'audio_tokens': 0, 'reasoning_tokens': 0, 'rejected_prediction_tokens': 0}, 'prompt_tokens_details': {'audio_tokens': 0, 'cached_tokens': 1024}}, 'model_name': 'gpt-4o-2024-08-06', 'system_fingerprint': 'fp_6dd05565ef', 'id': 'chatcmpl-BIXL8q8YFI4T0tJz55P8WSlRBq0cp', 'finish_reason': 'stop', 'logprobs': None}, id='run-17f3c6d5-cac4-45f1-81f6-e3b5cb26e56c-0', usage_metadata={'input_tokens': 1128, 'output_tokens': 105, 'total_tokens': 1233, 'input_token_details': {'audio': 0, 'cache_read': 1024}, 'output_token_details': {'audio': 0, 'reasoning': 0}})]}}\n",
            "----\n"
          ]
        }
      ],
      "source": [
        "for s in agent_executor.stream(\n",
        "    {\"messages\": [HumanMessage(content=\"What is large cap market?\")]}\n",
        "):\n",
        "    print(s)\n",
        "    print(\"----\")"
      ]
    },
    {
      "cell_type": "code",
      "execution_count": null,
      "metadata": {
        "id": "UoumLqEn7QNf"
      },
      "outputs": [],
      "source": []
    },
    {
      "cell_type": "code",
      "execution_count": null,
      "metadata": {
        "id": "X5rhhNSE7Q50"
      },
      "outputs": [],
      "source": []
    }
  ],
  "metadata": {
    "colab": {
      "provenance": [],
      "include_colab_link": true
    },
    "kernelspec": {
      "display_name": "base",
      "language": "python",
      "name": "python3"
    },
    "language_info": {
      "codemirror_mode": {
        "name": "ipython",
        "version": 3
      },
      "file_extension": ".py",
      "mimetype": "text/x-python",
      "name": "python",
      "nbconvert_exporter": "python",
      "pygments_lexer": "ipython3",
      "version": "3.10.9"
    }
  },
  "nbformat": 4,
  "nbformat_minor": 0
}