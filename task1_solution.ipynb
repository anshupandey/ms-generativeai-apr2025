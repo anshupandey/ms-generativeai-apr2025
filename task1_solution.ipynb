{
 "cells": [
  {
   "cell_type": "code",
   "execution_count": 5,
   "metadata": {},
   "outputs": [],
   "source": [
    "from openai import OpenAI\n",
    "import re\n",
    "client = OpenAI()"
   ]
  },
  {
   "cell_type": "code",
   "execution_count": 6,
   "metadata": {},
   "outputs": [],
   "source": [
    "def clean_response(text):\n",
    "   text = re.sub(\"```python\",\"\",text) \n",
    "   text = re.sub(\"```\",\"\",text)\n",
    "   return text.strip()"
   ]
  },
  {
   "cell_type": "code",
   "execution_count": 7,
   "metadata": {},
   "outputs": [],
   "source": [
    "def code_commentor(input_file):\n",
    "    # step 1: load the content file\n",
    "\n",
    "    with open(input_file) as file:\n",
    "        code = file.read()\n",
    "\n",
    "    # step 2: get code with comments and doc\n",
    "\n",
    "    prompt = f\"\"\" you are an expert programmer, code reviewer and commentor.\n",
    "    you need to read the below code in triple backticks and add comments and docstring\n",
    "    Do not modify the code or logic, only add comments and doc string.\n",
    "    Only provide code as output, do not add any additional text or explanation\n",
    "    Code:\n",
    "    ```{code}``\n",
    "    \"\"\"\n",
    "    messages = [{'role':'user','content':prompt},]\n",
    "    response = client.chat.completions.create(model='gpt-4o', messages=messages, temperature=0)\n",
    "    response = response.choices[0].message.content\n",
    "    response = clean_response(response)\n",
    "\n",
    "    # step 3: export the updated code file.\n",
    "    output_file = input_file[:-3]+\"_c\"+\".py\"\n",
    "    with open(output_file,'w') as file:\n",
    "        file.write(response)\n",
    "    print(\"file successfully exported\")\n",
    "    return None\n"
   ]
  },
  {
   "cell_type": "code",
   "execution_count": 8,
   "metadata": {},
   "outputs": [
    {
     "name": "stdout",
     "output_type": "stream",
     "text": [
      "file successfully exported\n"
     ]
    }
   ],
   "source": [
    "code_commentor(\"msbom.py\")"
   ]
  },
  {
   "cell_type": "code",
   "execution_count": null,
   "metadata": {},
   "outputs": [],
   "source": []
  }
 ],
 "metadata": {
  "kernelspec": {
   "display_name": "Python 3",
   "language": "python",
   "name": "python3"
  },
  "language_info": {
   "codemirror_mode": {
    "name": "ipython",
    "version": 3
   },
   "file_extension": ".py",
   "mimetype": "text/x-python",
   "name": "python",
   "nbconvert_exporter": "python",
   "pygments_lexer": "ipython3",
   "version": "3.13.2"
  }
 },
 "nbformat": 4,
 "nbformat_minor": 2
}
