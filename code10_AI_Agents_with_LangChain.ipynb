{
  "cells": [
    {
      "cell_type": "markdown",
      "metadata": {
        "colab_type": "text",
        "id": "view-in-github"
      },
      "source": [
        "<a href=\"https://colab.research.google.com/github/anshupandey/ms-generativeai-apr2025/blob/main/code10_AI_Agents_with_LangChain.ipynb\" target=\"_parent\"><img src=\"https://colab.research.google.com/assets/colab-badge.svg\" alt=\"Open In Colab\"/></a>"
      ]
    },
    {
      "cell_type": "markdown",
      "metadata": {
        "id": "jQUfh4Aqtf5E"
      },
      "source": [
        "# Understanding LangChain Agents and Chains"
      ]
    },
    {
      "cell_type": "markdown",
      "metadata": {
        "id": "kEpb9rD2tmhf"
      },
      "source": [
        "## Chains\n",
        "\n",
        "Chains refer to sequences of calls - whether to an LLM, a tool, or a data preprocessing step. The primary supported way to do this is with LCEL.\n",
        "\n",
        "## Agents\n",
        "\n",
        "Agents can be thought of as the chain responsible for deciding what step to take next. This is usually powered by a language model, a prompt, and an output parser.\n",
        "\n",
        "Different agents have different prompting styles for reasoning, different ways of encoding inputs, and different ways of parsing the output. For a full list of built-in agents see agent types. You can also easily b\n",
        "\n",
        "\n",
        "## Chains v/s Agents\n",
        "\n",
        "The core idea of agents is to use a language model to choose a sequence of actions to take. In chains, a sequence of actions is hardcoded (in code). In agents, a language model is used as a reasoning engine to determine which actions to take and in which order.\n",
        "\n",
        "\n"
      ]
    },
    {
      "cell_type": "code",
      "execution_count": null,
      "metadata": {
        "id": "e03Er2UuFjY9"
      },
      "outputs": [],
      "source": [
        "# set environment variable: TAVILY_API_KEY=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"
      ]
    },
    {
      "cell_type": "code",
      "execution_count": 1,
      "metadata": {
        "colab": {
          "base_uri": "https://localhost:8080/"
        },
        "id": "jLDTOetMVUxG",
        "outputId": "ce5507d4-0724-43fc-b6c5-a0cf7bd66469"
      },
      "outputs": [],
      "source": [
        "# Installing necessary libraries\n",
        "!pip install langchain-openai langchain langchain-core langchain-community --quiet\n",
        "!pip install httpx langchain-experimental --quiet\n",
        "!pip install openai google-search-results tiktoken wikipedia pyowm --quiet"
      ]
    },
    {
      "cell_type": "code",
      "execution_count": 2,
      "metadata": {
        "id": "zXTTa9eAP8UF"
      },
      "outputs": [],
      "source": [
        "import os\n",
        "os.environ[\"OPENWEATHERMAP_API_KEY\"] = os.environ['OWM']\n",
        "model_name=\"gpt-4o\""
      ]
    },
    {
      "cell_type": "markdown",
      "metadata": {
        "id": "bf2mcCyktE_n"
      },
      "source": [
        "# LangChain AI Agents\n",
        "\n",
        "The core idea of agents is to use a language model to choose a sequence of actions to take. In chains, a sequence of actions is hardcoded (in code). In agents, a language model is used as a reasoning engine to determine which actions to take and in which order.\n",
        "\n"
      ]
    },
    {
      "cell_type": "code",
      "execution_count": 3,
      "metadata": {
        "id": "jbllamVrVenI"
      },
      "outputs": [],
      "source": [
        "# Importing necessary modules for the agent\n",
        "from langchain.agents import load_tools      # Imports the load_tools function for loading various tools in the langchain package\n",
        "from langchain_openai import ChatOpenAI # Imports the ChatOpenAI class to interact with OpenAI's models"
      ]
    },
    {
      "cell_type": "code",
      "execution_count": 27,
      "metadata": {
        "id": "TX4vDjJIVhLQ",
        "outputId": "e1d80b58-bd78-4a4c-84e3-8f1a4fec7893"
      },
      "outputs": [],
      "source": [
        "# Initializing a Language Model (LLM) instance\n",
        "model = ChatOpenAI(model=model_name,\n",
        "                temperature=0,seed=1)"
      ]
    },
    {
      "cell_type": "code",
      "execution_count": 19,
      "metadata": {
        "colab": {
          "base_uri": "https://localhost:8080/"
        },
        "id": "q9J3WmWNVjvX",
        "outputId": "6bc8c049-e250-429c-cfb3-b33f19f7bac1"
      },
      "outputs": [
        {
          "name": "stdout",
          "output_type": "stream",
          "text": [
            "[{'title': 'Weather in San Francisco', 'url': 'https://www.weatherapi.com/', 'content': \"{'location': {'name': 'San Francisco', 'region': 'California', 'country': 'United States of America', 'lat': 37.775, 'lon': -122.4183, 'tz_id': 'America/Los_Angeles', 'localtime_epoch': 1743743565, 'localtime': '2025-04-03 22:12'}, 'current': {'last_updated_epoch': 1743742800, 'last_updated': '2025-04-03 22:00', 'temp_c': 12.8, 'temp_f': 55.0, 'is_day': 0, 'condition': {'text': 'Clear', 'icon': '//cdn.weatherapi.com/weather/64x64/night/113.png', 'code': 1000}, 'wind_mph': 5.4, 'wind_kph': 8.6, 'wind_degree': 284, 'wind_dir': 'WNW', 'pressure_mb': 1018.0, 'pressure_in': 30.06, 'precip_mm': 0.0, 'precip_in': 0.0, 'humidity': 62, 'cloud': 0, 'feelslike_c': 12.2, 'feelslike_f': 53.9, 'windchill_c': 11.1, 'windchill_f': 52.0, 'heatindex_c': 11.7, 'heatindex_f': 53.0, 'dewpoint_c': 8.8, 'dewpoint_f': 47.9, 'vis_km': 16.0, 'vis_miles': 9.0, 'uv': 0.0, 'gust_mph': 8.8, 'gust_kph': 14.2}}\", 'score': 0.95068}, {'title': 'Friday, April 4, 2025. San Francisco, CA - Weather Forecast', 'url': 'https://weathershogun.com/weather/usa/ca/san-francisco/480/april/2025-04-04', 'content': 'San Francisco, California Weather: Friday, April 4, 2025. Cloudy weather, overcast skies with clouds. Day 64°. Night 50°. Precipitation 0 %.', 'score': 0.9387167}]\n"
          ]
        }
      ],
      "source": [
        "from langchain_community.tools.tavily_search import TavilySearchResults\n",
        "\n",
        "search = TavilySearchResults(max_results=2)\n",
        "search_results = search.invoke(\"what is the weather in SF\")\n",
        "print(search_results)\n"
      ]
    },
    {
      "cell_type": "code",
      "execution_count": 20,
      "metadata": {
        "id": "mwvkdURLM19G"
      },
      "outputs": [],
      "source": [
        "# If we want, we can create other tools.\n",
        "# Once we have all the tools we want, we can put them in a list that we will reference later.\n",
        "tools = [search]"
      ]
    },
    {
      "cell_type": "code",
      "execution_count": 21,
      "metadata": {},
      "outputs": [
        {
          "name": "stdout",
          "output_type": "stream",
          "text": [
            "tavily_search_results_json\n",
            "A search engine optimized for comprehensive, accurate, and trusted results. Useful for when you need to answer questions about current events. Input should be a search query.\n",
            "{'query': {'description': 'search query to look up', 'title': 'Query', 'type': 'string'}}\n"
          ]
        }
      ],
      "source": [
        "print(search.name)\n",
        "print(search.description)\n",
        "print(search.args)"
      ]
    },
    {
      "cell_type": "code",
      "execution_count": 28,
      "metadata": {
        "id": "2u8QNalQM19G"
      },
      "outputs": [],
      "source": [
        "model_with_tools = model.bind_tools(tools)"
      ]
    },
    {
      "cell_type": "code",
      "execution_count": 29,
      "metadata": {
        "colab": {
          "base_uri": "https://localhost:8080/"
        },
        "id": "btd4RosuM19G",
        "outputId": "68b20ee8-a6a3-4126-f773-86db297c91b3"
      },
      "outputs": [
        {
          "name": "stdout",
          "output_type": "stream",
          "text": [
            "ContentString: Hello! How can I assist you today?\n",
            "ToolCalls: []\n"
          ]
        }
      ],
      "source": [
        "from langchain_core.messages import HumanMessage\n",
        "\n",
        "response = model_with_tools.invoke([HumanMessage(content=\"Hi!\")])\n",
        "\n",
        "print(f\"ContentString: {response.content}\")\n",
        "print(f\"ToolCalls: {response.tool_calls}\")"
      ]
    },
    {
      "cell_type": "code",
      "execution_count": 30,
      "metadata": {
        "colab": {
          "base_uri": "https://localhost:8080/"
        },
        "id": "We530IzmM19H",
        "outputId": "0dc3729a-ad3c-4a06-ec37-d4e98ad5d94a"
      },
      "outputs": [
        {
          "name": "stdout",
          "output_type": "stream",
          "text": [
            "ContentString: \n",
            "ToolCalls: [{'name': 'tavily_search_results_json', 'args': {'query': 'current weather in San Francisco'}, 'id': 'call_w4kGHTnm84hE3Z7injpwJPUt', 'type': 'tool_call'}]\n"
          ]
        }
      ],
      "source": [
        "response = model_with_tools.invoke([HumanMessage(content=\"What's the weather in SF?\")])\n",
        "\n",
        "print(f\"ContentString: {response.content}\")\n",
        "print(f\"ToolCalls: {response.tool_calls}\")"
      ]
    },
    {
      "cell_type": "markdown",
      "metadata": {
        "id": "MwV8F768M19H"
      },
      "source": [
        "### Implementing Agent with LangChain"
      ]
    },
    {
      "cell_type": "code",
      "execution_count": 31,
      "metadata": {
        "colab": {
          "base_uri": "https://localhost:8080/"
        },
        "id": "A0fOgzSWM19H",
        "outputId": "8ef23892-e0d7-44e3-88b7-5b5ab3527186"
      },
      "outputs": [
        {
          "data": {
            "text/plain": [
              "ChatPromptTemplate(input_variables=['input'], optional_variables=['agent_scratchpad'], input_types={'agent_scratchpad': list[typing.Annotated[typing.Union[typing.Annotated[langchain_core.messages.ai.AIMessage, Tag(tag='ai')], typing.Annotated[langchain_core.messages.human.HumanMessage, Tag(tag='human')], typing.Annotated[langchain_core.messages.chat.ChatMessage, Tag(tag='chat')], typing.Annotated[langchain_core.messages.system.SystemMessage, Tag(tag='system')], typing.Annotated[langchain_core.messages.function.FunctionMessage, Tag(tag='function')], typing.Annotated[langchain_core.messages.tool.ToolMessage, Tag(tag='tool')], typing.Annotated[langchain_core.messages.ai.AIMessageChunk, Tag(tag='AIMessageChunk')], typing.Annotated[langchain_core.messages.human.HumanMessageChunk, Tag(tag='HumanMessageChunk')], typing.Annotated[langchain_core.messages.chat.ChatMessageChunk, Tag(tag='ChatMessageChunk')], typing.Annotated[langchain_core.messages.system.SystemMessageChunk, Tag(tag='SystemMessageChunk')], typing.Annotated[langchain_core.messages.function.FunctionMessageChunk, Tag(tag='FunctionMessageChunk')], typing.Annotated[langchain_core.messages.tool.ToolMessageChunk, Tag(tag='ToolMessageChunk')]], FieldInfo(annotation=NoneType, required=True, discriminator=Discriminator(discriminator=<function _get_type at 0x000002001AC0C0E0>, custom_error_type=None, custom_error_message=None, custom_error_context=None))]]}, partial_variables={'agent_scratchpad': []}, messages=[SystemMessagePromptTemplate(prompt=PromptTemplate(input_variables=[], input_types={}, partial_variables={}, template='You are a helpful assistant'), additional_kwargs={}), HumanMessagePromptTemplate(prompt=PromptTemplate(input_variables=['input'], input_types={}, partial_variables={}, template='{input}'), additional_kwargs={}), MessagesPlaceholder(variable_name='agent_scratchpad', optional=True)])"
            ]
          },
          "execution_count": 31,
          "metadata": {},
          "output_type": "execute_result"
        }
      ],
      "source": [
        "from langchain_core.prompts import ChatPromptTemplate\n",
        "\n",
        "prompt = ChatPromptTemplate.from_messages(\n",
        "    [\n",
        "        (\"system\", \"You are a helpful assistant\"),\n",
        "        (\"human\", \"{input}\"),\n",
        "        # Placeholders fill up a **list** of messages\n",
        "        (\"placeholder\", \"{agent_scratchpad}\"),\n",
        "    ]\n",
        ")\n",
        "prompt"
      ]
    },
    {
      "cell_type": "code",
      "execution_count": 32,
      "metadata": {
        "id": "Km5IZk69M19H"
      },
      "outputs": [],
      "source": [
        "from langchain.agents import create_tool_calling_agent\n",
        "agent = create_tool_calling_agent(model, tools, prompt)"
      ]
    },
    {
      "cell_type": "code",
      "execution_count": 33,
      "metadata": {
        "id": "6WNqZZv9M19I"
      },
      "outputs": [],
      "source": [
        "from langchain.agents import AgentExecutor\n",
        "agent_executor = AgentExecutor(agent=agent, tools=tools, verbose=True)"
      ]
    },
    {
      "cell_type": "code",
      "execution_count": 34,
      "metadata": {
        "colab": {
          "base_uri": "https://localhost:8080/"
        },
        "id": "kc72ZBMdM19I",
        "outputId": "bb91edcb-0dcd-4acc-8bb0-3153320108bd"
      },
      "outputs": [
        {
          "name": "stdout",
          "output_type": "stream",
          "text": [
            "\n",
            "\n",
            "\u001b[1m> Entering new AgentExecutor chain...\u001b[0m\n",
            "\u001b[32;1m\u001b[1;3mHello! How can I assist you today?\u001b[0m\n",
            "\n",
            "\u001b[1m> Finished chain.\u001b[0m\n"
          ]
        },
        {
          "data": {
            "text/plain": [
              "{'input': 'hi!', 'output': 'Hello! How can I assist you today?'}"
            ]
          },
          "execution_count": 34,
          "metadata": {},
          "output_type": "execute_result"
        }
      ],
      "source": [
        "agent_executor.invoke({\"input\": \"hi!\"})"
      ]
    },
    {
      "cell_type": "code",
      "execution_count": 35,
      "metadata": {
        "colab": {
          "base_uri": "https://localhost:8080/"
        },
        "id": "Bx4Sg3IWM19J",
        "outputId": "a872362c-8a5a-4780-be14-782fc41761f5"
      },
      "outputs": [
        {
          "name": "stdout",
          "output_type": "stream",
          "text": [
            "\n",
            "\n",
            "\u001b[1m> Entering new AgentExecutor chain...\u001b[0m\n",
            "\u001b[32;1m\u001b[1;3m\n",
            "Invoking: `tavily_search_results_json` with `{'query': 'current weather in Mumbai'}`\n",
            "\n",
            "\n",
            "\u001b[0m\u001b[36;1m\u001b[1;3m[{'title': 'Weather Mumbai in April 2025: Temperature & Climate', 'url': 'https://en.climate-data.org/asia/india/maharashtra/mumbai-29/t/april-4/', 'content': 'Are you planning a holiday with hopefully nice weather in Mumbai in April 2025? ... 4. April, 27 °C | 81 °F, 28 °C | 82 °F, 26 °C | 78 °F, 28 °C | 83 °F, 5.8 mm', 'score': 0.9345448}, {'title': 'Weather in Mumbai', 'url': 'https://www.weatherapi.com/', 'content': \"{'location': {'name': 'Mumbai', 'region': 'Maharashtra', 'country': 'India', 'lat': 18.975, 'lon': 72.826, 'tz_id': 'Asia/Kolkata', 'localtime_epoch': 1743744336, 'localtime': '2025-04-04 10:55'}, 'current': {'last_updated_epoch': 1743743700, 'last_updated': '2025-04-04 10:45', 'temp_c': 31.0, 'temp_f': 87.8, 'is_day': 1, 'condition': {'text': 'Mist', 'icon': '//cdn.weatherapi.com/weather/64x64/day/143.png', 'code': 1030}, 'wind_mph': 3.8, 'wind_kph': 6.1, 'wind_degree': 321, 'wind_dir': 'NW', 'pressure_mb': 1014.0, 'pressure_in': 29.94, 'precip_mm': 0.0, 'precip_in': 0.0, 'humidity': 66, 'cloud': 50, 'feelslike_c': 38.6, 'feelslike_f': 101.5, 'windchill_c': 28.7, 'windchill_f': 83.7, 'heatindex_c': 33.0, 'heatindex_f': 91.5, 'dewpoint_c': 23.8, 'dewpoint_f': 74.8, 'vis_km': 3.0, 'vis_miles': 1.0, 'uv': 5.7, 'gust_mph': 5.2, 'gust_kph': 8.4}}\", 'score': 0.9332393}]\u001b[0m\u001b[32;1m\u001b[1;3mThe current weather in Mumbai is as follows:\n",
            "\n",
            "- **Temperature**: 31.0°C (87.8°F)\n",
            "- **Condition**: Mist\n",
            "- **Wind**: 3.8 mph (6.1 kph) from the northwest\n",
            "- **Humidity**: 66%\n",
            "- **Cloud Cover**: 50%\n",
            "- **Feels Like**: 38.6°C (101.5°F)\n",
            "- **Visibility**: 3.0 km (1.0 mile)\n",
            "- **UV Index**: 5.7\n",
            "\n",
            "The weather is misty with moderate humidity and a gentle breeze.\u001b[0m\n",
            "\n",
            "\u001b[1m> Finished chain.\u001b[0m\n"
          ]
        },
        {
          "data": {
            "text/plain": [
              "{'input': \"What's the weather in Mumbai?\",\n",
              " 'output': 'The current weather in Mumbai is as follows:\\n\\n- **Temperature**: 31.0°C (87.8°F)\\n- **Condition**: Mist\\n- **Wind**: 3.8 mph (6.1 kph) from the northwest\\n- **Humidity**: 66%\\n- **Cloud Cover**: 50%\\n- **Feels Like**: 38.6°C (101.5°F)\\n- **Visibility**: 3.0 km (1.0 mile)\\n- **UV Index**: 5.7\\n\\nThe weather is misty with moderate humidity and a gentle breeze.'}"
            ]
          },
          "execution_count": 35,
          "metadata": {},
          "output_type": "execute_result"
        }
      ],
      "source": [
        "agent_executor.invoke({\"input\": \"What's the weather in Mumbai?\"})"
      ]
    },
    {
      "cell_type": "code",
      "execution_count": 36,
      "metadata": {},
      "outputs": [
        {
          "name": "stdout",
          "output_type": "stream",
          "text": [
            "\n",
            "\n",
            "\u001b[1m> Entering new AgentExecutor chain...\u001b[0m\n",
            "\u001b[32;1m\u001b[1;3m\n",
            "Invoking: `tavily_search_results_json` with `{'query': 'capital of Maldives'}`\n",
            "\n",
            "\n",
            "\u001b[0m\u001b[36;1m\u001b[1;3m[{'title': 'Capital of Maldives - Maldives Capital City | Visitor Guide', 'url': 'https://www.budgetmaldives.com/maldives/maldives-capital/', 'content': \"The Maldives capital is Male'. As the highest populated island, Male' is urbanized and is often regarded as a concrete jungle due to the buildings in the large\", 'score': 0.902687}, {'title': 'Malé - Wikipedia', 'url': 'https://en.wikipedia.org/wiki/Mal%C3%A9', 'content': \"Malé[a] is the capital and most populous city of the Maldives. With a population of 211,908 in 2022[1] within its administrative area and coterminous geographical area of 8.30 square kilometres (3.20\\xa0sq\\xa0mi), Malé is also one of the most densely populated cities in the world.[2][3] The city is geographically located in the southern edge of North Malé Atoll (Kaafu Atoll).[4] [...] AlifDhaandhooDhevvadhooGemanafushiKanduhulhudhooKolamaafushiKondeyMaamendhooNilandhooVilingiliGaafu DhaaluFares-MaathodaaFiyoareeGaddhooHoandeddhooMadaveliNadellaaRathafandhooThinadhooVaadhooGnaviyaniFuvahmulahDhadimaguDhiguvaanduDhoondiganFunaaduHoadhaduMaadhaduMaaleganMiskiymaguThe capitals of each atoll are inunderline. [...] Tourism is the largest industry in the Maldives, accounting for 28% of GDP and more than 60% of the Maldives' foreign exchange receipts. The GDP per capita expanded by 265% in the 1980s and a further 115% in the 1990s. Over 90% of government tax revenue comes from import duties and tourism-related taxes. Malé, the capital, has many tourist attractions and nearby resorts. Maldivian, the airline of the Maldives, has its head office in Malé,[25] as does the airline Villa Air.[26]\", 'score': 0.8886914}]\u001b[0m\u001b[32;1m\u001b[1;3m\n",
            "Invoking: `tavily_search_results_json` with `{'query': 'current weather in Malé Maldives'}`\n",
            "\n",
            "\n",
            "\u001b[0m\u001b[36;1m\u001b[1;3m[{'title': 'Weather in Malé, Maldives', 'url': 'https://www.weatherapi.com/', 'content': \"{'location': {'name': 'Dhidhdhoo', 'region': '', 'country': 'Maldives', 'lat': 6.8833, 'lon': 73.1, 'tz_id': 'Indian/Maldives', 'localtime_epoch': 1743744684, 'localtime': '2025-04-04 10:31'}, 'current': {'last_updated_epoch': 1743744600, 'last_updated': '2025-04-04 10:30', 'temp_c': 28.9, 'temp_f': 83.9, 'is_day': 1, 'condition': {'text': 'Partly Cloudy', 'icon': '//cdn.weatherapi.com/weather/64x64/day/116.png', 'code': 1003}, 'wind_mph': 9.2, 'wind_kph': 14.8, 'wind_degree': 4, 'wind_dir': 'N', 'pressure_mb': 1013.0, 'pressure_in': 29.92, 'precip_mm': 0.0, 'precip_in': 0.0, 'humidity': 70, 'cloud': 53, 'feelslike_c': 32.6, 'feelslike_f': 90.7, 'windchill_c': 28.9, 'windchill_f': 83.9, 'heatindex_c': 32.6, 'heatindex_f': 90.7, 'dewpoint_c': 22.9, 'dewpoint_f': 73.3, 'vis_km': 10.0, 'vis_miles': 6.0, 'uv': 8.9, 'gust_mph': 12.1, 'gust_kph': 19.5}}\", 'score': 0.9987994}, {'title': 'Weather for Male, Maldives - Time and Date', 'url': 'https://www.timeanddate.com/weather/maldives/male', 'content': 'Current weather in Male and forecast for today, tomorrow, and next 14 days. ... Apr 4, 2025 at 1:00 am. Visibility: N/A. Pressure: 29.86 \"Hg. Humidity: 79%. Dew', 'score': 0.8898454}]\u001b[0m\u001b[32;1m\u001b[1;3mThe capital of the Maldives is Malé. \n",
            "\n",
            "As for the current weather in Malé, Maldives, it is partly cloudy with a temperature of 28.9°C (83.9°F). The wind is blowing from the north at 9.2 mph (14.8 kph), and the humidity is at 70%. The weather feels like 32.6°C (90.7°F) due to the humidity.\u001b[0m\n",
            "\n",
            "\u001b[1m> Finished chain.\u001b[0m\n"
          ]
        },
        {
          "data": {
            "text/plain": [
              "{'input': \"what is capital of Maldives and what's the weather there?\",\n",
              " 'output': 'The capital of the Maldives is Malé. \\n\\nAs for the current weather in Malé, Maldives, it is partly cloudy with a temperature of 28.9°C (83.9°F). The wind is blowing from the north at 9.2 mph (14.8 kph), and the humidity is at 70%. The weather feels like 32.6°C (90.7°F) due to the humidity.'}"
            ]
          },
          "execution_count": 36,
          "metadata": {},
          "output_type": "execute_result"
        }
      ],
      "source": [
        "agent_executor.invoke({\"input\": \"what is capital of Maldives and what's the weather there?\"})"
      ]
    },
    {
      "cell_type": "markdown",
      "metadata": {
        "id": "C2FyNTupM19K"
      },
      "source": [
        "## Implementing a Multitool Agent"
      ]
    },
    {
      "cell_type": "code",
      "execution_count": 37,
      "metadata": {
        "id": "SOwm1HvWM19K"
      },
      "outputs": [],
      "source": [
        "from langchain_community.tools.tavily_search import TavilySearchResults\n",
        "from langchain_community.tools import WikipediaQueryRun\n",
        "from langchain_community.utilities import WikipediaAPIWrapper\n",
        "from langchain_core.prompts import ChatPromptTemplate\n",
        "from langchain.agents import create_tool_calling_agent, AgentExecutor\n",
        "\n",
        "\n",
        "prompt = ChatPromptTemplate.from_messages(\n",
        "    [   (\"system\", \"You are a helpful assistant\"),\n",
        "        (\"human\", \"{input}\"),\n",
        "        # Placeholders fill up a **list** of messages\n",
        "        (\"placeholder\", \"{agent_scratchpad}\"), ])\n",
        "\n",
        "search = TavilySearchResults(max_results=2)\n",
        "wikipedia = WikipediaQueryRun(api_wrapper=WikipediaAPIWrapper())\n",
        "# Create Image Gentation model Object\n",
        "\n",
        "tools = [search, wikipedia]\n",
        "\n",
        "agent = create_tool_calling_agent(model, tools, prompt)\n",
        "agent_executor = AgentExecutor(agent=agent, tools=tools, verbose=True)"
      ]
    },
    {
      "cell_type": "code",
      "execution_count": 38,
      "metadata": {
        "colab": {
          "base_uri": "https://localhost:8080/"
        },
        "id": "w-ICb50kM19K",
        "outputId": "dd381b88-0f40-4695-db40-71511ddf2595"
      },
      "outputs": [
        {
          "name": "stdout",
          "output_type": "stream",
          "text": [
            "\n",
            "\n",
            "\u001b[1m> Entering new AgentExecutor chain...\u001b[0m\n",
            "\u001b[32;1m\u001b[1;3mHello! I'm just a computer program, so I don't have feelings, but I'm here and ready to help you with any questions or information you need. How can I assist you today?\u001b[0m\n",
            "\n",
            "\u001b[1m> Finished chain.\u001b[0m\n"
          ]
        },
        {
          "data": {
            "text/plain": [
              "{'input': 'Hi, How are you?',\n",
              " 'output': \"Hello! I'm just a computer program, so I don't have feelings, but I'm here and ready to help you with any questions or information you need. How can I assist you today?\"}"
            ]
          },
          "execution_count": 38,
          "metadata": {},
          "output_type": "execute_result"
        }
      ],
      "source": [
        "agent_executor.invoke({\"input\": \"Hi, How are you?\"})"
      ]
    },
    {
      "cell_type": "code",
      "execution_count": 39,
      "metadata": {
        "colab": {
          "base_uri": "https://localhost:8080/"
        },
        "id": "3BQHpb1kM19M",
        "outputId": "2fb05266-0651-4675-dd0c-7b689f98761e"
      },
      "outputs": [
        {
          "name": "stdout",
          "output_type": "stream",
          "text": [
            "\n",
            "\n",
            "\u001b[1m> Entering new AgentExecutor chain...\u001b[0m\n",
            "\u001b[32;1m\u001b[1;3m\n",
            "Invoking: `tavily_search_results_json` with `{'query': 'current weather in Dubai'}`\n",
            "\n",
            "\n",
            "\u001b[0m\u001b[36;1m\u001b[1;3m[{'title': 'Weather in Dubai', 'url': 'https://www.weatherapi.com/', 'content': \"{'location': {'name': 'Dubai', 'region': 'Dubai', 'country': 'United Arab Emirates', 'lat': 25.2522, 'lon': 55.28, 'tz_id': 'Asia/Dubai', 'localtime_epoch': 1743744871, 'localtime': '2025-04-04 09:34'}, 'current': {'last_updated_epoch': 1743744600, 'last_updated': '2025-04-04 09:30', 'temp_c': 32.3, 'temp_f': 90.1, 'is_day': 1, 'condition': {'text': 'Sunny', 'icon': '//cdn.weatherapi.com/weather/64x64/day/113.png', 'code': 1000}, 'wind_mph': 13.6, 'wind_kph': 22.0, 'wind_degree': 198, 'wind_dir': 'SSW', 'pressure_mb': 1012.0, 'pressure_in': 29.88, 'precip_mm': 0.0, 'precip_in': 0.0, 'humidity': 16, 'cloud': 0, 'feelslike_c': 31.3, 'feelslike_f': 88.4, 'windchill_c': 29.7, 'windchill_f': 85.4, 'heatindex_c': 28.4, 'heatindex_f': 83.1, 'dewpoint_c': 9.5, 'dewpoint_f': 49.0, 'vis_km': 10.0, 'vis_miles': 6.0, 'uv': 3.6, 'gust_mph': 25.3, 'gust_kph': 40.8}}\", 'score': 0.9847979}, {'title': 'Weather Dubai in April 2025: Temperature & Climate', 'url': 'https://en.climate-data.org/asia/united-arab-emirates/dubai/dubai-705/t/april-4/', 'content': 'Are you planning a holiday with hopefully nice weather in Dubai in April 2025? Here you can find all information about the weather in Dubai in April:\\nOverview: Dubai Weather and Climate in April\\nDubai weather by month // weather averages\\nDubai weather in April // weather averages\\nCurrent temperature and weather forecast for Dubai\\nDUBAI WEATHER IN APRIL\\n    Temperature April   27.7°C | 81.8°F \\n    Precipitation / Rainfall April  4mm | 0.2 inches\\nTemperature April max.  34.3°C | 93.8°F [...] Partner-Links\\nOne click to the best Hoteldeal in Dubai\\nDUBAI WEATHER BY MONTH // WEATHER AVERAGES\\n<>\\n\\xa0   January February    March   April   May June    July    August  September   October November    December\\nAvg. Temperature °C (°F)    \\n19.4 °C\\n(67) °F\\n20.7 °C\\n(69.2) °F\\n23.3 °C\\n(74) °F\\n27.7 °C\\n(81.8) °F\\n31.8 °C\\n(89.2) °F\\n33.8 °C\\n(92.8) °F\\n35.6 °C\\n(96.1) °F\\n35.7 °C\\n(96.2) °F\\n33.2 °C\\n(91.8) °F\\n30 °C\\n(85.9) °F\\n25.5 °C\\n(77.8) °F\\n21.3 °C\\n(70.3) °F\\nMin. Temperature °C (°F)    \\n14.1 °C\\n(57.5) °F [...] 15 °C\\n(59) °F\\n17.2 °C\\n(62.9) °F\\n20.8 °C\\n(69.4) °F\\n24.4 °C\\n(76) °F\\n26.6 °C\\n(79.9) °F\\n29.2 °C\\n(84.5) °F\\n29.2 °C\\n(84.6) °F\\n26.9 °C\\n(80.4) °F\\n23.5 °C\\n(74.4) °F\\n19.7 °C\\n(67.5) °F\\n15.8 °C\\n(60.5) °F\\nMax. Temperature °C (°F)    \\n24.3 °C\\n(75.8) °F\\n26.1 °C\\n(79) °F\\n29.4 °C\\n(84.9) °F\\n34.3 °C\\n(93.8) °F\\n38.8 °C\\n(101.9) °F\\n40.8 °C\\n(105.4) °F\\n42.1 °C\\n(107.8) °F\\n42.3 °C\\n(108.1) °F\\n39.9 °C\\n(103.9) °F\\n36.3 °C\\n(97.4) °F\\n30.8 °C\\n(87.4) °F\\n26.3 °C\\n(79.3) °F\\nPrecipitation / Rainfall mm (in)    \\n17\\n(0)\\n15\\n(0)\\n16\\n(0)\\n4', 'score': 0.93497354}]\u001b[0m\u001b[32;1m\u001b[1;3mThe current weather in Dubai is sunny with a temperature of 32.3°C (90.1°F). The wind is blowing from the south-southwest at 13.6 mph (22.0 kph), and the humidity is at 16%. There is no precipitation, and the visibility is 10 km (6 miles). The UV index is 3.6, indicating moderate exposure.\u001b[0m\n",
            "\n",
            "\u001b[1m> Finished chain.\u001b[0m\n"
          ]
        },
        {
          "data": {
            "text/plain": [
              "{'input': \"What's the current weather in Dubai?\",\n",
              " 'output': 'The current weather in Dubai is sunny with a temperature of 32.3°C (90.1°F). The wind is blowing from the south-southwest at 13.6 mph (22.0 kph), and the humidity is at 16%. There is no precipitation, and the visibility is 10 km (6 miles). The UV index is 3.6, indicating moderate exposure.'}"
            ]
          },
          "execution_count": 39,
          "metadata": {},
          "output_type": "execute_result"
        }
      ],
      "source": [
        "agent_executor.invoke({\"input\": \"What's the current weather in Dubai?\"})"
      ]
    },
    {
      "cell_type": "code",
      "execution_count": 40,
      "metadata": {
        "colab": {
          "base_uri": "https://localhost:8080/"
        },
        "id": "yEPdSxxNM19N",
        "outputId": "1b756f98-6dc5-4041-ee74-29e4c769f0c7"
      },
      "outputs": [
        {
          "name": "stdout",
          "output_type": "stream",
          "text": [
            "\n",
            "\n",
            "\u001b[1m> Entering new AgentExecutor chain...\u001b[0m\n",
            "\u001b[32;1m\u001b[1;3m\n",
            "Invoking: `wikipedia` with `{'query': 'total area of the United States'}`\n",
            "\n",
            "\n",
            "\u001b[0m\u001b[33;1m\u001b[1;3mPage: List of U.S. states and territories by area\n",
            "Summary: This is a complete list of all 50 U.S. states, its federal district (Washington, D.C.) and its major territories ordered by total area, land area and water area. The water area includes inland waters, coastal waters, the Great Lakes and territorial waters. Glaciers and intermittent bodies of water are counted as land area.\n",
            "\n",
            "Page: List of largest lakes of the United States by area\n",
            "Summary: The following is a list of the 100 largest lakes of the United States by normal surface area.  The top twenty lakes in size are as listed by the National Atlas of the United States, a publication of the United States Department of the Interior.  The area given is the normal or average area of the lake. The area of some lakes fluctuates substantially.  For those lakes partially in Canada or Mexico the area given for the lake is the total area, not just the part of the lake in the United States. Of the top 100 lakes, 55 are man-made and 45 are natural. Two lakes in the top 100 are primarily salt water, and two are primarily brackish water.\n",
            "\n",
            "Page: List of countries and dependencies by area\n",
            "Summary: This is a list of the world's countries and their dependencies, ranked by total area, including land and water.\n",
            "This list includes entries that are not limited to those in the ISO 3166-1 standard, which covers sovereign states and dependent territories. All 193 member states of the United Nations plus the two observer states are given a rank number. Largely unrecognised states not in ISO 3166-1 are included in the list in ranked order. The areas of such largely unrecognised states are in most cases also included in the areas of the more widely recognised states that claim the same territory; see the notes in the \"Notes\" column for each country for clarification.\n",
            "Not included in the list are individual country claims to parts of the continent of Antarctica or entities such as the European Union that have some degree of sovereignty but do not consider themselves to be sovereign countries or dependent territories.\n",
            "This list includes three measurements of area:\n",
            "\n",
            "Total area: the sum of land and water areas within international boundaries and coastlines.\n",
            "Land area: the aggregate of all land within international boundaries and coastlines, excluding water area.\n",
            "Water area: the sum of the surface areas of all inland water bodies (lakes, reservoirs, and rivers) within international boundaries and coastlines. Coastal internal waters may be included. Territorial seas are not included unless otherwise noted. Contiguous zones and exclusive economic zones are not included.\n",
            "Total area is taken from the United Nations Statistics Division unless otherwise noted. Land and water are taken from the Food and Agriculture Organization unless otherwise noted. The CIA World Factbook is most often used when different UN departments disagree. Other sources and details for each entry may be specified in the relevant footnote.\u001b[0m\u001b[32;1m\u001b[1;3m\n",
            "Invoking: `tavily_search_results_json` with `{'query': 'total area of the United States'}`\n",
            "\n",
            "\n",
            "\u001b[0m\u001b[36;1m\u001b[1;3m[{'title': 'United States - Census Bureau Profiles Results', 'url': 'https://data.census.gov/profile?g=0100000US', 'content': 'The United States has a total area of 3,809,525 square miles, encompassing 3,532,316 square miles of land and 277,209 square miles of water, placing it among', 'score': 0.9245858}, {'title': 'All States within United - Census Data', 'url': 'https://data.census.gov/all/profiles?q=All%20States%20within%20United%20States,%20Puerto%20Rico,%20and%20the%20Island%20Areas%20South%20American%20Indian&g=010XX00US', 'content': 'The United States has a total area of 3,809,525 square miles, encompassing 3,532,316 square miles of land and 277,209 square miles of water, placing it among', 'score': 0.92343384}]\u001b[0m\u001b[32;1m\u001b[1;3mThe total area of the United States is approximately 3,809,525 square miles, which includes 3,532,316 square miles of land and 277,209 square miles of water.\u001b[0m\n",
            "\n",
            "\u001b[1m> Finished chain.\u001b[0m\n"
          ]
        },
        {
          "data": {
            "text/plain": [
              "{'input': 'what is total area of USA',\n",
              " 'output': 'The total area of the United States is approximately 3,809,525 square miles, which includes 3,532,316 square miles of land and 277,209 square miles of water.'}"
            ]
          },
          "execution_count": 40,
          "metadata": {},
          "output_type": "execute_result"
        }
      ],
      "source": [
        "agent_executor.invoke({\"input\": \"what is total area of USA\"})"
      ]
    },
    {
      "cell_type": "markdown",
      "metadata": {
        "id": "2WA4pjL2M19N"
      },
      "source": [
        "## Thank You"
      ]
    }
  ],
  "metadata": {
    "colab": {
      "include_colab_link": true,
      "provenance": []
    },
    "kernelspec": {
      "display_name": "Python 3",
      "language": "python",
      "name": "python3"
    },
    "language_info": {
      "codemirror_mode": {
        "name": "ipython",
        "version": 3
      },
      "file_extension": ".py",
      "mimetype": "text/x-python",
      "name": "python",
      "nbconvert_exporter": "python",
      "pygments_lexer": "ipython3",
      "version": "3.13.2"
    }
  },
  "nbformat": 4,
  "nbformat_minor": 0
}
