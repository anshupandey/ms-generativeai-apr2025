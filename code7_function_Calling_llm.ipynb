{
 "cells": [
  {
   "cell_type": "markdown",
   "metadata": {},
   "source": [
    "# Function / Tool Calling"
   ]
  },
  {
   "cell_type": "code",
   "execution_count": 2,
   "metadata": {},
   "outputs": [],
   "source": [
    "import os\n",
    "import requests\n",
    "import json"
   ]
  },
  {
   "cell_type": "code",
   "execution_count": null,
   "metadata": {},
   "outputs": [],
   "source": [
    "# A function to make a call to openweathermap and get current weather\n",
    "\n",
    "def get_weather(city_name):\n",
    "    owmkey=os.environ['OWM']\n",
    "    api = f\"https://api.openweathermap.org/data/2.5/weather?q={city_name}&appid={owmkey}\"\n",
    "\n",
    "    response = requests.get(api)\n",
    "    response = response.content.decode()\n",
    "    response = json.loads(response)\n",
    "    output = {\"weather\":response['weather'][0]['description'],\n",
    "              \"temperature\":response['main']['temp'],\n",
    "              \"unit\":\"kelvin\"}\n",
    "    return output"
   ]
  },
  {
   "cell_type": "code",
   "execution_count": 10,
   "metadata": {},
   "outputs": [
    {
     "data": {
      "text/plain": [
       "{'weather': 'clear sky', 'temperature': 301.14, 'unit': 'kelvin'}"
      ]
     },
     "execution_count": 10,
     "metadata": {},
     "output_type": "execute_result"
    }
   ],
   "source": [
    "get_weather(\"mumbai\")"
   ]
  },
  {
   "cell_type": "code",
   "execution_count": 44,
   "metadata": {},
   "outputs": [],
   "source": [
    "import re\n",
    "from openai import OpenAI\n",
    "client = OpenAI()\n",
    "\n",
    "def clean_response(text):\n",
    "   text = re.sub(\"```python\",\"\",text) \n",
    "   text = re.sub(\"```\",\"\",text)\n",
    "   return text.strip()\n",
    "\n",
    "def code_commentor(input_file):\n",
    "    # step 1: load the content file\n",
    "\n",
    "    with open(input_file) as file:\n",
    "        code = file.read()\n",
    "\n",
    "    # step 2: get code with comments and doc\n",
    "\n",
    "    prompt = f\"\"\" you are an expert programmer, code reviewer and commentor.\n",
    "    you need to read the below code in triple backticks and add comments and docstring\n",
    "    Do not modify the code or logic, only add comments and doc string.\n",
    "    Only provide code as output, do not add any additional text or explanation\n",
    "    Code:\n",
    "    ```{code}``\n",
    "    \"\"\"\n",
    "    messages = [{'role':'user','content':prompt},]\n",
    "    response = client.chat.completions.create(model='gpt-4o', messages=messages, temperature=0)\n",
    "    response = response.choices[0].message.content\n",
    "    response = clean_response(response)\n",
    "\n",
    "    # step 3: export the updated code file.\n",
    "    output_file = input_file[:-3]+\"_c\"+\".py\"\n",
    "    with open(output_file,'w') as file:\n",
    "        file.write(response)\n",
    "    print(\"file successfully exported\")\n",
    "    return f\"file is successfully exported after adding comment to {output_file}\"\n"
   ]
  },
  {
   "cell_type": "code",
   "execution_count": 45,
   "metadata": {},
   "outputs": [],
   "source": [
    "tools = [{\"type\":\"function\",\n",
    "          \"function\":{\n",
    "              \"name\": \"get_current_weather\",\n",
    "              \"description\":\"This function is used to get current weather information for a given city.\",\n",
    "              \"parameters\":{\n",
    "                  \"type\":\"object\",\n",
    "                  \"properties\":{\n",
    "                      \"city_name\":{\"type\":\"string\",\"description\":\"name of location/city e.g. mumbai, new york\"},\n",
    "                  }\n",
    "              },\n",
    "              \"required\":['city_name'], }},\n",
    "              {\"type\":\"function\",\n",
    "          \"function\":{\n",
    "              \"name\": \"write_code_comment_docs\",\n",
    "              \"description\":\"This function is used to add comments and docstring for a given .py file\",\n",
    "              \"parameters\":{\n",
    "                  \"type\":\"object\",\n",
    "                  \"properties\":{\n",
    "                      \"input_file\":{\"type\":\"string\",\"description\":\" name of a python file (only .py), e.g. abc.py \"},\n",
    "                  }\n",
    "              },\n",
    "              \"required\":['input_file'], }},\n",
    "              ]"
   ]
  },
  {
   "cell_type": "code",
   "execution_count": 46,
   "metadata": {},
   "outputs": [],
   "source": [
    "from openai import OpenAI\n",
    "client = OpenAI()\n",
    "def generate_response(prompt):\n",
    "    messages = [{'role':'system','content':\"you are a helpful assistant, always provide information when possible and use tool when applicable.\"},\n",
    "                {'role':'user','content':prompt},]\n",
    "    first_response = client.chat.completions.create(model='gpt-4o',messages=messages,temperature=0,\n",
    "                                                    tools=tools,tool_choice='auto')\n",
    "    print(first_response.choices[0])\n",
    "    tool_call = first_response.choices[0].message.tool_calls\n",
    "\n",
    "    if tool_call:\n",
    "        tool_map = {'get_current_weather':get_weather,\n",
    "                    'write_code_comment_docs':code_commentor}\n",
    "        messages.append(first_response.choices[0].message)\n",
    "\n",
    "        for tool in tool_call:\n",
    "            tool_name = tool.function.name\n",
    "            tool_fun = tool_map[tool_name]\n",
    "            tool_args = json.loads(tool.function.arguments)\n",
    "            tool_output = tool_fun(**tool_args)\n",
    "            messages.append({\"tool_call_id\":tool.id,\n",
    "                             \"role\":\"tool\",\n",
    "                             \"name\":tool_name,\n",
    "                             \"content\":json.dumps(tool_output)   })\n",
    "        print(messages)\n",
    "\n",
    "        second_response = client.chat.completions.create(model='gpt-4o',messages=messages,temperature=0)\n",
    "        return second_response.choices[0].message.content\n",
    "    else:\n",
    "        return first_response.choices[0].message.content"
   ]
  },
  {
   "cell_type": "code",
   "execution_count": 36,
   "metadata": {},
   "outputs": [
    {
     "name": "stdout",
     "output_type": "stream",
     "text": [
      "Choice(finish_reason='stop', index=0, logprobs=None, message=ChatCompletionMessage(content=\"Quantum computing is a type of computing that uses the principles of quantum mechanics to process information. Here's a simplified explanation:\\n\\n1. **Bits vs. Qubits**: Traditional computers use bits as the smallest unit of data, which can be either 0 or 1. Quantum computers use qubits, which can be both 0 and 1 at the same time, thanks to a property called superposition.\\n\\n2. **Superposition**: Imagine a spinning coin. While it's spinning, it's not just heads or tails; it's a mix of both. Similarly, a qubit can be in a state of 0, 1, or both simultaneously.\\n\\n3. **Entanglement**: This is a special connection between qubits. When qubits are entangled, the state of one qubit can depend on the state of another, no matter how far apart they are. It's like having two dice that always show the same number when rolled, even if they're miles apart.\\n\\n4. **Quantum Gates**: These are like the logic gates in classical computers but for qubits. They manipulate qubits through operations that take advantage of superposition and entanglement.\\n\\n5. **Parallelism**: Because of superposition, quantum computers can process a vast number of possibilities at once. This makes them potentially much faster at solving certain problems compared to classical computers.\\n\\n6. **Applications**: Quantum computing could revolutionize fields like cryptography, optimization, drug discovery, and more, by solving complex problems much faster than current computers.\\n\\nIn essence, quantum computing leverages the strange and fascinating properties of quantum mechanics to perform computations in ways that classical computers can't.\", refusal=None, role='assistant', annotations=[], audio=None, function_call=None, tool_calls=None))\n"
     ]
    },
    {
     "data": {
      "text/plain": [
       "\"Quantum computing is a type of computing that uses the principles of quantum mechanics to process information. Here's a simplified explanation:\\n\\n1. **Bits vs. Qubits**: Traditional computers use bits as the smallest unit of data, which can be either 0 or 1. Quantum computers use qubits, which can be both 0 and 1 at the same time, thanks to a property called superposition.\\n\\n2. **Superposition**: Imagine a spinning coin. While it's spinning, it's not just heads or tails; it's a mix of both. Similarly, a qubit can be in a state of 0, 1, or both simultaneously.\\n\\n3. **Entanglement**: This is a special connection between qubits. When qubits are entangled, the state of one qubit can depend on the state of another, no matter how far apart they are. It's like having two dice that always show the same number when rolled, even if they're miles apart.\\n\\n4. **Quantum Gates**: These are like the logic gates in classical computers but for qubits. They manipulate qubits through operations that take advantage of superposition and entanglement.\\n\\n5. **Parallelism**: Because of superposition, quantum computers can process a vast number of possibilities at once. This makes them potentially much faster at solving certain problems compared to classical computers.\\n\\n6. **Applications**: Quantum computing could revolutionize fields like cryptography, optimization, drug discovery, and more, by solving complex problems much faster than current computers.\\n\\nIn essence, quantum computing leverages the strange and fascinating properties of quantum mechanics to perform computations in ways that classical computers can't.\""
      ]
     },
     "execution_count": 36,
     "metadata": {},
     "output_type": "execute_result"
    }
   ],
   "source": [
    "generate_response(\"explain quantum computing in simpler terms.\")"
   ]
  },
  {
   "cell_type": "code",
   "execution_count": 37,
   "metadata": {},
   "outputs": [
    {
     "name": "stdout",
     "output_type": "stream",
     "text": [
      "Choice(finish_reason='tool_calls', index=0, logprobs=None, message=ChatCompletionMessage(content=None, refusal=None, role='assistant', annotations=[], audio=None, function_call=None, tool_calls=[ChatCompletionMessageToolCall(id='call_hDn1pgDJe7BHgAHDGEFxDUYP', function=Function(arguments='{\"city_name\": \"london\"}', name='get_current_weather'), type='function'), ChatCompletionMessageToolCall(id='call_6l3S10PqTNF4I4Z3pYoQr5Qg', function=Function(arguments='{\"city_name\": \"mumbai\"}', name='get_current_weather'), type='function')]))\n",
      "[{'role': 'user', 'content': 'How is the weather in london today and also for mumbai.'}, ChatCompletionMessage(content=None, refusal=None, role='assistant', annotations=[], audio=None, function_call=None, tool_calls=[ChatCompletionMessageToolCall(id='call_hDn1pgDJe7BHgAHDGEFxDUYP', function=Function(arguments='{\"city_name\": \"london\"}', name='get_current_weather'), type='function'), ChatCompletionMessageToolCall(id='call_6l3S10PqTNF4I4Z3pYoQr5Qg', function=Function(arguments='{\"city_name\": \"mumbai\"}', name='get_current_weather'), type='function')]), {'tool_call_id': 'call_hDn1pgDJe7BHgAHDGEFxDUYP', 'role': 'tool', 'name': 'get_current_weather', 'content': '{\"weather\": \"clear sky\", \"temperature\": 283.71, \"unit\": \"kelvin\"}'}, {'tool_call_id': 'call_6l3S10PqTNF4I4Z3pYoQr5Qg', 'role': 'tool', 'name': 'get_current_weather', 'content': '{\"weather\": \"clear sky\", \"temperature\": 301.49, \"unit\": \"kelvin\"}'}]\n"
     ]
    },
    {
     "data": {
      "text/plain": [
       "'The current weather in London is clear with a temperature of approximately 283.71 Kelvin (about 10.56°C or 51°F). In Mumbai, the weather is also clear, with a temperature of approximately 301.49 Kelvin (about 28.34°C or 83°F).'"
      ]
     },
     "execution_count": 37,
     "metadata": {},
     "output_type": "execute_result"
    }
   ],
   "source": [
    "generate_response(\"How is the weather in london today and also for mumbai.\")"
   ]
  },
  {
   "cell_type": "code",
   "execution_count": 41,
   "metadata": {},
   "outputs": [
    {
     "name": "stdout",
     "output_type": "stream",
     "text": [
      "Choice(finish_reason='tool_calls', index=0, logprobs=None, message=ChatCompletionMessage(content=None, refusal=None, role='assistant', annotations=[], audio=None, function_call=None, tool_calls=[ChatCompletionMessageToolCall(id='call_emud3JWCwvcNWjMBZkkZdqtd', function=Function(arguments='{\"city_name\":\"Jakarta\"}', name='get_current_weather'), type='function')]))\n",
      "[{'role': 'system', 'content': 'you are a helpful assistant, always provide information when possible and use tool when applicable.'}, {'role': 'user', 'content': 'Tell me about the city Jakarta, what is the weather in Jakarta today.'}, ChatCompletionMessage(content=None, refusal=None, role='assistant', annotations=[], audio=None, function_call=None, tool_calls=[ChatCompletionMessageToolCall(id='call_emud3JWCwvcNWjMBZkkZdqtd', function=Function(arguments='{\"city_name\":\"Jakarta\"}', name='get_current_weather'), type='function')]), {'tool_call_id': 'call_emud3JWCwvcNWjMBZkkZdqtd', 'role': 'tool', 'name': 'get_current_weather', 'content': '{\"weather\": \"overcast clouds\", \"temperature\": 304.91, \"unit\": \"kelvin\"}'}]\n",
      "Jakarta, the capital city of Indonesia, is a bustling metropolis known for its vibrant culture, diverse population, and significant economic influence in the region. It is located on the northwest coast of the island of Java and is the largest city in Indonesia.\n",
      "\n",
      "As for the weather today, Jakarta is experiencing overcast clouds with a temperature of approximately 304.91 Kelvin, which is about 31.76°C (89.17°F).\n"
     ]
    }
   ],
   "source": [
    "print(generate_response(\"Tell me about the city Jakarta, what is the weather in Jakarta today.\"))"
   ]
  },
  {
   "cell_type": "code",
   "execution_count": 47,
   "metadata": {},
   "outputs": [
    {
     "name": "stdout",
     "output_type": "stream",
     "text": [
      "Choice(finish_reason='tool_calls', index=0, logprobs=None, message=ChatCompletionMessage(content=None, refusal=None, role='assistant', annotations=[], audio=None, function_call=None, tool_calls=[ChatCompletionMessageToolCall(id='call_Jf5nqtomTae6P3Bh0tIaZffs', function=Function(arguments='{\"input_file\":\"msbom.py\"}', name='write_code_comment_docs'), type='function')]))\n",
      "file successfully exported\n",
      "[{'role': 'system', 'content': 'you are a helpful assistant, always provide information when possible and use tool when applicable.'}, {'role': 'user', 'content': 'can you add comments and docstrings to the python file msbom.py '}, ChatCompletionMessage(content=None, refusal=None, role='assistant', annotations=[], audio=None, function_call=None, tool_calls=[ChatCompletionMessageToolCall(id='call_Jf5nqtomTae6P3Bh0tIaZffs', function=Function(arguments='{\"input_file\":\"msbom.py\"}', name='write_code_comment_docs'), type='function')]), {'tool_call_id': 'call_Jf5nqtomTae6P3Bh0tIaZffs', 'role': 'tool', 'name': 'write_code_comment_docs', 'content': '\"file is successfully exported after adding comment to msbom_c.py\"'}]\n"
     ]
    },
    {
     "data": {
      "text/plain": [
       "'I have added comments and docstrings to the `msbom.py` file. If you have any specific questions or need further assistance with the code, feel free to ask!'"
      ]
     },
     "execution_count": 47,
     "metadata": {},
     "output_type": "execute_result"
    }
   ],
   "source": [
    "generate_response(\"can you add comments and docstrings to the python file msbom.py \")"
   ]
  },
  {
   "cell_type": "code",
   "execution_count": null,
   "metadata": {},
   "outputs": [],
   "source": []
  }
 ],
 "metadata": {
  "kernelspec": {
   "display_name": "Python 3",
   "language": "python",
   "name": "python3"
  },
  "language_info": {
   "codemirror_mode": {
    "name": "ipython",
    "version": 3
   },
   "file_extension": ".py",
   "mimetype": "text/x-python",
   "name": "python",
   "nbconvert_exporter": "python",
   "pygments_lexer": "ipython3",
   "version": "3.13.2"
  }
 },
 "nbformat": 4,
 "nbformat_minor": 2
}
