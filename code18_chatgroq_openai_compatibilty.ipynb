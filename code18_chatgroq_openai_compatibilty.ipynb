{
  "nbformat": 4,
  "nbformat_minor": 0,
  "metadata": {
    "colab": {
      "provenance": [],
      "authorship_tag": "ABX9TyNF/zj7p3x5C9JXDZx3I+bs",
      "include_colab_link": true
    },
    "kernelspec": {
      "name": "python3",
      "display_name": "Python 3"
    },
    "language_info": {
      "name": "python"
    }
  },
  "cells": [
    {
      "cell_type": "markdown",
      "metadata": {
        "id": "view-in-github",
        "colab_type": "text"
      },
      "source": [
        "<a href=\"https://colab.research.google.com/github/anshupandey/ms-generativeai-apr2025/blob/main/code18_chatgroq_openai_compatibilty.ipynb\" target=\"_parent\"><img src=\"https://colab.research.google.com/assets/colab-badge.svg\" alt=\"Open In Colab\"/></a>"
      ]
    },
    {
      "cell_type": "markdown",
      "source": [
        "# OpenAI SDK with groq\n"
      ],
      "metadata": {
        "id": "wFfJTGNaq8hg"
      }
    },
    {
      "cell_type": "code",
      "execution_count": 1,
      "metadata": {
        "id": "7gk3lOPbq76k"
      },
      "outputs": [],
      "source": [
        "api_key = \"***********\"\n",
        "# GROQ_API_KEY"
      ]
    },
    {
      "cell_type": "code",
      "source": [
        "!pip install openai --quiet\n",
        "!pip install langchain langchain-groq langchain-community --quiet"
      ],
      "metadata": {
        "colab": {
          "base_uri": "https://localhost:8080/"
        },
        "collapsed": true,
        "id": "9KofqkwjrF70",
        "outputId": "5e6d1d31-7083-4047-e7e9-9a4e44cd0668"
      },
      "execution_count": 7,
      "outputs": [
        {
          "output_type": "stream",
          "name": "stdout",
          "text": [
            "\u001b[2K   \u001b[90m━━━━━━━━━━━━━━━━━━━━━━━━━━━━━━━━━━━━━━━━\u001b[0m \u001b[32m2.5/2.5 MB\u001b[0m \u001b[31m31.1 MB/s\u001b[0m eta \u001b[36m0:00:00\u001b[0m\n",
            "\u001b[2K   \u001b[90m━━━━━━━━━━━━━━━━━━━━━━━━━━━━━━━━━━━━━━━━\u001b[0m \u001b[32m126.7/126.7 kB\u001b[0m \u001b[31m8.9 MB/s\u001b[0m eta \u001b[36m0:00:00\u001b[0m\n",
            "\u001b[2K   \u001b[90m━━━━━━━━━━━━━━━━━━━━━━━━━━━━━━━━━━━━━━━━\u001b[0m \u001b[32m50.9/50.9 kB\u001b[0m \u001b[31m3.5 MB/s\u001b[0m eta \u001b[36m0:00:00\u001b[0m\n",
            "\u001b[?25h"
          ]
        }
      ]
    },
    {
      "cell_type": "code",
      "source": [
        "from openai import OpenAI\n",
        "client = OpenAI(api_key = api_key,\n",
        "                base_url=\"https://api.groq.com/openai/v1\")"
      ],
      "metadata": {
        "id": "rEgg9XEarJJd"
      },
      "execution_count": 5,
      "outputs": []
    },
    {
      "cell_type": "code",
      "source": [
        "response = client.chat.completions.create(model='llama-3.3-70b-versatile',\n",
        "                                          messages = [{'role':'user','content':'Explain QUantum Computing in simpler terms'}])\n",
        "response.choices[0].message.content"
      ],
      "metadata": {
        "id": "DpelEwcircsd"
      },
      "execution_count": null,
      "outputs": []
    },
    {
      "cell_type": "code",
      "source": [
        "### Lnagchain\n",
        "from langchain_groq import ChatGroq\n",
        "model = ChatGroq(model='llama-3.3-70b-versatile',\n",
        "                 api_key=api_key)\n",
        "model.invoke(\"Explain Quantum Computing in Simple Terms\")"
      ],
      "metadata": {
        "colab": {
          "base_uri": "https://localhost:8080/"
        },
        "id": "lOygqu5Arym9",
        "outputId": "d6e291bc-39d0-459f-e782-863aa6275ee9"
      },
      "execution_count": 9,
      "outputs": [
        {
          "output_type": "execute_result",
          "data": {
            "text/plain": [
              "AIMessage(content='**What is Quantum Computing.**\\nQuantum computing is a new way of processing information that\\'s different from the classical computers we use today. To understand it, let\\'s break it down:\\n\\n**Classical Computers:**\\nClassical computers use \"bits\" to store and process information. A bit is either 0 or 1, like a coin that\\'s either heads or tails. These bits are used to perform calculations and operations.\\n\\n**Quantum Computers:**\\nQuantum computers use \"qubits\" (quantum bits), which are special units of information that can be both 0 and 1 at the same time. This is like a coin that\\'s both heads and tails simultaneously. Qubits can exist in multiple states, allowing them to process a vast number of possibilities simultaneously.\\n\\n**How Quantum Computing Works:**\\n\\n1. **Superposition:** Qubits can exist in multiple states (0, 1, or both) at the same time, allowing them to process many possibilities simultaneously.\\n2. **Entanglement:** Qubits can be connected in a way that lets them affect each other, even if they\\'re separated by large distances.\\n3. **Quantum Gates:** Quantum computers use quantum gates, which are the quantum equivalent of logic gates in classical computers. These gates perform operations on qubits, like rotating their state or entangling them.\\n\\n**What Makes Quantum Computing Powerful:**\\n\\n1. **Speed:** Quantum computers can solve certain problems much faster than classical computers.\\n2. **Complexity:** Quantum computers can handle complex problems that are too difficult or time-consuming for classical computers.\\n3. **Security:** Quantum computers can potentially break certain types of encryption, but they can also be used to create unbreakable encryption methods.\\n\\n**Real-World Applications:**\\n\\n1. **Cryptography:** Quantum computers can help create unbreakable encryption methods, ensuring secure communication.\\n2. **Optimization:** Quantum computers can be used to optimize complex systems, like traffic flow or financial portfolios.\\n3. **Simulation:** Quantum computers can simulate complex systems, like molecules or materials, allowing for breakthroughs in fields like medicine and materials science.\\n\\n**In Simple Terms:**\\nQuantum computing is a new way of processing information that uses special units called qubits. These qubits can exist in multiple states and be connected in a way that lets them process many possibilities simultaneously. This makes quantum computers incredibly powerful and potentially able to solve complex problems that are too difficult for classical computers.', additional_kwargs={}, response_metadata={'token_usage': {'completion_tokens': 498, 'prompt_tokens': 42, 'total_tokens': 540, 'completion_time': 1.810909091, 'prompt_time': 0.002733347, 'queue_time': 0.200799329, 'total_time': 1.813642438}, 'model_name': 'llama-3.3-70b-versatile', 'system_fingerprint': 'fp_6507bcfb6f', 'finish_reason': 'stop', 'logprobs': None}, id='run-f3d57f65-7144-4351-b337-69fd406275d5-0', usage_metadata={'input_tokens': 42, 'output_tokens': 498, 'total_tokens': 540})"
            ]
          },
          "metadata": {},
          "execution_count": 9
        }
      ]
    },
    {
      "cell_type": "code",
      "source": [],
      "metadata": {
        "id": "CCHcLw6hs1Ah"
      },
      "execution_count": null,
      "outputs": []
    }
  ]
}