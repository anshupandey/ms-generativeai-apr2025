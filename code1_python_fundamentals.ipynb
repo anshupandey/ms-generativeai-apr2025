{
 "cells": [
  {
   "cell_type": "code",
   "execution_count": 1,
   "metadata": {},
   "outputs": [
    {
     "name": "stdout",
     "output_type": "stream",
     "text": [
      "Hello World\n"
     ]
    }
   ],
   "source": [
    "print(\"Hello World\")"
   ]
  },
  {
   "cell_type": "code",
   "execution_count": 2,
   "metadata": {},
   "outputs": [
    {
     "name": "stdout",
     "output_type": "stream",
     "text": [
      "11\n"
     ]
    }
   ],
   "source": [
    "x = 5\n",
    "y = 6\n",
    "print(x+y)"
   ]
  },
  {
   "cell_type": "markdown",
   "metadata": {},
   "source": [
    "## PYthon Programming\n",
    "\n",
    "- Data Types\n",
    "    - primitive Data types: int, float, str, bool, complex\n",
    "    - Non Primitive: list, tuple, dictionary, set\n",
    "\n",
    "- Control Flow\n",
    "    - conditional statement: if else\n",
    "    - Loops: For, while\n",
    "\n",
    "- Functions\n",
    "    - user defined functions\n",
    "    - builtin functions\n",
    "- Modules and Packages\n",
    "    - modules, packages"
   ]
  },
  {
   "cell_type": "code",
   "execution_count": null,
   "metadata": {},
   "outputs": [
    {
     "name": "stdout",
     "output_type": "stream",
     "text": [
      "4\n"
     ]
    },
    {
     "data": {
      "text/plain": [
       "int"
      ]
     },
     "execution_count": 3,
     "metadata": {},
     "output_type": "execute_result"
    }
   ],
   "source": [
    "# Data Types: Primitive: int, float, str, bool, complex\n",
    "x = 4\n",
    "print(x)\n",
    "type(x)"
   ]
  },
  {
   "cell_type": "code",
   "execution_count": 4,
   "metadata": {},
   "outputs": [
    {
     "name": "stdout",
     "output_type": "stream",
     "text": [
      "4.5\n"
     ]
    },
    {
     "data": {
      "text/plain": [
       "float"
      ]
     },
     "execution_count": 4,
     "metadata": {},
     "output_type": "execute_result"
    }
   ],
   "source": [
    "y = 4.5\n",
    "print(y)\n",
    "type(y)"
   ]
  },
  {
   "cell_type": "code",
   "execution_count": 5,
   "metadata": {},
   "outputs": [
    {
     "name": "stdout",
     "output_type": "stream",
     "text": [
      "Hello from Morning Star\n"
     ]
    },
    {
     "data": {
      "text/plain": [
       "str"
      ]
     },
     "execution_count": 5,
     "metadata": {},
     "output_type": "execute_result"
    }
   ],
   "source": [
    "m = \"Hello from Morning Star\"\n",
    "print(m)\n",
    "type(m)"
   ]
  },
  {
   "cell_type": "code",
   "execution_count": 6,
   "metadata": {},
   "outputs": [
    {
     "name": "stdout",
     "output_type": "stream",
     "text": [
      "True\n"
     ]
    },
    {
     "data": {
      "text/plain": [
       "bool"
      ]
     },
     "execution_count": 6,
     "metadata": {},
     "output_type": "execute_result"
    }
   ],
   "source": [
    "k = True\n",
    "print(k)\n",
    "type(k)"
   ]
  },
  {
   "cell_type": "code",
   "execution_count": 7,
   "metadata": {},
   "outputs": [
    {
     "name": "stdout",
     "output_type": "stream",
     "text": [
      "(5+6j)\n"
     ]
    },
    {
     "data": {
      "text/plain": [
       "complex"
      ]
     },
     "execution_count": 7,
     "metadata": {},
     "output_type": "execute_result"
    }
   ],
   "source": [
    "m = 5 + 6j\n",
    "print(m)\n",
    "type(m)"
   ]
  },
  {
   "cell_type": "code",
   "execution_count": 8,
   "metadata": {},
   "outputs": [
    {
     "data": {
      "text/plain": [
       "'HELLO FROM MORNING STAR'"
      ]
     },
     "execution_count": 8,
     "metadata": {},
     "output_type": "execute_result"
    }
   ],
   "source": [
    "m = \"Hello from Morning Star\"\n",
    "m.upper()"
   ]
  },
  {
   "cell_type": "markdown",
   "metadata": {},
   "source": [
    "## Non Primitive\n",
    "### Lists\n",
    "- are used to store a collection of values\n",
    "- supports repeations, values of multiple data types\n",
    "- lists are mutable, modifable\n",
    "- can be created using square/upper brackets: []"
   ]
  },
  {
   "cell_type": "code",
   "execution_count": 9,
   "metadata": {},
   "outputs": [
    {
     "name": "stdout",
     "output_type": "stream",
     "text": [
      "[3, 4, 5, True, 'hi', 66.4]\n"
     ]
    },
    {
     "data": {
      "text/plain": [
       "list"
      ]
     },
     "execution_count": 9,
     "metadata": {},
     "output_type": "execute_result"
    }
   ],
   "source": [
    "x = [3,4,5,True,\"hi\",66.4]\n",
    "print(x)\n",
    "type(x)"
   ]
  },
  {
   "cell_type": "code",
   "execution_count": 10,
   "metadata": {},
   "outputs": [
    {
     "name": "stdout",
     "output_type": "stream",
     "text": [
      "3\n",
      "hi\n"
     ]
    }
   ],
   "source": [
    "# indexing: access individual values from a list\n",
    "# indexing: indexing starts from 0: left to right\n",
    "print(x[0])\n",
    "print(x[4])"
   ]
  },
  {
   "cell_type": "code",
   "execution_count": 11,
   "metadata": {},
   "outputs": [
    {
     "data": {
      "text/plain": [
       "6"
      ]
     },
     "execution_count": 11,
     "metadata": {},
     "output_type": "execute_result"
    }
   ],
   "source": [
    "len(x) # total number of elements in an iterable object"
   ]
  },
  {
   "cell_type": "code",
   "execution_count": 12,
   "metadata": {},
   "outputs": [
    {
     "name": "stdout",
     "output_type": "stream",
     "text": [
      "[3, 4, 5, True, 'hi', 66.4]\n"
     ]
    }
   ],
   "source": [
    "print(x)"
   ]
  },
  {
   "cell_type": "code",
   "execution_count": 13,
   "metadata": {},
   "outputs": [
    {
     "name": "stdout",
     "output_type": "stream",
     "text": [
      "[3, 4, 5]\n"
     ]
    }
   ],
   "source": [
    "# slicing: aceesing a sublist from a list\n",
    "print(x[0:3])"
   ]
  },
  {
   "cell_type": "code",
   "execution_count": 14,
   "metadata": {},
   "outputs": [
    {
     "name": "stdout",
     "output_type": "stream",
     "text": [
      "[5, True, 'hi']\n"
     ]
    }
   ],
   "source": [
    "print(x[2:5])"
   ]
  },
  {
   "cell_type": "code",
   "execution_count": 15,
   "metadata": {},
   "outputs": [
    {
     "name": "stdout",
     "output_type": "stream",
     "text": [
      "[3, 4, 5, True, 'hi', 66.4]\n"
     ]
    }
   ],
   "source": [
    "print(x)"
   ]
  },
  {
   "cell_type": "code",
   "execution_count": 16,
   "metadata": {},
   "outputs": [
    {
     "name": "stdout",
     "output_type": "stream",
     "text": [
      "66.4\n"
     ]
    }
   ],
   "source": [
    "# indexing: right to left, starts from -1\n",
    "print(x[-1])"
   ]
  },
  {
   "cell_type": "code",
   "execution_count": 17,
   "metadata": {},
   "outputs": [
    {
     "name": "stdout",
     "output_type": "stream",
     "text": [
      "[5, True, 'hi']\n"
     ]
    }
   ],
   "source": [
    "# slicing\n",
    "print(x[-4:-1])"
   ]
  },
  {
   "cell_type": "code",
   "execution_count": 18,
   "metadata": {},
   "outputs": [
    {
     "name": "stdout",
     "output_type": "stream",
     "text": [
      "[3, 4, 5, True, 'hi', 66.4, 'python']\n"
     ]
    }
   ],
   "source": [
    "# append a new value at the end of list\n",
    "x.append(\"python\")\n",
    "print(x)"
   ]
  },
  {
   "cell_type": "code",
   "execution_count": 19,
   "metadata": {},
   "outputs": [
    {
     "name": "stdout",
     "output_type": "stream",
     "text": [
      "[3, 4, False, 5, True, 'hi', 66.4, 'python']\n"
     ]
    }
   ],
   "source": [
    "# insert a value at a specific index\n",
    "x.insert(2,False)\n",
    "print(x)"
   ]
  },
  {
   "cell_type": "code",
   "execution_count": 20,
   "metadata": {},
   "outputs": [
    {
     "name": "stdout",
     "output_type": "stream",
     "text": [
      "[10, 4, False, 5, True, 'hi', 66.4, 'python']\n"
     ]
    }
   ],
   "source": [
    "# replace a vlaue by using \"=\" operator\n",
    "x[0] = 10\n",
    "print(x)"
   ]
  },
  {
   "cell_type": "code",
   "execution_count": 21,
   "metadata": {},
   "outputs": [
    {
     "name": "stdout",
     "output_type": "stream",
     "text": [
      "[10, 4, False, 5, 'hi', 66.4, 'python']\n"
     ]
    }
   ],
   "source": [
    "# remove a value\n",
    "x.remove(True)\n",
    "print(x)"
   ]
  },
  {
   "cell_type": "code",
   "execution_count": 22,
   "metadata": {},
   "outputs": [
    {
     "name": "stdout",
     "output_type": "stream",
     "text": [
      "[10, False, 5, 'hi', 66.4, 'python']\n"
     ]
    }
   ],
   "source": [
    "# remove a value using position\n",
    "x.pop(1)\n",
    "print(x)"
   ]
  },
  {
   "cell_type": "markdown",
   "metadata": {},
   "source": [
    "### Tuple\n",
    "- used to store a collection of values\n",
    "- supports repeatation, values of multiple data types\n",
    "- tuples are immutable, can not be modified\n",
    "- can be created using smaller/lower/round brackets ()"
   ]
  },
  {
   "cell_type": "code",
   "execution_count": 23,
   "metadata": {},
   "outputs": [
    {
     "name": "stdout",
     "output_type": "stream",
     "text": [
      "(3, 4, 54, 3, 'hii', True)\n"
     ]
    },
    {
     "data": {
      "text/plain": [
       "tuple"
      ]
     },
     "execution_count": 23,
     "metadata": {},
     "output_type": "execute_result"
    }
   ],
   "source": [
    "y = (3,4,54,3,'hii',True)\n",
    "print(y)\n",
    "type(y)"
   ]
  },
  {
   "cell_type": "code",
   "execution_count": 24,
   "metadata": {},
   "outputs": [
    {
     "data": {
      "text/plain": [
       "6"
      ]
     },
     "execution_count": 24,
     "metadata": {},
     "output_type": "execute_result"
    }
   ],
   "source": [
    "len(y)"
   ]
  },
  {
   "cell_type": "code",
   "execution_count": 26,
   "metadata": {},
   "outputs": [
    {
     "name": "stdout",
     "output_type": "stream",
     "text": [
      "3\n",
      "hii\n"
     ]
    }
   ],
   "source": [
    "# indexing: similar to lists\n",
    "print(y[0])\n",
    "print(y[4])"
   ]
  },
  {
   "cell_type": "code",
   "execution_count": 27,
   "metadata": {},
   "outputs": [
    {
     "name": "stdout",
     "output_type": "stream",
     "text": [
      "(3, 'hii', True)\n"
     ]
    }
   ],
   "source": [
    "# slicing: similar to lists\n",
    "print(y[3:6])"
   ]
  },
  {
   "cell_type": "code",
   "execution_count": 28,
   "metadata": {},
   "outputs": [
    {
     "ename": "TypeError",
     "evalue": "'tuple' object does not support item assignment",
     "output_type": "error",
     "traceback": [
      "\u001b[31m---------------------------------------------------------------------------\u001b[39m",
      "\u001b[31mTypeError\u001b[39m                                 Traceback (most recent call last)",
      "\u001b[36mCell\u001b[39m\u001b[36m \u001b[39m\u001b[32mIn[28]\u001b[39m\u001b[32m, line 1\u001b[39m\n\u001b[32m----> \u001b[39m\u001b[32m1\u001b[39m \u001b[43my\u001b[49m\u001b[43m[\u001b[49m\u001b[32;43m1\u001b[39;49m\u001b[43m]\u001b[49m = \u001b[32m20\u001b[39m\n",
      "\u001b[31mTypeError\u001b[39m: 'tuple' object does not support item assignment"
     ]
    }
   ],
   "source": [
    "y[1] = 20"
   ]
  },
  {
   "cell_type": "markdown",
   "metadata": {},
   "source": [
    "### Dictionary\n",
    "- used to store a collection of key:value pairs\n",
    "- keys has to be unique, values can repeat, \n",
    "- mutable object:  modification can be done\n",
    "- can be created using curly/middle/flower brackets : { }"
   ]
  },
  {
   "cell_type": "code",
   "execution_count": 30,
   "metadata": {},
   "outputs": [
    {
     "name": "stdout",
     "output_type": "stream",
     "text": [
      "{'name': 'Anshu', 'age': 45, 'city': 'DEL'}\n"
     ]
    },
    {
     "data": {
      "text/plain": [
       "dict"
      ]
     },
     "execution_count": 30,
     "metadata": {},
     "output_type": "execute_result"
    }
   ],
   "source": [
    "z = {\"name\":\"Anshu\",'age':45,'city':'DEL'}\n",
    "print(z)\n",
    "type(z)"
   ]
  },
  {
   "cell_type": "code",
   "execution_count": 31,
   "metadata": {},
   "outputs": [
    {
     "data": {
      "text/plain": [
       "3"
      ]
     },
     "execution_count": 31,
     "metadata": {},
     "output_type": "execute_result"
    }
   ],
   "source": [
    "len(z)"
   ]
  },
  {
   "cell_type": "code",
   "execution_count": 32,
   "metadata": {},
   "outputs": [
    {
     "name": "stdout",
     "output_type": "stream",
     "text": [
      "Anshu\n"
     ]
    }
   ],
   "source": [
    "# indxing: can be done using keys\n",
    "print(z['name'])"
   ]
  },
  {
   "cell_type": "code",
   "execution_count": 33,
   "metadata": {},
   "outputs": [
    {
     "name": "stdout",
     "output_type": "stream",
     "text": [
      "{'name': 'Anshu', 'age': 45, 'city': 'DEL', 'laptop': 'hp'}\n"
     ]
    }
   ],
   "source": [
    "# add a new key vlaue pair\n",
    "z['laptop'] = 'hp'\n",
    "print(z)"
   ]
  },
  {
   "cell_type": "code",
   "execution_count": 34,
   "metadata": {},
   "outputs": [
    {
     "name": "stdout",
     "output_type": "stream",
     "text": [
      "{'name': 'Anshu', 'age': 45, 'laptop': 'hp'}\n"
     ]
    }
   ],
   "source": [
    "# remove a key value [air by using key\n",
    "z.pop('city')\n",
    "print(z)"
   ]
  },
  {
   "cell_type": "code",
   "execution_count": 35,
   "metadata": {},
   "outputs": [
    {
     "name": "stdout",
     "output_type": "stream",
     "text": [
      "{'name': 'Anshu', 'age': 35, 'laptop': 'hp'}\n"
     ]
    }
   ],
   "source": [
    "# replace value for a key\n",
    "z['age'] = 35\n",
    "print(z)"
   ]
  },
  {
   "cell_type": "markdown",
   "metadata": {},
   "source": [
    "### set\n",
    "- used to store a collection of values\n",
    "- does not support repeatation, supports multiple data types\n",
    "- mutable\n",
    "- primarly designed for set theory operation: union, intersection\n",
    "- can be created usign curly/middle/flower brackets: { }"
   ]
  },
  {
   "cell_type": "code",
   "execution_count": 36,
   "metadata": {},
   "outputs": [
    {
     "name": "stdout",
     "output_type": "stream",
     "text": [
      "{3, 4, 5, 6}\n"
     ]
    },
    {
     "data": {
      "text/plain": [
       "set"
      ]
     },
     "execution_count": 36,
     "metadata": {},
     "output_type": "execute_result"
    }
   ],
   "source": [
    "k = {3,3,4,5,6,4,3,5}\n",
    "print(k)\n",
    "type(k)"
   ]
  },
  {
   "cell_type": "code",
   "execution_count": 37,
   "metadata": {},
   "outputs": [
    {
     "data": {
      "text/plain": [
       "{3, 4, 5, 6, 8, 9}"
      ]
     },
     "execution_count": 37,
     "metadata": {},
     "output_type": "execute_result"
    }
   ],
   "source": [
    "h = {4,5,6,8,9}\n",
    "k.union(h)"
   ]
  },
  {
   "cell_type": "code",
   "execution_count": 38,
   "metadata": {},
   "outputs": [
    {
     "data": {
      "text/plain": [
       "{4, 5, 6}"
      ]
     },
     "execution_count": 38,
     "metadata": {},
     "output_type": "execute_result"
    }
   ],
   "source": [
    "k.intersection(h)"
   ]
  },
  {
   "cell_type": "code",
   "execution_count": 39,
   "metadata": {},
   "outputs": [
    {
     "name": "stdout",
     "output_type": "stream",
     "text": [
      "{4, 5, 6}\n"
     ]
    }
   ],
   "source": [
    "k.remove(3)\n",
    "print(k)"
   ]
  },
  {
   "cell_type": "code",
   "execution_count": 40,
   "metadata": {},
   "outputs": [
    {
     "name": "stdout",
     "output_type": "stream",
     "text": [
      "{4, 5, 6, 12}\n"
     ]
    }
   ],
   "source": [
    "k.add(12)\n",
    "print(k)"
   ]
  },
  {
   "cell_type": "markdown",
   "metadata": {},
   "source": [
    "## Python Control Flow\n",
    "### COnditional Statements"
   ]
  },
  {
   "cell_type": "code",
   "execution_count": 42,
   "metadata": {},
   "outputs": [
    {
     "name": "stdout",
     "output_type": "stream",
     "text": [
      "x is smaller than 10\n",
      " value of x is less than 10\n",
      "Thank You\n"
     ]
    }
   ],
   "source": [
    "x = 8\n",
    "\n",
    "if x<10:\n",
    "    print(\"x is smaller than 10\")\n",
    "    print(\" value of x is less than 10\")\n",
    "print(\"Thank You\")"
   ]
  },
  {
   "cell_type": "code",
   "execution_count": 43,
   "metadata": {},
   "outputs": [
    {
     "name": "stdout",
     "output_type": "stream",
     "text": [
      "you can vote and contest for election\n"
     ]
    }
   ],
   "source": [
    "age = 20\n",
    "\n",
    "if age<=18:\n",
    "    print(\"you are underage and cannot vote\")\n",
    "elif age>18 and age<70:\n",
    "    print(\"you can vote and contest for election\")\n",
    "else:\n",
    "    print(\"you are above 70, its time to retire from politics\")\n"
   ]
  },
  {
   "cell_type": "markdown",
   "metadata": {},
   "source": [
    "## Loops\n",
    " - for loop: when exact count of repeatation is known\n",
    " - while loop: when exact count of repeatation is not known: condition based repeatation"
   ]
  },
  {
   "cell_type": "code",
   "execution_count": null,
   "metadata": {},
   "outputs": [],
   "source": [
    "print(\"hello from python\")\n",
    "print(\"hello from python\")\n",
    "print(\"hello from python\")"
   ]
  },
  {
   "cell_type": "code",
   "execution_count": null,
   "metadata": {},
   "outputs": [],
   "source": [
    "for i in range(3):\n",
    "    print(\"hello from python\")"
   ]
  },
  {
   "cell_type": "code",
   "execution_count": null,
   "metadata": {},
   "outputs": [],
   "source": [
    "for i in range(3):\n",
    "    print(\"hello from python\",i)"
   ]
  },
  {
   "cell_type": "code",
   "execution_count": null,
   "metadata": {},
   "outputs": [],
   "source": [
    "for i in range(2,10):\n",
    "    print(\"hello from python\",i)"
   ]
  },
  {
   "cell_type": "code",
   "execution_count": null,
   "metadata": {},
   "outputs": [],
   "source": [
    "for i in range(2,10,2):\n",
    "    print(\"hello from python\",i)"
   ]
  },
  {
   "cell_type": "code",
   "execution_count": null,
   "metadata": {},
   "outputs": [],
   "source": [
    "citynames = ['DEL','BOM','CCU','BLR']\n",
    "for city in citynames:\n",
    "    print(city)"
   ]
  },
  {
   "cell_type": "code",
   "execution_count": 8,
   "metadata": {},
   "outputs": [
    {
     "name": "stdout",
     "output_type": "stream",
     "text": [
      "hi from Python\n",
      "hi from Python\n",
      "hi from Python\n",
      "hi from Python\n",
      "hi from Python\n",
      "hi from Python\n",
      "hi from Python\n",
      "hi from Python\n",
      "hi from Python\n",
      "hi from Python\n"
     ]
    }
   ],
   "source": [
    "x = 10\n",
    "while x<20:\n",
    "    print(\"hi from Python\")\n",
    "    x = x+1"
   ]
  },
  {
   "cell_type": "markdown",
   "metadata": {},
   "source": [
    "### Python Functions"
   ]
  },
  {
   "cell_type": "code",
   "execution_count": null,
   "metadata": {},
   "outputs": [],
   "source": [
    "x = [3,4,5,6]\n",
    "print(x)"
   ]
  },
  {
   "cell_type": "code",
   "execution_count": null,
   "metadata": {},
   "outputs": [],
   "source": [
    "print(len(x))\n",
    "print(max(x))\n",
    "print(min(x))\n",
    "print(sum(x))\n",
    "y = reversed(x)\n",
    "print(list(y))"
   ]
  },
  {
   "cell_type": "code",
   "execution_count": null,
   "metadata": {},
   "outputs": [],
   "source": [
    "round(2.34556,2)"
   ]
  },
  {
   "cell_type": "code",
   "execution_count": 18,
   "metadata": {},
   "outputs": [],
   "source": [
    "def morningStar():\n",
    "    print(\"Hello from Mornning Star\")\n",
    "    return None"
   ]
  },
  {
   "cell_type": "code",
   "execution_count": null,
   "metadata": {},
   "outputs": [],
   "source": [
    "morningStar()"
   ]
  },
  {
   "cell_type": "code",
   "execution_count": 20,
   "metadata": {},
   "outputs": [],
   "source": [
    "def morningStar2(M,F):\n",
    "    total = M+F\n",
    "    return total"
   ]
  },
  {
   "cell_type": "code",
   "execution_count": null,
   "metadata": {},
   "outputs": [],
   "source": [
    "morningStar2(10,10)"
   ]
  },
  {
   "cell_type": "code",
   "execution_count": null,
   "metadata": {},
   "outputs": [],
   "source": [
    "def morningStar2(M,F):\n",
    "    \"\"\" \n",
    "    THis function accepts number of Male and Female employees\n",
    "    Retruns: toatl number of employees\n",
    "    \"\"\"\n",
    "    total = M+F\n",
    "    return total"
   ]
  },
  {
   "cell_type": "code",
   "execution_count": 24,
   "metadata": {},
   "outputs": [
    {
     "name": "stdout",
     "output_type": "stream",
     "text": [
      "Help on function morningStar2 in module __main__:\n",
      "\n",
      "morningStar2(M, F)\n",
      "    THis function accepts number of Male and Female employees\n",
      "\n",
      "    Retruns: toatl number of employees\n",
      "\n"
     ]
    }
   ],
   "source": [
    "help(morningStar2)"
   ]
  },
  {
   "cell_type": "markdown",
   "metadata": {},
   "source": [
    "## Python Modules"
   ]
  },
  {
   "cell_type": "code",
   "execution_count": 25,
   "metadata": {},
   "outputs": [],
   "source": [
    "import msbom"
   ]
  },
  {
   "cell_type": "code",
   "execution_count": 26,
   "metadata": {},
   "outputs": [
    {
     "name": "stdout",
     "output_type": "stream",
     "text": [
      "Hello and Welcome to Morning Star\n",
      "Have a great day ahead\n"
     ]
    }
   ],
   "source": [
    "msbom.ms_greet()"
   ]
  },
  {
   "cell_type": "code",
   "execution_count": 27,
   "metadata": {},
   "outputs": [
    {
     "name": "stdout",
     "output_type": "stream",
     "text": [
      "you can enter MorningStar Premises without assistance\n"
     ]
    },
    {
     "data": {
      "text/plain": [
       "True"
      ]
     },
     "execution_count": 27,
     "metadata": {},
     "output_type": "execute_result"
    }
   ],
   "source": [
    "msbom.ms_validate(20)"
   ]
  },
  {
   "cell_type": "code",
   "execution_count": 28,
   "metadata": {},
   "outputs": [],
   "source": [
    "import time"
   ]
  },
  {
   "cell_type": "code",
   "execution_count": 29,
   "metadata": {},
   "outputs": [
    {
     "data": {
      "text/plain": [
       "'Tue Apr  1 02:58:15 2025'"
      ]
     },
     "execution_count": 29,
     "metadata": {},
     "output_type": "execute_result"
    }
   ],
   "source": [
    "time.ctime()"
   ]
  },
  {
   "cell_type": "code",
   "execution_count": 30,
   "metadata": {},
   "outputs": [
    {
     "name": "stdout",
     "output_type": "stream",
     "text": [
      "Hello from Python\n",
      "I am back\n"
     ]
    }
   ],
   "source": [
    "# add delay in code using time.sleep\n",
    "print(\"Hello from Python\")\n",
    "time.sleep(5) # delay for 5 seconds\n",
    "print(\"I am back\")"
   ]
  },
  {
   "cell_type": "code",
   "execution_count": null,
   "metadata": {},
   "outputs": [
    {
     "data": {
      "text/plain": [
       "200"
      ]
     },
     "execution_count": 32,
     "metadata": {},
     "output_type": "execute_result"
    }
   ],
   "source": [
    "import requests\n",
    "import json\n",
    "\n",
    "url = \"https://api.groq.com/openai/v1/chat/completions\"\n",
    "\n",
    "key = \"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\"\n",
    "header = {\"Authorization\":f\"Bearer {key}\",\n",
    "     \"Content-Type\":\"application/json\" }\n",
    "data = {\"messages\": [{\"role\": \"user\", \"content\": \"Explain the importance of quantum Computing\"}], \n",
    "        \"model\": \"llama-3.3-70b-versatile\"}\n",
    "\n",
    "data = json.dumps(data)\n",
    "\n",
    "response = requests.post(url=url,data=data,headers=header)\n",
    "response.status_code"
   ]
  },
  {
   "cell_type": "code",
   "execution_count": 38,
   "metadata": {},
   "outputs": [
    {
     "data": {
      "text/plain": [
       "\"Quantum computing is a revolutionary technology that has the potential to transform various fields and industries. The importance of quantum computing can be understood from several perspectives:\\n\\n1. **Speed and Efficiency**: Quantum computers can solve complex problems much faster than classical computers. They can process vast amounts of data in parallel, making them ideal for tasks like cryptography, optimization, and machine learning.\\n2. **Simulation and Modeling**: Quantum computers can simulate complex systems, such as molecules and materials, more accurately and efficiently than classical computers. This can lead to breakthroughs in fields like chemistry, materials science, and pharmaceuticals.\\n3. **Cryptography and Security**: Quantum computers can potentially break many encryption algorithms currently in use, but they can also be used to create new, quantum-resistant encryption methods. This ensures the security of sensitive information and protects against potential cyber threats.\\n4. **Optimization and Logistics**: Quantum computers can efficiently solve complex optimization problems, which can lead to significant improvements in fields like logistics, supply chain management, and finance.\\n5. **Artificial Intelligence and Machine Learning**: Quantum computers can accelerate machine learning algorithms, enabling faster and more accurate pattern recognition, image classification, and natural language processing.\\n6. **Scientific Research**: Quantum computers can help scientists simulate complex systems, model complex phenomena, and analyze large datasets, leading to new discoveries and insights in fields like physics, chemistry, and biology.\\n7. **Healthcare and Medicine**: Quantum computers can help researchers analyze large medical datasets, simulate complex biological systems, and optimize treatment plans, leading to breakthroughs in personalized medicine and disease diagnosis.\\n8. **Environmental Sustainability**: Quantum computers can help optimize energy consumption, reduce waste, and improve resource allocation, leading to more sustainable and environmentally friendly practices.\\n\\nThe potential applications of quantum computing are vast and varied, and its importance can be seen in several areas:\\n\\n1. **Competitive Advantage**: Organizations that adopt quantum computing early can gain a significant competitive advantage over those that do not.\\n2. **Innovation and R&D**: Quantum computing can accelerate innovation and research and development in various fields, leading to new products, services, and industries.\\n3. **Economic Growth**: Quantum computing can contribute to economic growth by creating new job opportunities, increasing productivity, and improving efficiency.\\n4. **National Security**: Quantum computing can help protect national security by developing new encryption methods and breaking existing ones, ensuring the security of sensitive information.\\n5. **Scientific Progress**: Quantum computing can advance scientific knowledge and understanding, leading to new breakthroughs and discoveries that can benefit humanity as a whole.\\n\\nHowever, it's essential to note that quantum computing is still a developing field, and significant technical and practical challenges need to be overcome before its full potential can be realized. Nevertheless, the importance of quantum computing is undeniable, and its potential to transform various aspects of our lives and society is vast and exciting.\""
      ]
     },
     "execution_count": 38,
     "metadata": {},
     "output_type": "execute_result"
    }
   ],
   "source": [
    "res = response.content.decode()\n",
    "res = json.loads(res)\n",
    "res['choices'][0]['message']['content']"
   ]
  },
  {
   "cell_type": "code",
   "execution_count": null,
   "metadata": {},
   "outputs": [],
   "source": []
  }
 ],
 "metadata": {
  "kernelspec": {
   "display_name": "Python 3",
   "language": "python",
   "name": "python3"
  },
  "language_info": {
   "codemirror_mode": {
    "name": "ipython",
    "version": 3
   },
   "file_extension": ".py",
   "mimetype": "text/x-python",
   "name": "python",
   "nbconvert_exporter": "python",
   "pygments_lexer": "ipython3",
   "version": "3.13.2"
  }
 },
 "nbformat": 4,
 "nbformat_minor": 2
}
